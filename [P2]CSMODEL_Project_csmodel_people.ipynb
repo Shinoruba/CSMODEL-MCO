{
  "nbformat": 4,
  "nbformat_minor": 0,
  "metadata": {
    "colab": {
      "provenance": [],
      "collapsed_sections": [
        "NwI6WKE02VVO",
        "_P8Xy_cZEo_S",
        "RWCkyJUqhoB5"
      ]
    },
    "kernelspec": {
      "name": "python3",
      "display_name": "Python 3"
    },
    "language_info": {
      "name": "python"
    }
  },
  "cells": [
    {
      "cell_type": "markdown",
      "source": [
        "Canvas Group: csmodel people\n",
        "\n",
        "**HOMSSI, Yazan (S12)**\n",
        "\n",
        "**MATA, Maria Sarah Althea (S12)**\n",
        "\n",
        "**OLIVARES, Marc Yuri (S12)**\n",
        "\n",
        "**TIENG, Eiden Bryce (S11)**\n",
        "\n",
        "**VILLADAREZ, Jorel (S11)**"
      ],
      "metadata": {
        "id": "ZKIuNVmtFkkT"
      }
    },
    {
      "cell_type": "markdown",
      "source": [
        "### Imports and Reading the Dataset"
      ],
      "metadata": {
        "id": "NwI6WKE02VVO"
      }
    },
    {
      "cell_type": "code",
      "source": [
        "import numpy as np\n",
        "import pandas as pd\n",
        "import matplotlib.pyplot as plt\n",
        "import seaborn as sns"
      ],
      "metadata": {
        "id": "YVUP6lTqyLHR"
      },
      "execution_count": null,
      "outputs": []
    },
    {
      "cell_type": "code",
      "source": [
        "# for local import\n",
        "pokedex_df = pd.read_csv('pokedex.csv')"
      ],
      "metadata": {
        "id": "GSmemHzI_ciY"
      },
      "execution_count": null,
      "outputs": []
    },
    {
      "cell_type": "code",
      "source": [
        "# for Google Drive import\n",
        "from google.colab import drive\n",
        "\n",
        "drive.mount('/content/gdrive/')\n",
        "\n",
        "pokedex_df = pd.read_csv('/content/gdrive/MyDrive/CSMODEL MCO/pokedex.csv')"
      ],
      "metadata": {
        "id": "cJ9JgUAMxbrK",
        "colab": {
          "base_uri": "https://localhost:8080/"
        },
        "outputId": "f07ade68-e979-49ff-b78f-b4b1ef0252a8"
      },
      "execution_count": null,
      "outputs": [
        {
          "output_type": "stream",
          "name": "stdout",
          "text": [
            "Mounted at /content/gdrive/\n"
          ]
        }
      ]
    },
    {
      "cell_type": "markdown",
      "source": [
        "# **Dataset Description**\n",
        "The dataset chosen is titled [Complete Pokemon Dataset (Updated 16.04.21)](https://www.kaggle.com/datasets/mariotormo/complete-pokemon-dataset-updated-090420). It contains complete information about 1045 Pokemon, from their names and types to their stats, similar to the in-game Pokedex. This dataset was built with web data mining from popular Pokemon information websites, [Pokemon Database](https://pokemondb.net) and [Serebii.net](serebii.net). Each row is a different Pokemon/Pokemon variant, while each column represents the different stats and information of each Pokemon. The dataset contains 1045 rows, or 1045 observations/Pokemon, and 51 columns, or 51 variables/stats."
      ],
      "metadata": {
        "id": "_P8Xy_cZEo_S"
      }
    },
    {
      "cell_type": "code",
      "source": [
        "# Count the number of observations in pokedex_df\n",
        "num_observations = len(pokedex_df)\n",
        "# Count the number of variables in pokedex_df\n",
        "num_variables = pokedex_df.shape[1]\n",
        "\n",
        "print(\"Number of observations:\", num_observations)\n",
        "print(\"Number of variables:\", num_variables)"
      ],
      "metadata": {
        "colab": {
          "base_uri": "https://localhost:8080/"
        },
        "id": "DsC2H8IjTNzE",
        "outputId": "814350f3-6ce9-4f3b-f6f1-72e6e15dceec"
      },
      "execution_count": null,
      "outputs": [
        {
          "output_type": "stream",
          "name": "stdout",
          "text": [
            "Number of observations: 1045\n",
            "Number of variables: 51\n"
          ]
        }
      ]
    },
    {
      "cell_type": "markdown",
      "source": [
        "## Variables\n",
        "* *`pokedex_number`: entry number of the Pokemon in the National Pokedex\n",
        "* *`name`: English name of the Pokemon\n",
        "* `german_name`: German name of the Pokemon\n",
        "* `japanese_name`: Original Japanese name of the Pokemon\n",
        "* *`generation`: The numbered generation which the Pokemon was first introduced\n",
        "* *`status`: denotes if a Pokemon is Normal, Sub-Legendary, Legendary, or Mythical\n",
        "* `species`: Category of the Pokemon\n",
        "* `type_number`: Number of types that the Pokemon has\n",
        "* *`type_1`: Primary Type of the Pokemon\n",
        "* *`type_2`: Secondary Type of the Pokemon if it has one\n",
        "* *`height_m`: Height of the Pokemon in meters\n",
        "* *`weight_kg`: Weight of the Pokemon in kilograms\n",
        "* `abilities_number`: number of abilities of the Pokemon\n",
        "* *`ability_?`: Name of the Pokemon's abilities\n",
        "* *`ability_hidden`: Name of the hidden ability of the Pokemon if it has one\n",
        "* *`total_points`: Total number of Base Points of the Pokemon\n",
        "* *`hp`: Base HP of the Pokemon\n",
        "* *`attack`: Base Attack of the Pokemon\n",
        "* *`defense`: Base Defense of the Pokemon\n",
        "* *`sp_attack`: Base Special Attack of the Pokemon\n",
        "* *`sp_defense`: Base Special Defense of the Pokemon\n",
        "* *`speed`: Base Speed of the Pokemon\n",
        "* *`catch_rate`: Catch Rate of the Pokemon\n",
        "* `base_friendship`: Base Friendship of the Pokemon\n",
        "* *`base_experience`: Base experience of a wild Pokemon when caught\n",
        "* *`growth_rate`: Growth Rate of the Pokemon\n",
        "* `egg_type_number`: Number of groups where a Pokemon can hatch\n",
        "* `egg_type_`?: Names of the egg groups where a Pokemon can hatch\n",
        "* `percentage_male`: percentage of the species that are male. Blank if the Pokemon is genderless\n",
        "* `egg_cycles`: The number of cycles (255-257 steps) required to hatch an egg of the Pokemon\n",
        "* `against_?`: Eighteen features that denote the amount of damage taken against an attack of a particular type\n",
        "\n",
        "*variables that will be used in the study."
      ],
      "metadata": {
        "id": "mbNlEbf5QPZb"
      }
    },
    {
      "cell_type": "markdown",
      "source": [
        "# **Data Cleaning**"
      ],
      "metadata": {
        "id": "RWCkyJUqhoB5"
      }
    },
    {
      "cell_type": "markdown",
      "source": [
        "## **Checking**"
      ],
      "metadata": {
        "id": "RWNwcwGFTPjc"
      }
    },
    {
      "cell_type": "markdown",
      "source": [
        "### Summary of the Dataframe"
      ],
      "metadata": {
        "id": "E59cTzEo20jR"
      }
    },
    {
      "cell_type": "markdown",
      "source": [
        "A new dataframe called `study_df` will be made that contains only the variables that will be used in the study. Then, the new dataframe's general information will be shown. It displays every variable, the number of non-null entries in each variable, and its data type. We can use this to check for inconsistencies in count and data type."
      ],
      "metadata": {
        "id": "-MlnU4iD15nj"
      }
    },
    {
      "cell_type": "code",
      "source": [
        "# Make an array of the names of the variables that will be used\n",
        "variables = ['pokedex_number', 'name', 'generation', 'status', 'type_1', 'type_2', 'height_m', 'weight_kg', 'ability_1', 'ability_2', 'ability_hidden', 'total_points', 'hp', 'attack', 'defense', 'sp_attack', 'sp_defense', 'speed', 'catch_rate', 'base_experience', 'growth_rate']\n",
        "\n",
        "# Make a new dataframe using only those variables\n",
        "study_df = pokedex_df[variables].copy()\n",
        "\n",
        "study_df.info()"
      ],
      "metadata": {
        "colab": {
          "base_uri": "https://localhost:8080/"
        },
        "id": "s_r3MBK6i6Q5",
        "outputId": "17b1425f-e8dc-4d7f-9b32-93beb7ccacb9"
      },
      "execution_count": null,
      "outputs": [
        {
          "output_type": "stream",
          "name": "stdout",
          "text": [
            "<class 'pandas.core.frame.DataFrame'>\n",
            "RangeIndex: 1045 entries, 0 to 1044\n",
            "Data columns (total 21 columns):\n",
            " #   Column           Non-Null Count  Dtype  \n",
            "---  ------           --------------  -----  \n",
            " 0   pokedex_number   1045 non-null   int64  \n",
            " 1   name             1045 non-null   object \n",
            " 2   generation       1045 non-null   int64  \n",
            " 3   status           1045 non-null   object \n",
            " 4   type_1           1045 non-null   object \n",
            " 5   type_2           553 non-null    object \n",
            " 6   height_m         1045 non-null   float64\n",
            " 7   weight_kg        1044 non-null   float64\n",
            " 8   ability_1        1042 non-null   object \n",
            " 9   ability_2        516 non-null    object \n",
            " 10  ability_hidden   813 non-null    object \n",
            " 11  total_points     1045 non-null   int64  \n",
            " 12  hp               1045 non-null   int64  \n",
            " 13  attack           1045 non-null   int64  \n",
            " 14  defense          1045 non-null   int64  \n",
            " 15  sp_attack        1045 non-null   int64  \n",
            " 16  sp_defense       1045 non-null   int64  \n",
            " 17  speed            1045 non-null   int64  \n",
            " 18  catch_rate       1027 non-null   float64\n",
            " 19  base_experience  925 non-null    float64\n",
            " 20  growth_rate      1044 non-null   object \n",
            "dtypes: float64(4), int64(9), object(8)\n",
            "memory usage: 171.6+ KB\n"
          ]
        }
      ]
    },
    {
      "cell_type": "markdown",
      "source": [
        "We can see from the information above that there are variables that are incomplete when they should be complete, i.e., `catch_rate` and `base_experience`.\n",
        "\n",
        "Other variables are incomplete because they are either optional or are exceptions.\n",
        "* **Partner Pikachu**, **Partner Eevee**, and **Eternatus Eternamax** do not have values in `ability_1` because they naturally do not have abilities in-game.\n",
        "* **Eternatus Eternamax** is the only Pokemon with no `weight_kg` value. [Pokemon Database](https://pokemondb.net/pokedex/eternatus) lists its weight as \"—\" while [Serebii.net](https://www.serebii.net/pokedex-swsh/eternatus/) lists it as \"????kg\"\n",
        "\n",
        "The variables' data types are also all accurate, which means no data type cleaning is necessary."
      ],
      "metadata": {
        "id": "F8Bn0LH4nkqi"
      }
    },
    {
      "cell_type": "markdown",
      "source": [
        "We can check for formatting and spelling errors in the values of categorical variables."
      ],
      "metadata": {
        "id": "0vagPV_rFTlx"
      }
    },
    {
      "cell_type": "code",
      "source": [
        "study_df['generation'].unique()"
      ],
      "metadata": {
        "colab": {
          "base_uri": "https://localhost:8080/"
        },
        "id": "MkVCzDGUFm5s",
        "outputId": "82eb1582-a26f-42f2-dda7-1f0a0eaeae36"
      },
      "execution_count": null,
      "outputs": [
        {
          "output_type": "execute_result",
          "data": {
            "text/plain": [
              "array([1, 8, 2, 3, 4, 5, 6, 7])"
            ]
          },
          "metadata": {},
          "execution_count": 6
        }
      ]
    },
    {
      "cell_type": "code",
      "source": [
        "study_df['status'].unique()"
      ],
      "metadata": {
        "colab": {
          "base_uri": "https://localhost:8080/"
        },
        "id": "PwplP36szPc_",
        "outputId": "62bcea97-0195-47ff-e870-1ac5e5c41eea"
      },
      "execution_count": null,
      "outputs": [
        {
          "output_type": "execute_result",
          "data": {
            "text/plain": [
              "array(['Normal', 'Sub Legendary', 'Legendary', 'Mythical'], dtype=object)"
            ]
          },
          "metadata": {},
          "execution_count": 7
        }
      ]
    },
    {
      "cell_type": "code",
      "source": [
        "study_df['type_1'].unique()"
      ],
      "metadata": {
        "colab": {
          "base_uri": "https://localhost:8080/"
        },
        "id": "_M1VidekFwpr",
        "outputId": "77113c82-1816-490f-9a9e-d7e9346b43cb"
      },
      "execution_count": null,
      "outputs": [
        {
          "output_type": "execute_result",
          "data": {
            "text/plain": [
              "array(['Grass', 'Fire', 'Water', 'Bug', 'Normal', 'Dark', 'Poison',\n",
              "       'Electric', 'Ground', 'Ice', 'Fairy', 'Steel', 'Fighting',\n",
              "       'Psychic', 'Rock', 'Ghost', 'Dragon', 'Flying'], dtype=object)"
            ]
          },
          "metadata": {},
          "execution_count": 8
        }
      ]
    },
    {
      "cell_type": "code",
      "source": [
        "study_df['type_2'].unique()"
      ],
      "metadata": {
        "colab": {
          "base_uri": "https://localhost:8080/"
        },
        "id": "YHMmAe6pIYKg",
        "outputId": "24480c14-be5c-4c04-fefc-2dcef1140e7f"
      },
      "execution_count": null,
      "outputs": [
        {
          "output_type": "execute_result",
          "data": {
            "text/plain": [
              "array(['Poison', nan, 'Flying', 'Dragon', 'Normal', 'Psychic', 'Steel',\n",
              "       'Ground', 'Fairy', 'Grass', 'Fighting', 'Electric', 'Ice', 'Dark',\n",
              "       'Ghost', 'Rock', 'Water', 'Fire', 'Bug'], dtype=object)"
            ]
          },
          "metadata": {},
          "execution_count": 9
        }
      ]
    },
    {
      "cell_type": "code",
      "source": [
        "study_df['growth_rate'].unique()"
      ],
      "metadata": {
        "colab": {
          "base_uri": "https://localhost:8080/"
        },
        "id": "lTdqTlr7PoSp",
        "outputId": "d62a113b-e81d-425a-ae8d-836ef393e399"
      },
      "execution_count": null,
      "outputs": [
        {
          "output_type": "execute_result",
          "data": {
            "text/plain": [
              "array(['Medium Slow', 'Medium Fast', 'Fast', 'Slow', 'Fluctuating',\n",
              "       'Erratic', nan], dtype=object)"
            ]
          },
          "metadata": {},
          "execution_count": 10
        }
      ]
    },
    {
      "cell_type": "markdown",
      "source": [
        "There are no errors in the formatting and spelling of the values in categorical variables, except for `growth_rate`."
      ],
      "metadata": {
        "id": "wDmik8LWIyfF"
      }
    },
    {
      "cell_type": "markdown",
      "source": [
        "We can check for \"suspicious values\" like having `-1` as a default value."
      ],
      "metadata": {
        "id": "XVq-lOEPJFqs"
      }
    },
    {
      "cell_type": "code",
      "source": [
        "print(study_df[study_df['pokedex_number'] < 0])\n",
        "print(study_df[study_df['pokedex_number'] > 1044])"
      ],
      "metadata": {
        "colab": {
          "base_uri": "https://localhost:8080/"
        },
        "id": "k8QW4CCXJwKu",
        "outputId": "90b85a57-72b8-4ca3-ef00-73b3a0da9716"
      },
      "execution_count": null,
      "outputs": [
        {
          "output_type": "stream",
          "name": "stdout",
          "text": [
            "Empty DataFrame\n",
            "Columns: [pokedex_number, name, generation, status, type_1, type_2, height_m, weight_kg, ability_1, ability_2, ability_hidden, total_points, hp, attack, defense, sp_attack, sp_defense, speed, catch_rate, base_experience, growth_rate]\n",
            "Index: []\n",
            "\n",
            "[0 rows x 21 columns]\n",
            "Empty DataFrame\n",
            "Columns: [pokedex_number, name, generation, status, type_1, type_2, height_m, weight_kg, ability_1, ability_2, ability_hidden, total_points, hp, attack, defense, sp_attack, sp_defense, speed, catch_rate, base_experience, growth_rate]\n",
            "Index: []\n",
            "\n",
            "[0 rows x 21 columns]\n"
          ]
        }
      ]
    },
    {
      "cell_type": "code",
      "source": [
        "print(study_df[study_df['height_m'] < 0])\n",
        "print(study_df[study_df['height_m'] > 100]) # The tallest Pokemon is Eternatus Eternamax, at 100 meters"
      ],
      "metadata": {
        "colab": {
          "base_uri": "https://localhost:8080/"
        },
        "id": "eCUuu5WiKCeD",
        "outputId": "dadf1bc7-ed71-4c3e-bb31-ea343b8f5082"
      },
      "execution_count": null,
      "outputs": [
        {
          "output_type": "stream",
          "name": "stdout",
          "text": [
            "Empty DataFrame\n",
            "Columns: [pokedex_number, name, generation, status, type_1, type_2, height_m, weight_kg, ability_1, ability_2, ability_hidden, total_points, hp, attack, defense, sp_attack, sp_defense, speed, catch_rate, base_experience, growth_rate]\n",
            "Index: []\n",
            "\n",
            "[0 rows x 21 columns]\n",
            "Empty DataFrame\n",
            "Columns: [pokedex_number, name, generation, status, type_1, type_2, height_m, weight_kg, ability_1, ability_2, ability_hidden, total_points, hp, attack, defense, sp_attack, sp_defense, speed, catch_rate, base_experience, growth_rate]\n",
            "Index: []\n",
            "\n",
            "[0 rows x 21 columns]\n"
          ]
        }
      ]
    },
    {
      "cell_type": "code",
      "source": [
        "print(study_df[study_df['weight_kg'] < 0])\n",
        "print(study_df[study_df['weight_kg'] > 999.9]) # The heaviest Pokemon are Cosmoem and Celesteela, both at 999.9 kg"
      ],
      "metadata": {
        "colab": {
          "base_uri": "https://localhost:8080/"
        },
        "id": "6LoE8d-pKIza",
        "outputId": "94d80087-abb5-4789-aa0c-d4f088832a86"
      },
      "execution_count": null,
      "outputs": [
        {
          "output_type": "stream",
          "name": "stdout",
          "text": [
            "Empty DataFrame\n",
            "Columns: [pokedex_number, name, generation, status, type_1, type_2, height_m, weight_kg, ability_1, ability_2, ability_hidden, total_points, hp, attack, defense, sp_attack, sp_defense, speed, catch_rate, base_experience, growth_rate]\n",
            "Index: []\n",
            "\n",
            "[0 rows x 21 columns]\n",
            "Empty DataFrame\n",
            "Columns: [pokedex_number, name, generation, status, type_1, type_2, height_m, weight_kg, ability_1, ability_2, ability_hidden, total_points, hp, attack, defense, sp_attack, sp_defense, speed, catch_rate, base_experience, growth_rate]\n",
            "Index: []\n",
            "\n",
            "[0 rows x 21 columns]\n"
          ]
        }
      ]
    },
    {
      "cell_type": "code",
      "source": [
        "print(study_df[study_df['total_points'] < 0])\n",
        "print(study_df[study_df['total_points'] > 1125]) # The Pokemon with the highest stat total is Eternatus Eternamax, at 1125"
      ],
      "metadata": {
        "colab": {
          "base_uri": "https://localhost:8080/"
        },
        "id": "MF2t9lLHKMBn",
        "outputId": "7774596a-ce1b-47bc-d637-e2dfa4e76485"
      },
      "execution_count": null,
      "outputs": [
        {
          "output_type": "stream",
          "name": "stdout",
          "text": [
            "Empty DataFrame\n",
            "Columns: [pokedex_number, name, generation, status, type_1, type_2, height_m, weight_kg, ability_1, ability_2, ability_hidden, total_points, hp, attack, defense, sp_attack, sp_defense, speed, catch_rate, base_experience, growth_rate]\n",
            "Index: []\n",
            "\n",
            "[0 rows x 21 columns]\n",
            "Empty DataFrame\n",
            "Columns: [pokedex_number, name, generation, status, type_1, type_2, height_m, weight_kg, ability_1, ability_2, ability_hidden, total_points, hp, attack, defense, sp_attack, sp_defense, speed, catch_rate, base_experience, growth_rate]\n",
            "Index: []\n",
            "\n",
            "[0 rows x 21 columns]\n"
          ]
        }
      ]
    },
    {
      "cell_type": "code",
      "source": [
        "print(study_df[study_df['hp'] < 0])\n",
        "print(study_df[study_df['hp'] > 255]) # The Pokemon with the highest HP are Blissey and Eternatus Eternamax, at 255"
      ],
      "metadata": {
        "colab": {
          "base_uri": "https://localhost:8080/"
        },
        "id": "xnTgsvJ9KQDp",
        "outputId": "30d9249a-e9fd-4010-8a8e-23a10871b553"
      },
      "execution_count": null,
      "outputs": [
        {
          "output_type": "stream",
          "name": "stdout",
          "text": [
            "Empty DataFrame\n",
            "Columns: [pokedex_number, name, generation, status, type_1, type_2, height_m, weight_kg, ability_1, ability_2, ability_hidden, total_points, hp, attack, defense, sp_attack, sp_defense, speed, catch_rate, base_experience, growth_rate]\n",
            "Index: []\n",
            "\n",
            "[0 rows x 21 columns]\n",
            "Empty DataFrame\n",
            "Columns: [pokedex_number, name, generation, status, type_1, type_2, height_m, weight_kg, ability_1, ability_2, ability_hidden, total_points, hp, attack, defense, sp_attack, sp_defense, speed, catch_rate, base_experience, growth_rate]\n",
            "Index: []\n",
            "\n",
            "[0 rows x 21 columns]\n"
          ]
        }
      ]
    },
    {
      "cell_type": "code",
      "source": [
        "print(study_df[study_df['attack'] < 0])\n",
        "print(study_df[study_df['attack'] > 190]) # The Pokemon with the highest Attack is Mega Mewtwo X, at 190"
      ],
      "metadata": {
        "colab": {
          "base_uri": "https://localhost:8080/"
        },
        "id": "CFfjIc17Nhp5",
        "outputId": "08b5b18c-8280-40da-c811-f9636816e602"
      },
      "execution_count": null,
      "outputs": [
        {
          "output_type": "stream",
          "name": "stdout",
          "text": [
            "Empty DataFrame\n",
            "Columns: [pokedex_number, name, generation, status, type_1, type_2, height_m, weight_kg, ability_1, ability_2, ability_hidden, total_points, hp, attack, defense, sp_attack, sp_defense, speed, catch_rate, base_experience, growth_rate]\n",
            "Index: []\n",
            "\n",
            "[0 rows x 21 columns]\n",
            "Empty DataFrame\n",
            "Columns: [pokedex_number, name, generation, status, type_1, type_2, height_m, weight_kg, ability_1, ability_2, ability_hidden, total_points, hp, attack, defense, sp_attack, sp_defense, speed, catch_rate, base_experience, growth_rate]\n",
            "Index: []\n",
            "\n",
            "[0 rows x 21 columns]\n"
          ]
        }
      ]
    },
    {
      "cell_type": "code",
      "source": [
        "print(study_df[study_df['defense'] < 0])\n",
        "print(study_df[study_df['defense'] > 250]) # The Pokemon with the highest Defense is Eternatus Eternamax, at 250"
      ],
      "metadata": {
        "colab": {
          "base_uri": "https://localhost:8080/"
        },
        "id": "b_BDIVPXOBao",
        "outputId": "e9c57456-c73e-47da-a19e-565ece853714"
      },
      "execution_count": null,
      "outputs": [
        {
          "output_type": "stream",
          "name": "stdout",
          "text": [
            "Empty DataFrame\n",
            "Columns: [pokedex_number, name, generation, status, type_1, type_2, height_m, weight_kg, ability_1, ability_2, ability_hidden, total_points, hp, attack, defense, sp_attack, sp_defense, speed, catch_rate, base_experience, growth_rate]\n",
            "Index: []\n",
            "\n",
            "[0 rows x 21 columns]\n",
            "Empty DataFrame\n",
            "Columns: [pokedex_number, name, generation, status, type_1, type_2, height_m, weight_kg, ability_1, ability_2, ability_hidden, total_points, hp, attack, defense, sp_attack, sp_defense, speed, catch_rate, base_experience, growth_rate]\n",
            "Index: []\n",
            "\n",
            "[0 rows x 21 columns]\n"
          ]
        }
      ]
    },
    {
      "cell_type": "code",
      "source": [
        "print(study_df[study_df['sp_attack'] < 0])\n",
        "print(study_df[study_df['sp_attack'] > 194]) # The Pokemon with the highest Special Attack is Mega Mewtwo Y, at 194"
      ],
      "metadata": {
        "colab": {
          "base_uri": "https://localhost:8080/"
        },
        "id": "0IY4kUqeOKn3",
        "outputId": "9da01bfe-39ba-4bab-e761-416ea050d788"
      },
      "execution_count": null,
      "outputs": [
        {
          "output_type": "stream",
          "name": "stdout",
          "text": [
            "Empty DataFrame\n",
            "Columns: [pokedex_number, name, generation, status, type_1, type_2, height_m, weight_kg, ability_1, ability_2, ability_hidden, total_points, hp, attack, defense, sp_attack, sp_defense, speed, catch_rate, base_experience, growth_rate]\n",
            "Index: []\n",
            "\n",
            "[0 rows x 21 columns]\n",
            "Empty DataFrame\n",
            "Columns: [pokedex_number, name, generation, status, type_1, type_2, height_m, weight_kg, ability_1, ability_2, ability_hidden, total_points, hp, attack, defense, sp_attack, sp_defense, speed, catch_rate, base_experience, growth_rate]\n",
            "Index: []\n",
            "\n",
            "[0 rows x 21 columns]\n"
          ]
        }
      ]
    },
    {
      "cell_type": "code",
      "source": [
        "print(study_df[study_df['sp_defense'] < 0])\n",
        "print(study_df[study_df['sp_defense'] > 250]) # The Pokemon with the highest Special Defense is Eternatus Eternamax, at 250"
      ],
      "metadata": {
        "colab": {
          "base_uri": "https://localhost:8080/"
        },
        "id": "4Nn-yIk4OPEo",
        "outputId": "41ef06fa-c4fc-4c9c-b4cb-1b39232f5a07"
      },
      "execution_count": null,
      "outputs": [
        {
          "output_type": "stream",
          "name": "stdout",
          "text": [
            "Empty DataFrame\n",
            "Columns: [pokedex_number, name, generation, status, type_1, type_2, height_m, weight_kg, ability_1, ability_2, ability_hidden, total_points, hp, attack, defense, sp_attack, sp_defense, speed, catch_rate, base_experience, growth_rate]\n",
            "Index: []\n",
            "\n",
            "[0 rows x 21 columns]\n",
            "Empty DataFrame\n",
            "Columns: [pokedex_number, name, generation, status, type_1, type_2, height_m, weight_kg, ability_1, ability_2, ability_hidden, total_points, hp, attack, defense, sp_attack, sp_defense, speed, catch_rate, base_experience, growth_rate]\n",
            "Index: []\n",
            "\n",
            "[0 rows x 21 columns]\n"
          ]
        }
      ]
    },
    {
      "cell_type": "code",
      "source": [
        "print(study_df[study_df['speed'] < 0])\n",
        "print(study_df[study_df['speed'] > 200]) # The Pokemon with the highest Speed is Regieleki, at 200"
      ],
      "metadata": {
        "colab": {
          "base_uri": "https://localhost:8080/"
        },
        "id": "d55q8OOjOqEj",
        "outputId": "3171ab2c-0f2c-483d-9f73-2cffa5ef675f"
      },
      "execution_count": null,
      "outputs": [
        {
          "output_type": "stream",
          "name": "stdout",
          "text": [
            "Empty DataFrame\n",
            "Columns: [pokedex_number, name, generation, status, type_1, type_2, height_m, weight_kg, ability_1, ability_2, ability_hidden, total_points, hp, attack, defense, sp_attack, sp_defense, speed, catch_rate, base_experience, growth_rate]\n",
            "Index: []\n",
            "\n",
            "[0 rows x 21 columns]\n",
            "Empty DataFrame\n",
            "Columns: [pokedex_number, name, generation, status, type_1, type_2, height_m, weight_kg, ability_1, ability_2, ability_hidden, total_points, hp, attack, defense, sp_attack, sp_defense, speed, catch_rate, base_experience, growth_rate]\n",
            "Index: []\n",
            "\n",
            "[0 rows x 21 columns]\n"
          ]
        }
      ]
    },
    {
      "cell_type": "code",
      "source": [
        "print(study_df[study_df['catch_rate'] < 0])\n",
        "print(study_df[study_df['catch_rate'] > 255]) # The highest possible Catch Rate is 255"
      ],
      "metadata": {
        "colab": {
          "base_uri": "https://localhost:8080/"
        },
        "id": "-HEvVVaKO6NA",
        "outputId": "35319d69-9655-465f-c2ea-aa6e6d84c2d0"
      },
      "execution_count": null,
      "outputs": [
        {
          "output_type": "stream",
          "name": "stdout",
          "text": [
            "Empty DataFrame\n",
            "Columns: [pokedex_number, name, generation, status, type_1, type_2, height_m, weight_kg, ability_1, ability_2, ability_hidden, total_points, hp, attack, defense, sp_attack, sp_defense, speed, catch_rate, base_experience, growth_rate]\n",
            "Index: []\n",
            "\n",
            "[0 rows x 21 columns]\n",
            "Empty DataFrame\n",
            "Columns: [pokedex_number, name, generation, status, type_1, type_2, height_m, weight_kg, ability_1, ability_2, ability_hidden, total_points, hp, attack, defense, sp_attack, sp_defense, speed, catch_rate, base_experience, growth_rate]\n",
            "Index: []\n",
            "\n",
            "[0 rows x 21 columns]\n"
          ]
        }
      ]
    },
    {
      "cell_type": "code",
      "source": [
        "print(study_df[study_df['base_experience'] < 0])\n",
        "print(study_df[study_df['base_experience'] > 608]) # The Pokemon with the highest Base Experience is Blissey, at 608"
      ],
      "metadata": {
        "colab": {
          "base_uri": "https://localhost:8080/"
        },
        "id": "1Cv4OOaPPMKL",
        "outputId": "f8802409-10ed-4292-824e-6e42cd847145"
      },
      "execution_count": null,
      "outputs": [
        {
          "output_type": "stream",
          "name": "stdout",
          "text": [
            "Empty DataFrame\n",
            "Columns: [pokedex_number, name, generation, status, type_1, type_2, height_m, weight_kg, ability_1, ability_2, ability_hidden, total_points, hp, attack, defense, sp_attack, sp_defense, speed, catch_rate, base_experience, growth_rate]\n",
            "Index: []\n",
            "\n",
            "[0 rows x 21 columns]\n",
            "Empty DataFrame\n",
            "Columns: [pokedex_number, name, generation, status, type_1, type_2, height_m, weight_kg, ability_1, ability_2, ability_hidden, total_points, hp, attack, defense, sp_attack, sp_defense, speed, catch_rate, base_experience, growth_rate]\n",
            "Index: []\n",
            "\n",
            "[0 rows x 21 columns]\n"
          ]
        }
      ]
    },
    {
      "cell_type": "markdown",
      "source": [
        "All of the DataFrames to catch Suspicious Values came up empty.\n",
        "\n",
        "We can also check for duplicate values within variables that should have unique entries."
      ],
      "metadata": {
        "id": "sk64Z4KRhjwh"
      }
    },
    {
      "cell_type": "code",
      "source": [
        "# Check for duplicates in the 'name' column\n",
        "name_duplicates = study_df.duplicated(subset=['name'], keep=False)\n",
        "\n",
        "# Display rows with duplicate names\n",
        "name_duplicates_df = study_df[name_duplicates]\n",
        "print(name_duplicates_df[['pokedex_number', 'name']])"
      ],
      "metadata": {
        "colab": {
          "base_uri": "https://localhost:8080/"
        },
        "id": "3tMxgulrh6Ez",
        "outputId": "f3a48aae-cc8b-4529-eb69-b6ba77c13f94"
      },
      "execution_count": null,
      "outputs": [
        {
          "output_type": "stream",
          "name": "stdout",
          "text": [
            "Empty DataFrame\n",
            "Columns: [pokedex_number, name]\n",
            "Index: []\n"
          ]
        }
      ]
    },
    {
      "cell_type": "markdown",
      "source": [
        "There are no duplicate entries in the `name` column."
      ],
      "metadata": {
        "id": "jP-aVDYZAIdQ"
      }
    },
    {
      "cell_type": "markdown",
      "source": [
        "## **Cleaning**"
      ],
      "metadata": {
        "id": "hKgLaYN3TYl0"
      }
    },
    {
      "cell_type": "markdown",
      "source": [
        "### Cleaning `catch_rate`"
      ],
      "metadata": {
        "id": "eCVj0MO62nNd"
      }
    },
    {
      "cell_type": "markdown",
      "source": [
        "The summary showed that there are only 1027 non-null counts for `catch_rate`, when it should be complete at 1045."
      ],
      "metadata": {
        "id": "s7mzsgdr2o3-"
      }
    },
    {
      "cell_type": "code",
      "source": [
        "# Mask Pokemon with missing catch_rate\n",
        "no_catch_rate_mask = study_df['catch_rate'].isnull()\n",
        "# Make a new df out of rows with no catch_rate\n",
        "no_catch_rate_df = study_df[no_catch_rate_mask]\n",
        "no_catch_rate_subset = no_catch_rate_df[['name', 'catch_rate']]\n",
        "no_catch_rate_subset"
      ],
      "metadata": {
        "colab": {
          "base_uri": "https://localhost:8080/"
        },
        "id": "_2LpA7_esBHy",
        "outputId": "71d46146-fe88-400a-e25a-89e1ac45bae5"
      },
      "execution_count": null,
      "outputs": [
        {
          "output_type": "execute_result",
          "data": {
            "text/plain": [
              "                                   name  catch_rate\n",
              "69                      Galarian Meowth         NaN\n",
              "100                     Galarian Ponyta         NaN\n",
              "102                   Galarian Rapidash         NaN\n",
              "111                 Galarian Farfetch'd         NaN\n",
              "144                    Galarian Weezing         NaN\n",
              "158                   Galarian Mr. Mime         NaN\n",
              "273                    Galarian Corsola         NaN\n",
              "320                  Galarian Zigzagoon         NaN\n",
              "322                    Galarian Linoone         NaN\n",
              "654                   Galarian Darumaka         NaN\n",
              "657   Galarian Darmanitan Standard Mode         NaN\n",
              "658        Galarian Darmanitan Zen Mode         NaN\n",
              "666                     Galarian Yamask         NaN\n",
              "723                   Galarian Stunfisk         NaN\n",
              "1017                Morpeko Hangry Mode         NaN\n",
              "1029        Zacian Hero of Many Battles         NaN\n",
              "1031     Zamazenta Hero of Many Battles         NaN\n",
              "1033                Eternatus Eternamax         NaN"
            ],
            "text/html": [
              "\n",
              "  <div id=\"df-d836eebe-f810-481e-a579-e1c9ef25d85f\" class=\"colab-df-container\">\n",
              "    <div>\n",
              "<style scoped>\n",
              "    .dataframe tbody tr th:only-of-type {\n",
              "        vertical-align: middle;\n",
              "    }\n",
              "\n",
              "    .dataframe tbody tr th {\n",
              "        vertical-align: top;\n",
              "    }\n",
              "\n",
              "    .dataframe thead th {\n",
              "        text-align: right;\n",
              "    }\n",
              "</style>\n",
              "<table border=\"1\" class=\"dataframe\">\n",
              "  <thead>\n",
              "    <tr style=\"text-align: right;\">\n",
              "      <th></th>\n",
              "      <th>name</th>\n",
              "      <th>catch_rate</th>\n",
              "    </tr>\n",
              "  </thead>\n",
              "  <tbody>\n",
              "    <tr>\n",
              "      <th>69</th>\n",
              "      <td>Galarian Meowth</td>\n",
              "      <td>NaN</td>\n",
              "    </tr>\n",
              "    <tr>\n",
              "      <th>100</th>\n",
              "      <td>Galarian Ponyta</td>\n",
              "      <td>NaN</td>\n",
              "    </tr>\n",
              "    <tr>\n",
              "      <th>102</th>\n",
              "      <td>Galarian Rapidash</td>\n",
              "      <td>NaN</td>\n",
              "    </tr>\n",
              "    <tr>\n",
              "      <th>111</th>\n",
              "      <td>Galarian Farfetch'd</td>\n",
              "      <td>NaN</td>\n",
              "    </tr>\n",
              "    <tr>\n",
              "      <th>144</th>\n",
              "      <td>Galarian Weezing</td>\n",
              "      <td>NaN</td>\n",
              "    </tr>\n",
              "    <tr>\n",
              "      <th>158</th>\n",
              "      <td>Galarian Mr. Mime</td>\n",
              "      <td>NaN</td>\n",
              "    </tr>\n",
              "    <tr>\n",
              "      <th>273</th>\n",
              "      <td>Galarian Corsola</td>\n",
              "      <td>NaN</td>\n",
              "    </tr>\n",
              "    <tr>\n",
              "      <th>320</th>\n",
              "      <td>Galarian Zigzagoon</td>\n",
              "      <td>NaN</td>\n",
              "    </tr>\n",
              "    <tr>\n",
              "      <th>322</th>\n",
              "      <td>Galarian Linoone</td>\n",
              "      <td>NaN</td>\n",
              "    </tr>\n",
              "    <tr>\n",
              "      <th>654</th>\n",
              "      <td>Galarian Darumaka</td>\n",
              "      <td>NaN</td>\n",
              "    </tr>\n",
              "    <tr>\n",
              "      <th>657</th>\n",
              "      <td>Galarian Darmanitan Standard Mode</td>\n",
              "      <td>NaN</td>\n",
              "    </tr>\n",
              "    <tr>\n",
              "      <th>658</th>\n",
              "      <td>Galarian Darmanitan Zen Mode</td>\n",
              "      <td>NaN</td>\n",
              "    </tr>\n",
              "    <tr>\n",
              "      <th>666</th>\n",
              "      <td>Galarian Yamask</td>\n",
              "      <td>NaN</td>\n",
              "    </tr>\n",
              "    <tr>\n",
              "      <th>723</th>\n",
              "      <td>Galarian Stunfisk</td>\n",
              "      <td>NaN</td>\n",
              "    </tr>\n",
              "    <tr>\n",
              "      <th>1017</th>\n",
              "      <td>Morpeko Hangry Mode</td>\n",
              "      <td>NaN</td>\n",
              "    </tr>\n",
              "    <tr>\n",
              "      <th>1029</th>\n",
              "      <td>Zacian Hero of Many Battles</td>\n",
              "      <td>NaN</td>\n",
              "    </tr>\n",
              "    <tr>\n",
              "      <th>1031</th>\n",
              "      <td>Zamazenta Hero of Many Battles</td>\n",
              "      <td>NaN</td>\n",
              "    </tr>\n",
              "    <tr>\n",
              "      <th>1033</th>\n",
              "      <td>Eternatus Eternamax</td>\n",
              "      <td>NaN</td>\n",
              "    </tr>\n",
              "  </tbody>\n",
              "</table>\n",
              "</div>\n",
              "    <div class=\"colab-df-buttons\">\n",
              "\n",
              "  <div class=\"colab-df-container\">\n",
              "    <button class=\"colab-df-convert\" onclick=\"convertToInteractive('df-d836eebe-f810-481e-a579-e1c9ef25d85f')\"\n",
              "            title=\"Convert this dataframe to an interactive table.\"\n",
              "            style=\"display:none;\">\n",
              "\n",
              "  <svg xmlns=\"http://www.w3.org/2000/svg\" height=\"24px\" viewBox=\"0 -960 960 960\">\n",
              "    <path d=\"M120-120v-720h720v720H120Zm60-500h600v-160H180v160Zm220 220h160v-160H400v160Zm0 220h160v-160H400v160ZM180-400h160v-160H180v160Zm440 0h160v-160H620v160ZM180-180h160v-160H180v160Zm440 0h160v-160H620v160Z\"/>\n",
              "  </svg>\n",
              "    </button>\n",
              "\n",
              "  <style>\n",
              "    .colab-df-container {\n",
              "      display:flex;\n",
              "      gap: 12px;\n",
              "    }\n",
              "\n",
              "    .colab-df-convert {\n",
              "      background-color: #E8F0FE;\n",
              "      border: none;\n",
              "      border-radius: 50%;\n",
              "      cursor: pointer;\n",
              "      display: none;\n",
              "      fill: #1967D2;\n",
              "      height: 32px;\n",
              "      padding: 0 0 0 0;\n",
              "      width: 32px;\n",
              "    }\n",
              "\n",
              "    .colab-df-convert:hover {\n",
              "      background-color: #E2EBFA;\n",
              "      box-shadow: 0px 1px 2px rgba(60, 64, 67, 0.3), 0px 1px 3px 1px rgba(60, 64, 67, 0.15);\n",
              "      fill: #174EA6;\n",
              "    }\n",
              "\n",
              "    .colab-df-buttons div {\n",
              "      margin-bottom: 4px;\n",
              "    }\n",
              "\n",
              "    [theme=dark] .colab-df-convert {\n",
              "      background-color: #3B4455;\n",
              "      fill: #D2E3FC;\n",
              "    }\n",
              "\n",
              "    [theme=dark] .colab-df-convert:hover {\n",
              "      background-color: #434B5C;\n",
              "      box-shadow: 0px 1px 3px 1px rgba(0, 0, 0, 0.15);\n",
              "      filter: drop-shadow(0px 1px 2px rgba(0, 0, 0, 0.3));\n",
              "      fill: #FFFFFF;\n",
              "    }\n",
              "  </style>\n",
              "\n",
              "    <script>\n",
              "      const buttonEl =\n",
              "        document.querySelector('#df-d836eebe-f810-481e-a579-e1c9ef25d85f button.colab-df-convert');\n",
              "      buttonEl.style.display =\n",
              "        google.colab.kernel.accessAllowed ? 'block' : 'none';\n",
              "\n",
              "      async function convertToInteractive(key) {\n",
              "        const element = document.querySelector('#df-d836eebe-f810-481e-a579-e1c9ef25d85f');\n",
              "        const dataTable =\n",
              "          await google.colab.kernel.invokeFunction('convertToInteractive',\n",
              "                                                    [key], {});\n",
              "        if (!dataTable) return;\n",
              "\n",
              "        const docLinkHtml = 'Like what you see? Visit the ' +\n",
              "          '<a target=\"_blank\" href=https://colab.research.google.com/notebooks/data_table.ipynb>data table notebook</a>'\n",
              "          + ' to learn more about interactive tables.';\n",
              "        element.innerHTML = '';\n",
              "        dataTable['output_type'] = 'display_data';\n",
              "        await google.colab.output.renderOutput(dataTable, element);\n",
              "        const docLink = document.createElement('div');\n",
              "        docLink.innerHTML = docLinkHtml;\n",
              "        element.appendChild(docLink);\n",
              "      }\n",
              "    </script>\n",
              "  </div>\n",
              "\n",
              "\n",
              "<div id=\"df-6c947ffa-00fd-42c6-9419-e43eb094e21d\">\n",
              "  <button class=\"colab-df-quickchart\" onclick=\"quickchart('df-6c947ffa-00fd-42c6-9419-e43eb094e21d')\"\n",
              "            title=\"Suggest charts\"\n",
              "            style=\"display:none;\">\n",
              "\n",
              "<svg xmlns=\"http://www.w3.org/2000/svg\" height=\"24px\"viewBox=\"0 0 24 24\"\n",
              "     width=\"24px\">\n",
              "    <g>\n",
              "        <path d=\"M19 3H5c-1.1 0-2 .9-2 2v14c0 1.1.9 2 2 2h14c1.1 0 2-.9 2-2V5c0-1.1-.9-2-2-2zM9 17H7v-7h2v7zm4 0h-2V7h2v10zm4 0h-2v-4h2v4z\"/>\n",
              "    </g>\n",
              "</svg>\n",
              "  </button>\n",
              "\n",
              "<style>\n",
              "  .colab-df-quickchart {\n",
              "      --bg-color: #E8F0FE;\n",
              "      --fill-color: #1967D2;\n",
              "      --hover-bg-color: #E2EBFA;\n",
              "      --hover-fill-color: #174EA6;\n",
              "      --disabled-fill-color: #AAA;\n",
              "      --disabled-bg-color: #DDD;\n",
              "  }\n",
              "\n",
              "  [theme=dark] .colab-df-quickchart {\n",
              "      --bg-color: #3B4455;\n",
              "      --fill-color: #D2E3FC;\n",
              "      --hover-bg-color: #434B5C;\n",
              "      --hover-fill-color: #FFFFFF;\n",
              "      --disabled-bg-color: #3B4455;\n",
              "      --disabled-fill-color: #666;\n",
              "  }\n",
              "\n",
              "  .colab-df-quickchart {\n",
              "    background-color: var(--bg-color);\n",
              "    border: none;\n",
              "    border-radius: 50%;\n",
              "    cursor: pointer;\n",
              "    display: none;\n",
              "    fill: var(--fill-color);\n",
              "    height: 32px;\n",
              "    padding: 0;\n",
              "    width: 32px;\n",
              "  }\n",
              "\n",
              "  .colab-df-quickchart:hover {\n",
              "    background-color: var(--hover-bg-color);\n",
              "    box-shadow: 0 1px 2px rgba(60, 64, 67, 0.3), 0 1px 3px 1px rgba(60, 64, 67, 0.15);\n",
              "    fill: var(--button-hover-fill-color);\n",
              "  }\n",
              "\n",
              "  .colab-df-quickchart-complete:disabled,\n",
              "  .colab-df-quickchart-complete:disabled:hover {\n",
              "    background-color: var(--disabled-bg-color);\n",
              "    fill: var(--disabled-fill-color);\n",
              "    box-shadow: none;\n",
              "  }\n",
              "\n",
              "  .colab-df-spinner {\n",
              "    border: 2px solid var(--fill-color);\n",
              "    border-color: transparent;\n",
              "    border-bottom-color: var(--fill-color);\n",
              "    animation:\n",
              "      spin 1s steps(1) infinite;\n",
              "  }\n",
              "\n",
              "  @keyframes spin {\n",
              "    0% {\n",
              "      border-color: transparent;\n",
              "      border-bottom-color: var(--fill-color);\n",
              "      border-left-color: var(--fill-color);\n",
              "    }\n",
              "    20% {\n",
              "      border-color: transparent;\n",
              "      border-left-color: var(--fill-color);\n",
              "      border-top-color: var(--fill-color);\n",
              "    }\n",
              "    30% {\n",
              "      border-color: transparent;\n",
              "      border-left-color: var(--fill-color);\n",
              "      border-top-color: var(--fill-color);\n",
              "      border-right-color: var(--fill-color);\n",
              "    }\n",
              "    40% {\n",
              "      border-color: transparent;\n",
              "      border-right-color: var(--fill-color);\n",
              "      border-top-color: var(--fill-color);\n",
              "    }\n",
              "    60% {\n",
              "      border-color: transparent;\n",
              "      border-right-color: var(--fill-color);\n",
              "    }\n",
              "    80% {\n",
              "      border-color: transparent;\n",
              "      border-right-color: var(--fill-color);\n",
              "      border-bottom-color: var(--fill-color);\n",
              "    }\n",
              "    90% {\n",
              "      border-color: transparent;\n",
              "      border-bottom-color: var(--fill-color);\n",
              "    }\n",
              "  }\n",
              "</style>\n",
              "\n",
              "  <script>\n",
              "    async function quickchart(key) {\n",
              "      const quickchartButtonEl =\n",
              "        document.querySelector('#' + key + ' button');\n",
              "      quickchartButtonEl.disabled = true;  // To prevent multiple clicks.\n",
              "      quickchartButtonEl.classList.add('colab-df-spinner');\n",
              "      try {\n",
              "        const charts = await google.colab.kernel.invokeFunction(\n",
              "            'suggestCharts', [key], {});\n",
              "      } catch (error) {\n",
              "        console.error('Error during call to suggestCharts:', error);\n",
              "      }\n",
              "      quickchartButtonEl.classList.remove('colab-df-spinner');\n",
              "      quickchartButtonEl.classList.add('colab-df-quickchart-complete');\n",
              "    }\n",
              "    (() => {\n",
              "      let quickchartButtonEl =\n",
              "        document.querySelector('#df-6c947ffa-00fd-42c6-9419-e43eb094e21d button');\n",
              "      quickchartButtonEl.style.display =\n",
              "        google.colab.kernel.accessAllowed ? 'block' : 'none';\n",
              "    })();\n",
              "  </script>\n",
              "</div>\n",
              "    </div>\n",
              "  </div>\n"
            ],
            "application/vnd.google.colaboratory.intrinsic+json": {
              "type": "dataframe",
              "variable_name": "no_catch_rate_subset",
              "summary": "{\n  \"name\": \"no_catch_rate_subset\",\n  \"rows\": 18,\n  \"fields\": [\n    {\n      \"column\": \"name\",\n      \"properties\": {\n        \"dtype\": \"string\",\n        \"num_unique_values\": 18,\n        \"samples\": [\n          \"Galarian Meowth\",\n          \"Galarian Ponyta\",\n          \"Galarian Linoone\"\n        ],\n        \"semantic_type\": \"\",\n        \"description\": \"\"\n      }\n    },\n    {\n      \"column\": \"catch_rate\",\n      \"properties\": {\n        \"dtype\": \"number\",\n        \"std\": null,\n        \"min\": null,\n        \"max\": null,\n        \"num_unique_values\": 0,\n        \"samples\": [],\n        \"semantic_type\": \"\",\n        \"description\": \"\"\n      }\n    }\n  ]\n}"
            }
          },
          "metadata": {},
          "execution_count": 24
        }
      ]
    },
    {
      "cell_type": "markdown",
      "source": [
        "Most of the Pokemon with no `catch_rate` are Galarian Pokemon. Pokemon Database shows that [Galarian Pokemon have the same catch rate as their regular counterparts](https://pokemondb.net/pokedex/meowth).\n",
        "\n",
        "![](https://drive.google.com/uc?export=view&id=133_v07tVUzJKlkbYSRP5xYkIP0jpOJTX)\n",
        "\n",
        "![](https://drive.google.com/uc?export=view&id=1eZu2dmbCahuIOHC0aVnerNS5zYIVvyQf)\n",
        "\n",
        "That means, we can copy the `catch_rate` of the regular Pokemon to their Galarian counterparts with missing values."
      ],
      "metadata": {
        "id": "4i5Dtb4xv2Tc"
      }
    },
    {
      "cell_type": "code",
      "source": [
        "# Mask Galarian Pokemon with missing catch_rate\n",
        "galarian_no_catch_rate_mask = study_df['catch_rate'].isnull() & study_df['name'].str.contains('Galarian')\n",
        "\n",
        "for index, galarian_pokemon in study_df[galarian_no_catch_rate_mask].iterrows():\n",
        "    # Extract the base name (without \"Galarian\")\n",
        "    base_name = galarian_pokemon['name'].replace('Galarian ', '')\n",
        "\n",
        "    # Check if the base name matches with a Pokemon\n",
        "    if not pd.isnull(study_df.loc[study_df['name'] == base_name, 'catch_rate']).all():\n",
        "        # Copy the catch_rate from the regular Pokemon to the Galarian counterpart\n",
        "        study_df.loc[index, 'catch_rate'] = study_df.loc[study_df['name'] == base_name, 'catch_rate'].values[0]\n",
        "\n",
        "# Mask Pokemon with missing catch_rate\n",
        "no_catch_rate_mask = study_df['catch_rate'].isnull()\n",
        "# Make a new df out of rows with no catch_rate\n",
        "no_catch_rate_df = study_df[no_catch_rate_mask]\n",
        "no_catch_rate_subset = no_catch_rate_df[['name', 'catch_rate']]\n",
        "no_catch_rate_subset"
      ],
      "metadata": {
        "colab": {
          "base_uri": "https://localhost:8080/"
        },
        "id": "O6jSmt1UvnRd",
        "outputId": "7e945b08-fff9-4ddd-b87c-7c7de30330ef"
      },
      "execution_count": null,
      "outputs": [
        {
          "output_type": "execute_result",
          "data": {
            "text/plain": [
              "                                name  catch_rate\n",
              "1017             Morpeko Hangry Mode         NaN\n",
              "1029     Zacian Hero of Many Battles         NaN\n",
              "1031  Zamazenta Hero of Many Battles         NaN\n",
              "1033             Eternatus Eternamax         NaN"
            ],
            "text/html": [
              "\n",
              "  <div id=\"df-b6e6b150-c570-42fa-a45a-13c18f01968a\" class=\"colab-df-container\">\n",
              "    <div>\n",
              "<style scoped>\n",
              "    .dataframe tbody tr th:only-of-type {\n",
              "        vertical-align: middle;\n",
              "    }\n",
              "\n",
              "    .dataframe tbody tr th {\n",
              "        vertical-align: top;\n",
              "    }\n",
              "\n",
              "    .dataframe thead th {\n",
              "        text-align: right;\n",
              "    }\n",
              "</style>\n",
              "<table border=\"1\" class=\"dataframe\">\n",
              "  <thead>\n",
              "    <tr style=\"text-align: right;\">\n",
              "      <th></th>\n",
              "      <th>name</th>\n",
              "      <th>catch_rate</th>\n",
              "    </tr>\n",
              "  </thead>\n",
              "  <tbody>\n",
              "    <tr>\n",
              "      <th>1017</th>\n",
              "      <td>Morpeko Hangry Mode</td>\n",
              "      <td>NaN</td>\n",
              "    </tr>\n",
              "    <tr>\n",
              "      <th>1029</th>\n",
              "      <td>Zacian Hero of Many Battles</td>\n",
              "      <td>NaN</td>\n",
              "    </tr>\n",
              "    <tr>\n",
              "      <th>1031</th>\n",
              "      <td>Zamazenta Hero of Many Battles</td>\n",
              "      <td>NaN</td>\n",
              "    </tr>\n",
              "    <tr>\n",
              "      <th>1033</th>\n",
              "      <td>Eternatus Eternamax</td>\n",
              "      <td>NaN</td>\n",
              "    </tr>\n",
              "  </tbody>\n",
              "</table>\n",
              "</div>\n",
              "    <div class=\"colab-df-buttons\">\n",
              "\n",
              "  <div class=\"colab-df-container\">\n",
              "    <button class=\"colab-df-convert\" onclick=\"convertToInteractive('df-b6e6b150-c570-42fa-a45a-13c18f01968a')\"\n",
              "            title=\"Convert this dataframe to an interactive table.\"\n",
              "            style=\"display:none;\">\n",
              "\n",
              "  <svg xmlns=\"http://www.w3.org/2000/svg\" height=\"24px\" viewBox=\"0 -960 960 960\">\n",
              "    <path d=\"M120-120v-720h720v720H120Zm60-500h600v-160H180v160Zm220 220h160v-160H400v160Zm0 220h160v-160H400v160ZM180-400h160v-160H180v160Zm440 0h160v-160H620v160ZM180-180h160v-160H180v160Zm440 0h160v-160H620v160Z\"/>\n",
              "  </svg>\n",
              "    </button>\n",
              "\n",
              "  <style>\n",
              "    .colab-df-container {\n",
              "      display:flex;\n",
              "      gap: 12px;\n",
              "    }\n",
              "\n",
              "    .colab-df-convert {\n",
              "      background-color: #E8F0FE;\n",
              "      border: none;\n",
              "      border-radius: 50%;\n",
              "      cursor: pointer;\n",
              "      display: none;\n",
              "      fill: #1967D2;\n",
              "      height: 32px;\n",
              "      padding: 0 0 0 0;\n",
              "      width: 32px;\n",
              "    }\n",
              "\n",
              "    .colab-df-convert:hover {\n",
              "      background-color: #E2EBFA;\n",
              "      box-shadow: 0px 1px 2px rgba(60, 64, 67, 0.3), 0px 1px 3px 1px rgba(60, 64, 67, 0.15);\n",
              "      fill: #174EA6;\n",
              "    }\n",
              "\n",
              "    .colab-df-buttons div {\n",
              "      margin-bottom: 4px;\n",
              "    }\n",
              "\n",
              "    [theme=dark] .colab-df-convert {\n",
              "      background-color: #3B4455;\n",
              "      fill: #D2E3FC;\n",
              "    }\n",
              "\n",
              "    [theme=dark] .colab-df-convert:hover {\n",
              "      background-color: #434B5C;\n",
              "      box-shadow: 0px 1px 3px 1px rgba(0, 0, 0, 0.15);\n",
              "      filter: drop-shadow(0px 1px 2px rgba(0, 0, 0, 0.3));\n",
              "      fill: #FFFFFF;\n",
              "    }\n",
              "  </style>\n",
              "\n",
              "    <script>\n",
              "      const buttonEl =\n",
              "        document.querySelector('#df-b6e6b150-c570-42fa-a45a-13c18f01968a button.colab-df-convert');\n",
              "      buttonEl.style.display =\n",
              "        google.colab.kernel.accessAllowed ? 'block' : 'none';\n",
              "\n",
              "      async function convertToInteractive(key) {\n",
              "        const element = document.querySelector('#df-b6e6b150-c570-42fa-a45a-13c18f01968a');\n",
              "        const dataTable =\n",
              "          await google.colab.kernel.invokeFunction('convertToInteractive',\n",
              "                                                    [key], {});\n",
              "        if (!dataTable) return;\n",
              "\n",
              "        const docLinkHtml = 'Like what you see? Visit the ' +\n",
              "          '<a target=\"_blank\" href=https://colab.research.google.com/notebooks/data_table.ipynb>data table notebook</a>'\n",
              "          + ' to learn more about interactive tables.';\n",
              "        element.innerHTML = '';\n",
              "        dataTable['output_type'] = 'display_data';\n",
              "        await google.colab.output.renderOutput(dataTable, element);\n",
              "        const docLink = document.createElement('div');\n",
              "        docLink.innerHTML = docLinkHtml;\n",
              "        element.appendChild(docLink);\n",
              "      }\n",
              "    </script>\n",
              "  </div>\n",
              "\n",
              "\n",
              "<div id=\"df-d7236a11-1f5f-45e2-99c5-48e2bb321db1\">\n",
              "  <button class=\"colab-df-quickchart\" onclick=\"quickchart('df-d7236a11-1f5f-45e2-99c5-48e2bb321db1')\"\n",
              "            title=\"Suggest charts\"\n",
              "            style=\"display:none;\">\n",
              "\n",
              "<svg xmlns=\"http://www.w3.org/2000/svg\" height=\"24px\"viewBox=\"0 0 24 24\"\n",
              "     width=\"24px\">\n",
              "    <g>\n",
              "        <path d=\"M19 3H5c-1.1 0-2 .9-2 2v14c0 1.1.9 2 2 2h14c1.1 0 2-.9 2-2V5c0-1.1-.9-2-2-2zM9 17H7v-7h2v7zm4 0h-2V7h2v10zm4 0h-2v-4h2v4z\"/>\n",
              "    </g>\n",
              "</svg>\n",
              "  </button>\n",
              "\n",
              "<style>\n",
              "  .colab-df-quickchart {\n",
              "      --bg-color: #E8F0FE;\n",
              "      --fill-color: #1967D2;\n",
              "      --hover-bg-color: #E2EBFA;\n",
              "      --hover-fill-color: #174EA6;\n",
              "      --disabled-fill-color: #AAA;\n",
              "      --disabled-bg-color: #DDD;\n",
              "  }\n",
              "\n",
              "  [theme=dark] .colab-df-quickchart {\n",
              "      --bg-color: #3B4455;\n",
              "      --fill-color: #D2E3FC;\n",
              "      --hover-bg-color: #434B5C;\n",
              "      --hover-fill-color: #FFFFFF;\n",
              "      --disabled-bg-color: #3B4455;\n",
              "      --disabled-fill-color: #666;\n",
              "  }\n",
              "\n",
              "  .colab-df-quickchart {\n",
              "    background-color: var(--bg-color);\n",
              "    border: none;\n",
              "    border-radius: 50%;\n",
              "    cursor: pointer;\n",
              "    display: none;\n",
              "    fill: var(--fill-color);\n",
              "    height: 32px;\n",
              "    padding: 0;\n",
              "    width: 32px;\n",
              "  }\n",
              "\n",
              "  .colab-df-quickchart:hover {\n",
              "    background-color: var(--hover-bg-color);\n",
              "    box-shadow: 0 1px 2px rgba(60, 64, 67, 0.3), 0 1px 3px 1px rgba(60, 64, 67, 0.15);\n",
              "    fill: var(--button-hover-fill-color);\n",
              "  }\n",
              "\n",
              "  .colab-df-quickchart-complete:disabled,\n",
              "  .colab-df-quickchart-complete:disabled:hover {\n",
              "    background-color: var(--disabled-bg-color);\n",
              "    fill: var(--disabled-fill-color);\n",
              "    box-shadow: none;\n",
              "  }\n",
              "\n",
              "  .colab-df-spinner {\n",
              "    border: 2px solid var(--fill-color);\n",
              "    border-color: transparent;\n",
              "    border-bottom-color: var(--fill-color);\n",
              "    animation:\n",
              "      spin 1s steps(1) infinite;\n",
              "  }\n",
              "\n",
              "  @keyframes spin {\n",
              "    0% {\n",
              "      border-color: transparent;\n",
              "      border-bottom-color: var(--fill-color);\n",
              "      border-left-color: var(--fill-color);\n",
              "    }\n",
              "    20% {\n",
              "      border-color: transparent;\n",
              "      border-left-color: var(--fill-color);\n",
              "      border-top-color: var(--fill-color);\n",
              "    }\n",
              "    30% {\n",
              "      border-color: transparent;\n",
              "      border-left-color: var(--fill-color);\n",
              "      border-top-color: var(--fill-color);\n",
              "      border-right-color: var(--fill-color);\n",
              "    }\n",
              "    40% {\n",
              "      border-color: transparent;\n",
              "      border-right-color: var(--fill-color);\n",
              "      border-top-color: var(--fill-color);\n",
              "    }\n",
              "    60% {\n",
              "      border-color: transparent;\n",
              "      border-right-color: var(--fill-color);\n",
              "    }\n",
              "    80% {\n",
              "      border-color: transparent;\n",
              "      border-right-color: var(--fill-color);\n",
              "      border-bottom-color: var(--fill-color);\n",
              "    }\n",
              "    90% {\n",
              "      border-color: transparent;\n",
              "      border-bottom-color: var(--fill-color);\n",
              "    }\n",
              "  }\n",
              "</style>\n",
              "\n",
              "  <script>\n",
              "    async function quickchart(key) {\n",
              "      const quickchartButtonEl =\n",
              "        document.querySelector('#' + key + ' button');\n",
              "      quickchartButtonEl.disabled = true;  // To prevent multiple clicks.\n",
              "      quickchartButtonEl.classList.add('colab-df-spinner');\n",
              "      try {\n",
              "        const charts = await google.colab.kernel.invokeFunction(\n",
              "            'suggestCharts', [key], {});\n",
              "      } catch (error) {\n",
              "        console.error('Error during call to suggestCharts:', error);\n",
              "      }\n",
              "      quickchartButtonEl.classList.remove('colab-df-spinner');\n",
              "      quickchartButtonEl.classList.add('colab-df-quickchart-complete');\n",
              "    }\n",
              "    (() => {\n",
              "      let quickchartButtonEl =\n",
              "        document.querySelector('#df-d7236a11-1f5f-45e2-99c5-48e2bb321db1 button');\n",
              "      quickchartButtonEl.style.display =\n",
              "        google.colab.kernel.accessAllowed ? 'block' : 'none';\n",
              "    })();\n",
              "  </script>\n",
              "</div>\n",
              "    </div>\n",
              "  </div>\n"
            ],
            "application/vnd.google.colaboratory.intrinsic+json": {
              "type": "dataframe",
              "variable_name": "no_catch_rate_subset",
              "summary": "{\n  \"name\": \"no_catch_rate_subset\",\n  \"rows\": 4,\n  \"fields\": [\n    {\n      \"column\": \"name\",\n      \"properties\": {\n        \"dtype\": \"string\",\n        \"num_unique_values\": 4,\n        \"samples\": [\n          \"Zacian Hero of Many Battles\",\n          \"Eternatus Eternamax\",\n          \"Morpeko Hangry Mode\"\n        ],\n        \"semantic_type\": \"\",\n        \"description\": \"\"\n      }\n    },\n    {\n      \"column\": \"catch_rate\",\n      \"properties\": {\n        \"dtype\": \"number\",\n        \"std\": null,\n        \"min\": null,\n        \"max\": null,\n        \"num_unique_values\": 0,\n        \"samples\": [],\n        \"semantic_type\": \"\",\n        \"description\": \"\"\n      }\n    }\n  ]\n}"
            }
          },
          "metadata": {},
          "execution_count": 25
        }
      ]
    },
    {
      "cell_type": "markdown",
      "source": [
        "**Morpeko Hangry Mode** is a variant of **Morpeko Full Belly Mode**, and [they both have the same catch rates](https://pokemondb.net/pokedex/morpeko). The same goes for [Zacian Hero of Many Battles](https://pokemondb.net/pokedex/zacian) (with its Crowned Hero form) and [Zamazenta Hero of Many Battles](https://pokemondb.net/pokedex/zamazenta) (with its Crowned Shield form). We will fill their `catch_rate` values similarly to what we did with Galarian Pokemon."
      ],
      "metadata": {
        "id": "Hjdi9F3c7Gwv"
      }
    },
    {
      "cell_type": "code",
      "source": [
        "# Map the variants with no catch_rate to their counterparts\n",
        "variants_mapping = {\n",
        "    'Morpeko Hangry Mode': 'Morpeko Full Belly Mode',\n",
        "    'Zacian Hero of Many Battles': 'Zacian Crowned Sword',\n",
        "    'Zamazenta Hero of Many Battles': 'Zamazenta Crowned Shield'\n",
        "}\n",
        "\n",
        "# Mask Pokemon with missing catch_rate for the specified variants\n",
        "variant_no_catch_rate_mask = study_df['catch_rate'].isnull() & study_df['name'].isin(variants_mapping.keys())\n",
        "\n",
        "for index, variant_pokemon in study_df[variant_no_catch_rate_mask].iterrows():\n",
        "    # Extract the counterpart name from the variants_mapping\n",
        "    counterpart_name = variants_mapping.get(variant_pokemon['name'])\n",
        "\n",
        "    # Check if the counterpart name matches with a Pokemon\n",
        "    if not pd.isnull(study_df.loc[study_df['name'] == counterpart_name, 'catch_rate']).all():\n",
        "        # Copy the catch_rate from the counterpart Pokemon to the variant\n",
        "        study_df.loc[index, 'catch_rate'] = study_df.loc[study_df['name'] == counterpart_name, 'catch_rate'].values[0]\n",
        "\n",
        "# Mask Pokemon with missing catch_rate\n",
        "no_catch_rate_mask = study_df['catch_rate'].isnull()\n",
        "# Make a new df out of rows with no catch_rate\n",
        "no_catch_rate_df = study_df[no_catch_rate_mask]\n",
        "no_catch_rate_subset = no_catch_rate_df[['name', 'catch_rate']]\n",
        "no_catch_rate_subset"
      ],
      "metadata": {
        "colab": {
          "base_uri": "https://localhost:8080/"
        },
        "id": "k2yWgQ_j8ZRT",
        "outputId": "00196c14-9cfb-42ae-f642-7c9ba467b5bb"
      },
      "execution_count": null,
      "outputs": [
        {
          "output_type": "execute_result",
          "data": {
            "text/plain": [
              "                     name  catch_rate\n",
              "1033  Eternatus Eternamax         NaN"
            ],
            "text/html": [
              "\n",
              "  <div id=\"df-a2a0442b-ea27-46c8-927d-ece1360e2d31\" class=\"colab-df-container\">\n",
              "    <div>\n",
              "<style scoped>\n",
              "    .dataframe tbody tr th:only-of-type {\n",
              "        vertical-align: middle;\n",
              "    }\n",
              "\n",
              "    .dataframe tbody tr th {\n",
              "        vertical-align: top;\n",
              "    }\n",
              "\n",
              "    .dataframe thead th {\n",
              "        text-align: right;\n",
              "    }\n",
              "</style>\n",
              "<table border=\"1\" class=\"dataframe\">\n",
              "  <thead>\n",
              "    <tr style=\"text-align: right;\">\n",
              "      <th></th>\n",
              "      <th>name</th>\n",
              "      <th>catch_rate</th>\n",
              "    </tr>\n",
              "  </thead>\n",
              "  <tbody>\n",
              "    <tr>\n",
              "      <th>1033</th>\n",
              "      <td>Eternatus Eternamax</td>\n",
              "      <td>NaN</td>\n",
              "    </tr>\n",
              "  </tbody>\n",
              "</table>\n",
              "</div>\n",
              "    <div class=\"colab-df-buttons\">\n",
              "\n",
              "  <div class=\"colab-df-container\">\n",
              "    <button class=\"colab-df-convert\" onclick=\"convertToInteractive('df-a2a0442b-ea27-46c8-927d-ece1360e2d31')\"\n",
              "            title=\"Convert this dataframe to an interactive table.\"\n",
              "            style=\"display:none;\">\n",
              "\n",
              "  <svg xmlns=\"http://www.w3.org/2000/svg\" height=\"24px\" viewBox=\"0 -960 960 960\">\n",
              "    <path d=\"M120-120v-720h720v720H120Zm60-500h600v-160H180v160Zm220 220h160v-160H400v160Zm0 220h160v-160H400v160ZM180-400h160v-160H180v160Zm440 0h160v-160H620v160ZM180-180h160v-160H180v160Zm440 0h160v-160H620v160Z\"/>\n",
              "  </svg>\n",
              "    </button>\n",
              "\n",
              "  <style>\n",
              "    .colab-df-container {\n",
              "      display:flex;\n",
              "      gap: 12px;\n",
              "    }\n",
              "\n",
              "    .colab-df-convert {\n",
              "      background-color: #E8F0FE;\n",
              "      border: none;\n",
              "      border-radius: 50%;\n",
              "      cursor: pointer;\n",
              "      display: none;\n",
              "      fill: #1967D2;\n",
              "      height: 32px;\n",
              "      padding: 0 0 0 0;\n",
              "      width: 32px;\n",
              "    }\n",
              "\n",
              "    .colab-df-convert:hover {\n",
              "      background-color: #E2EBFA;\n",
              "      box-shadow: 0px 1px 2px rgba(60, 64, 67, 0.3), 0px 1px 3px 1px rgba(60, 64, 67, 0.15);\n",
              "      fill: #174EA6;\n",
              "    }\n",
              "\n",
              "    .colab-df-buttons div {\n",
              "      margin-bottom: 4px;\n",
              "    }\n",
              "\n",
              "    [theme=dark] .colab-df-convert {\n",
              "      background-color: #3B4455;\n",
              "      fill: #D2E3FC;\n",
              "    }\n",
              "\n",
              "    [theme=dark] .colab-df-convert:hover {\n",
              "      background-color: #434B5C;\n",
              "      box-shadow: 0px 1px 3px 1px rgba(0, 0, 0, 0.15);\n",
              "      filter: drop-shadow(0px 1px 2px rgba(0, 0, 0, 0.3));\n",
              "      fill: #FFFFFF;\n",
              "    }\n",
              "  </style>\n",
              "\n",
              "    <script>\n",
              "      const buttonEl =\n",
              "        document.querySelector('#df-a2a0442b-ea27-46c8-927d-ece1360e2d31 button.colab-df-convert');\n",
              "      buttonEl.style.display =\n",
              "        google.colab.kernel.accessAllowed ? 'block' : 'none';\n",
              "\n",
              "      async function convertToInteractive(key) {\n",
              "        const element = document.querySelector('#df-a2a0442b-ea27-46c8-927d-ece1360e2d31');\n",
              "        const dataTable =\n",
              "          await google.colab.kernel.invokeFunction('convertToInteractive',\n",
              "                                                    [key], {});\n",
              "        if (!dataTable) return;\n",
              "\n",
              "        const docLinkHtml = 'Like what you see? Visit the ' +\n",
              "          '<a target=\"_blank\" href=https://colab.research.google.com/notebooks/data_table.ipynb>data table notebook</a>'\n",
              "          + ' to learn more about interactive tables.';\n",
              "        element.innerHTML = '';\n",
              "        dataTable['output_type'] = 'display_data';\n",
              "        await google.colab.output.renderOutput(dataTable, element);\n",
              "        const docLink = document.createElement('div');\n",
              "        docLink.innerHTML = docLinkHtml;\n",
              "        element.appendChild(docLink);\n",
              "      }\n",
              "    </script>\n",
              "  </div>\n",
              "\n",
              "    </div>\n",
              "  </div>\n"
            ],
            "application/vnd.google.colaboratory.intrinsic+json": {
              "type": "dataframe",
              "variable_name": "no_catch_rate_subset",
              "summary": "{\n  \"name\": \"no_catch_rate_subset\",\n  \"rows\": 1,\n  \"fields\": [\n    {\n      \"column\": \"name\",\n      \"properties\": {\n        \"dtype\": \"string\",\n        \"num_unique_values\": 1,\n        \"samples\": [\n          \"Eternatus Eternamax\"\n        ],\n        \"semantic_type\": \"\",\n        \"description\": \"\"\n      }\n    },\n    {\n      \"column\": \"catch_rate\",\n      \"properties\": {\n        \"dtype\": \"number\",\n        \"std\": null,\n        \"min\": null,\n        \"max\": null,\n        \"num_unique_values\": 0,\n        \"samples\": [],\n        \"semantic_type\": \"\",\n        \"description\": \"\"\n      }\n    }\n  ]\n}"
            }
          },
          "metadata": {},
          "execution_count": 26
        }
      ]
    },
    {
      "cell_type": "markdown",
      "source": [
        "The only Pokemon left is **Eternatus** in its Eternamax form. This Pokemon does not have a catch rate since it is unobtainable."
      ],
      "metadata": {
        "id": "ZwpdY501_XGC"
      }
    },
    {
      "cell_type": "markdown",
      "source": [
        "### Cleaning `base_experience`"
      ],
      "metadata": {
        "id": "4skdtxFK1Qv6"
      }
    },
    {
      "cell_type": "markdown",
      "source": [
        "The summary showed that there are only 925 non-null counts for `base_experience`, when it should be complete at 1045."
      ],
      "metadata": {
        "id": "eC6tx4fZ2vta"
      }
    },
    {
      "cell_type": "code",
      "source": [
        "# Mask Pokemon with missing base_experience\n",
        "no_base_experience_mask = study_df['base_experience'].isnull()\n",
        "# Make a new df out of rows with no base_experience\n",
        "no_base_experience_df = study_df[no_base_experience_mask]\n",
        "no_base_experience_df"
      ],
      "metadata": {
        "colab": {
          "base_uri": "https://localhost:8080/"
        },
        "id": "9DXy4hknuGcl",
        "outputId": "dfc499c2-c8c4-4f80-cc26-f1e8dbda73ab"
      },
      "execution_count": null,
      "outputs": [
        {
          "output_type": "execute_result",
          "data": {
            "text/plain": [
              "      pokedex_number                  name  generation         status  \\\n",
              "69                52       Galarian Meowth           1         Normal   \n",
              "100               77       Galarian Ponyta           1         Normal   \n",
              "102               78     Galarian Rapidash           1         Normal   \n",
              "107               80      Galarian Slowbro           8         Normal   \n",
              "111               83   Galarian Farfetch'd           1         Normal   \n",
              "...              ...                   ...         ...            ...   \n",
              "1040             896             Glastrier           8  Sub Legendary   \n",
              "1041             897             Spectrier           8  Sub Legendary   \n",
              "1042             898               Calyrex           8      Legendary   \n",
              "1043             898     Calyrex Ice Rider           8      Legendary   \n",
              "1044             898  Calyrex Shadow Rider           8      Legendary   \n",
              "\n",
              "        type_1   type_2  height_m  weight_kg       ability_1    ability_2  \\\n",
              "69       Steel      NaN       0.4        7.5          Pickup  Tough Claws   \n",
              "100    Psychic      NaN       0.8       24.0        Run Away  Pastel Veil   \n",
              "102    Psychic    Fairy       1.7       80.0        Run Away  Pastel Veil   \n",
              "107     Poison  Psychic       1.6       70.5      Quick Draw    Own Tempo   \n",
              "111   Fighting      NaN       0.8       42.0       Steadfast          NaN   \n",
              "...        ...      ...       ...        ...             ...          ...   \n",
              "1040       Ice      NaN       2.2      800.0  Chilling Neigh          NaN   \n",
              "1041     Ghost      NaN       2.0       44.5      Grim Neigh          NaN   \n",
              "1042   Psychic    Grass       1.1        7.7         Unnerve          NaN   \n",
              "1043   Psychic      Ice       2.4      809.1          As One          NaN   \n",
              "1044   Psychic    Ghost       2.4       53.6          As One          NaN   \n",
              "\n",
              "      ... total_points   hp  attack  defense  sp_attack  sp_defense  speed  \\\n",
              "69    ...          290   50      65       55         40          40     40   \n",
              "100   ...          410   50      85       55         65          65     90   \n",
              "102   ...          500   65     100       70         80          80    105   \n",
              "107   ...          490   95     100       95        100          70     30   \n",
              "111   ...          377   52      95       55         58          62     55   \n",
              "...   ...          ...  ...     ...      ...        ...         ...    ...   \n",
              "1040  ...          580  100     145      130         65         110     30   \n",
              "1041  ...          580  100      65       60        145          80    130   \n",
              "1042  ...          500  100      80       80         80          80     80   \n",
              "1043  ...          680  100     165      150         85         130     50   \n",
              "1044  ...          680  100      85       80        165         100    150   \n",
              "\n",
              "      catch_rate  base_experience  growth_rate  \n",
              "69         255.0              NaN  Medium Fast  \n",
              "100        190.0              NaN  Medium Fast  \n",
              "102         60.0              NaN  Medium Fast  \n",
              "107         75.0              NaN  Medium Fast  \n",
              "111         45.0              NaN  Medium Fast  \n",
              "...          ...              ...          ...  \n",
              "1040         3.0              NaN         Slow  \n",
              "1041         3.0              NaN         Slow  \n",
              "1042         3.0              NaN         Slow  \n",
              "1043         3.0              NaN         Slow  \n",
              "1044         3.0              NaN         Slow  \n",
              "\n",
              "[120 rows x 21 columns]"
            ],
            "text/html": [
              "\n",
              "  <div id=\"df-56476900-f700-4f7b-987a-c68d103691a3\" class=\"colab-df-container\">\n",
              "    <div>\n",
              "<style scoped>\n",
              "    .dataframe tbody tr th:only-of-type {\n",
              "        vertical-align: middle;\n",
              "    }\n",
              "\n",
              "    .dataframe tbody tr th {\n",
              "        vertical-align: top;\n",
              "    }\n",
              "\n",
              "    .dataframe thead th {\n",
              "        text-align: right;\n",
              "    }\n",
              "</style>\n",
              "<table border=\"1\" class=\"dataframe\">\n",
              "  <thead>\n",
              "    <tr style=\"text-align: right;\">\n",
              "      <th></th>\n",
              "      <th>pokedex_number</th>\n",
              "      <th>name</th>\n",
              "      <th>generation</th>\n",
              "      <th>status</th>\n",
              "      <th>type_1</th>\n",
              "      <th>type_2</th>\n",
              "      <th>height_m</th>\n",
              "      <th>weight_kg</th>\n",
              "      <th>ability_1</th>\n",
              "      <th>ability_2</th>\n",
              "      <th>...</th>\n",
              "      <th>total_points</th>\n",
              "      <th>hp</th>\n",
              "      <th>attack</th>\n",
              "      <th>defense</th>\n",
              "      <th>sp_attack</th>\n",
              "      <th>sp_defense</th>\n",
              "      <th>speed</th>\n",
              "      <th>catch_rate</th>\n",
              "      <th>base_experience</th>\n",
              "      <th>growth_rate</th>\n",
              "    </tr>\n",
              "  </thead>\n",
              "  <tbody>\n",
              "    <tr>\n",
              "      <th>69</th>\n",
              "      <td>52</td>\n",
              "      <td>Galarian Meowth</td>\n",
              "      <td>1</td>\n",
              "      <td>Normal</td>\n",
              "      <td>Steel</td>\n",
              "      <td>NaN</td>\n",
              "      <td>0.4</td>\n",
              "      <td>7.5</td>\n",
              "      <td>Pickup</td>\n",
              "      <td>Tough Claws</td>\n",
              "      <td>...</td>\n",
              "      <td>290</td>\n",
              "      <td>50</td>\n",
              "      <td>65</td>\n",
              "      <td>55</td>\n",
              "      <td>40</td>\n",
              "      <td>40</td>\n",
              "      <td>40</td>\n",
              "      <td>255.0</td>\n",
              "      <td>NaN</td>\n",
              "      <td>Medium Fast</td>\n",
              "    </tr>\n",
              "    <tr>\n",
              "      <th>100</th>\n",
              "      <td>77</td>\n",
              "      <td>Galarian Ponyta</td>\n",
              "      <td>1</td>\n",
              "      <td>Normal</td>\n",
              "      <td>Psychic</td>\n",
              "      <td>NaN</td>\n",
              "      <td>0.8</td>\n",
              "      <td>24.0</td>\n",
              "      <td>Run Away</td>\n",
              "      <td>Pastel Veil</td>\n",
              "      <td>...</td>\n",
              "      <td>410</td>\n",
              "      <td>50</td>\n",
              "      <td>85</td>\n",
              "      <td>55</td>\n",
              "      <td>65</td>\n",
              "      <td>65</td>\n",
              "      <td>90</td>\n",
              "      <td>190.0</td>\n",
              "      <td>NaN</td>\n",
              "      <td>Medium Fast</td>\n",
              "    </tr>\n",
              "    <tr>\n",
              "      <th>102</th>\n",
              "      <td>78</td>\n",
              "      <td>Galarian Rapidash</td>\n",
              "      <td>1</td>\n",
              "      <td>Normal</td>\n",
              "      <td>Psychic</td>\n",
              "      <td>Fairy</td>\n",
              "      <td>1.7</td>\n",
              "      <td>80.0</td>\n",
              "      <td>Run Away</td>\n",
              "      <td>Pastel Veil</td>\n",
              "      <td>...</td>\n",
              "      <td>500</td>\n",
              "      <td>65</td>\n",
              "      <td>100</td>\n",
              "      <td>70</td>\n",
              "      <td>80</td>\n",
              "      <td>80</td>\n",
              "      <td>105</td>\n",
              "      <td>60.0</td>\n",
              "      <td>NaN</td>\n",
              "      <td>Medium Fast</td>\n",
              "    </tr>\n",
              "    <tr>\n",
              "      <th>107</th>\n",
              "      <td>80</td>\n",
              "      <td>Galarian Slowbro</td>\n",
              "      <td>8</td>\n",
              "      <td>Normal</td>\n",
              "      <td>Poison</td>\n",
              "      <td>Psychic</td>\n",
              "      <td>1.6</td>\n",
              "      <td>70.5</td>\n",
              "      <td>Quick Draw</td>\n",
              "      <td>Own Tempo</td>\n",
              "      <td>...</td>\n",
              "      <td>490</td>\n",
              "      <td>95</td>\n",
              "      <td>100</td>\n",
              "      <td>95</td>\n",
              "      <td>100</td>\n",
              "      <td>70</td>\n",
              "      <td>30</td>\n",
              "      <td>75.0</td>\n",
              "      <td>NaN</td>\n",
              "      <td>Medium Fast</td>\n",
              "    </tr>\n",
              "    <tr>\n",
              "      <th>111</th>\n",
              "      <td>83</td>\n",
              "      <td>Galarian Farfetch'd</td>\n",
              "      <td>1</td>\n",
              "      <td>Normal</td>\n",
              "      <td>Fighting</td>\n",
              "      <td>NaN</td>\n",
              "      <td>0.8</td>\n",
              "      <td>42.0</td>\n",
              "      <td>Steadfast</td>\n",
              "      <td>NaN</td>\n",
              "      <td>...</td>\n",
              "      <td>377</td>\n",
              "      <td>52</td>\n",
              "      <td>95</td>\n",
              "      <td>55</td>\n",
              "      <td>58</td>\n",
              "      <td>62</td>\n",
              "      <td>55</td>\n",
              "      <td>45.0</td>\n",
              "      <td>NaN</td>\n",
              "      <td>Medium Fast</td>\n",
              "    </tr>\n",
              "    <tr>\n",
              "      <th>...</th>\n",
              "      <td>...</td>\n",
              "      <td>...</td>\n",
              "      <td>...</td>\n",
              "      <td>...</td>\n",
              "      <td>...</td>\n",
              "      <td>...</td>\n",
              "      <td>...</td>\n",
              "      <td>...</td>\n",
              "      <td>...</td>\n",
              "      <td>...</td>\n",
              "      <td>...</td>\n",
              "      <td>...</td>\n",
              "      <td>...</td>\n",
              "      <td>...</td>\n",
              "      <td>...</td>\n",
              "      <td>...</td>\n",
              "      <td>...</td>\n",
              "      <td>...</td>\n",
              "      <td>...</td>\n",
              "      <td>...</td>\n",
              "      <td>...</td>\n",
              "    </tr>\n",
              "    <tr>\n",
              "      <th>1040</th>\n",
              "      <td>896</td>\n",
              "      <td>Glastrier</td>\n",
              "      <td>8</td>\n",
              "      <td>Sub Legendary</td>\n",
              "      <td>Ice</td>\n",
              "      <td>NaN</td>\n",
              "      <td>2.2</td>\n",
              "      <td>800.0</td>\n",
              "      <td>Chilling Neigh</td>\n",
              "      <td>NaN</td>\n",
              "      <td>...</td>\n",
              "      <td>580</td>\n",
              "      <td>100</td>\n",
              "      <td>145</td>\n",
              "      <td>130</td>\n",
              "      <td>65</td>\n",
              "      <td>110</td>\n",
              "      <td>30</td>\n",
              "      <td>3.0</td>\n",
              "      <td>NaN</td>\n",
              "      <td>Slow</td>\n",
              "    </tr>\n",
              "    <tr>\n",
              "      <th>1041</th>\n",
              "      <td>897</td>\n",
              "      <td>Spectrier</td>\n",
              "      <td>8</td>\n",
              "      <td>Sub Legendary</td>\n",
              "      <td>Ghost</td>\n",
              "      <td>NaN</td>\n",
              "      <td>2.0</td>\n",
              "      <td>44.5</td>\n",
              "      <td>Grim Neigh</td>\n",
              "      <td>NaN</td>\n",
              "      <td>...</td>\n",
              "      <td>580</td>\n",
              "      <td>100</td>\n",
              "      <td>65</td>\n",
              "      <td>60</td>\n",
              "      <td>145</td>\n",
              "      <td>80</td>\n",
              "      <td>130</td>\n",
              "      <td>3.0</td>\n",
              "      <td>NaN</td>\n",
              "      <td>Slow</td>\n",
              "    </tr>\n",
              "    <tr>\n",
              "      <th>1042</th>\n",
              "      <td>898</td>\n",
              "      <td>Calyrex</td>\n",
              "      <td>8</td>\n",
              "      <td>Legendary</td>\n",
              "      <td>Psychic</td>\n",
              "      <td>Grass</td>\n",
              "      <td>1.1</td>\n",
              "      <td>7.7</td>\n",
              "      <td>Unnerve</td>\n",
              "      <td>NaN</td>\n",
              "      <td>...</td>\n",
              "      <td>500</td>\n",
              "      <td>100</td>\n",
              "      <td>80</td>\n",
              "      <td>80</td>\n",
              "      <td>80</td>\n",
              "      <td>80</td>\n",
              "      <td>80</td>\n",
              "      <td>3.0</td>\n",
              "      <td>NaN</td>\n",
              "      <td>Slow</td>\n",
              "    </tr>\n",
              "    <tr>\n",
              "      <th>1043</th>\n",
              "      <td>898</td>\n",
              "      <td>Calyrex Ice Rider</td>\n",
              "      <td>8</td>\n",
              "      <td>Legendary</td>\n",
              "      <td>Psychic</td>\n",
              "      <td>Ice</td>\n",
              "      <td>2.4</td>\n",
              "      <td>809.1</td>\n",
              "      <td>As One</td>\n",
              "      <td>NaN</td>\n",
              "      <td>...</td>\n",
              "      <td>680</td>\n",
              "      <td>100</td>\n",
              "      <td>165</td>\n",
              "      <td>150</td>\n",
              "      <td>85</td>\n",
              "      <td>130</td>\n",
              "      <td>50</td>\n",
              "      <td>3.0</td>\n",
              "      <td>NaN</td>\n",
              "      <td>Slow</td>\n",
              "    </tr>\n",
              "    <tr>\n",
              "      <th>1044</th>\n",
              "      <td>898</td>\n",
              "      <td>Calyrex Shadow Rider</td>\n",
              "      <td>8</td>\n",
              "      <td>Legendary</td>\n",
              "      <td>Psychic</td>\n",
              "      <td>Ghost</td>\n",
              "      <td>2.4</td>\n",
              "      <td>53.6</td>\n",
              "      <td>As One</td>\n",
              "      <td>NaN</td>\n",
              "      <td>...</td>\n",
              "      <td>680</td>\n",
              "      <td>100</td>\n",
              "      <td>85</td>\n",
              "      <td>80</td>\n",
              "      <td>165</td>\n",
              "      <td>100</td>\n",
              "      <td>150</td>\n",
              "      <td>3.0</td>\n",
              "      <td>NaN</td>\n",
              "      <td>Slow</td>\n",
              "    </tr>\n",
              "  </tbody>\n",
              "</table>\n",
              "<p>120 rows × 21 columns</p>\n",
              "</div>\n",
              "    <div class=\"colab-df-buttons\">\n",
              "\n",
              "  <div class=\"colab-df-container\">\n",
              "    <button class=\"colab-df-convert\" onclick=\"convertToInteractive('df-56476900-f700-4f7b-987a-c68d103691a3')\"\n",
              "            title=\"Convert this dataframe to an interactive table.\"\n",
              "            style=\"display:none;\">\n",
              "\n",
              "  <svg xmlns=\"http://www.w3.org/2000/svg\" height=\"24px\" viewBox=\"0 -960 960 960\">\n",
              "    <path d=\"M120-120v-720h720v720H120Zm60-500h600v-160H180v160Zm220 220h160v-160H400v160Zm0 220h160v-160H400v160ZM180-400h160v-160H180v160Zm440 0h160v-160H620v160ZM180-180h160v-160H180v160Zm440 0h160v-160H620v160Z\"/>\n",
              "  </svg>\n",
              "    </button>\n",
              "\n",
              "  <style>\n",
              "    .colab-df-container {\n",
              "      display:flex;\n",
              "      gap: 12px;\n",
              "    }\n",
              "\n",
              "    .colab-df-convert {\n",
              "      background-color: #E8F0FE;\n",
              "      border: none;\n",
              "      border-radius: 50%;\n",
              "      cursor: pointer;\n",
              "      display: none;\n",
              "      fill: #1967D2;\n",
              "      height: 32px;\n",
              "      padding: 0 0 0 0;\n",
              "      width: 32px;\n",
              "    }\n",
              "\n",
              "    .colab-df-convert:hover {\n",
              "      background-color: #E2EBFA;\n",
              "      box-shadow: 0px 1px 2px rgba(60, 64, 67, 0.3), 0px 1px 3px 1px rgba(60, 64, 67, 0.15);\n",
              "      fill: #174EA6;\n",
              "    }\n",
              "\n",
              "    .colab-df-buttons div {\n",
              "      margin-bottom: 4px;\n",
              "    }\n",
              "\n",
              "    [theme=dark] .colab-df-convert {\n",
              "      background-color: #3B4455;\n",
              "      fill: #D2E3FC;\n",
              "    }\n",
              "\n",
              "    [theme=dark] .colab-df-convert:hover {\n",
              "      background-color: #434B5C;\n",
              "      box-shadow: 0px 1px 3px 1px rgba(0, 0, 0, 0.15);\n",
              "      filter: drop-shadow(0px 1px 2px rgba(0, 0, 0, 0.3));\n",
              "      fill: #FFFFFF;\n",
              "    }\n",
              "  </style>\n",
              "\n",
              "    <script>\n",
              "      const buttonEl =\n",
              "        document.querySelector('#df-56476900-f700-4f7b-987a-c68d103691a3 button.colab-df-convert');\n",
              "      buttonEl.style.display =\n",
              "        google.colab.kernel.accessAllowed ? 'block' : 'none';\n",
              "\n",
              "      async function convertToInteractive(key) {\n",
              "        const element = document.querySelector('#df-56476900-f700-4f7b-987a-c68d103691a3');\n",
              "        const dataTable =\n",
              "          await google.colab.kernel.invokeFunction('convertToInteractive',\n",
              "                                                    [key], {});\n",
              "        if (!dataTable) return;\n",
              "\n",
              "        const docLinkHtml = 'Like what you see? Visit the ' +\n",
              "          '<a target=\"_blank\" href=https://colab.research.google.com/notebooks/data_table.ipynb>data table notebook</a>'\n",
              "          + ' to learn more about interactive tables.';\n",
              "        element.innerHTML = '';\n",
              "        dataTable['output_type'] = 'display_data';\n",
              "        await google.colab.output.renderOutput(dataTable, element);\n",
              "        const docLink = document.createElement('div');\n",
              "        docLink.innerHTML = docLinkHtml;\n",
              "        element.appendChild(docLink);\n",
              "      }\n",
              "    </script>\n",
              "  </div>\n",
              "\n",
              "\n",
              "<div id=\"df-0681f463-b838-4e27-9d2e-91a33f5abf71\">\n",
              "  <button class=\"colab-df-quickchart\" onclick=\"quickchart('df-0681f463-b838-4e27-9d2e-91a33f5abf71')\"\n",
              "            title=\"Suggest charts\"\n",
              "            style=\"display:none;\">\n",
              "\n",
              "<svg xmlns=\"http://www.w3.org/2000/svg\" height=\"24px\"viewBox=\"0 0 24 24\"\n",
              "     width=\"24px\">\n",
              "    <g>\n",
              "        <path d=\"M19 3H5c-1.1 0-2 .9-2 2v14c0 1.1.9 2 2 2h14c1.1 0 2-.9 2-2V5c0-1.1-.9-2-2-2zM9 17H7v-7h2v7zm4 0h-2V7h2v10zm4 0h-2v-4h2v4z\"/>\n",
              "    </g>\n",
              "</svg>\n",
              "  </button>\n",
              "\n",
              "<style>\n",
              "  .colab-df-quickchart {\n",
              "      --bg-color: #E8F0FE;\n",
              "      --fill-color: #1967D2;\n",
              "      --hover-bg-color: #E2EBFA;\n",
              "      --hover-fill-color: #174EA6;\n",
              "      --disabled-fill-color: #AAA;\n",
              "      --disabled-bg-color: #DDD;\n",
              "  }\n",
              "\n",
              "  [theme=dark] .colab-df-quickchart {\n",
              "      --bg-color: #3B4455;\n",
              "      --fill-color: #D2E3FC;\n",
              "      --hover-bg-color: #434B5C;\n",
              "      --hover-fill-color: #FFFFFF;\n",
              "      --disabled-bg-color: #3B4455;\n",
              "      --disabled-fill-color: #666;\n",
              "  }\n",
              "\n",
              "  .colab-df-quickchart {\n",
              "    background-color: var(--bg-color);\n",
              "    border: none;\n",
              "    border-radius: 50%;\n",
              "    cursor: pointer;\n",
              "    display: none;\n",
              "    fill: var(--fill-color);\n",
              "    height: 32px;\n",
              "    padding: 0;\n",
              "    width: 32px;\n",
              "  }\n",
              "\n",
              "  .colab-df-quickchart:hover {\n",
              "    background-color: var(--hover-bg-color);\n",
              "    box-shadow: 0 1px 2px rgba(60, 64, 67, 0.3), 0 1px 3px 1px rgba(60, 64, 67, 0.15);\n",
              "    fill: var(--button-hover-fill-color);\n",
              "  }\n",
              "\n",
              "  .colab-df-quickchart-complete:disabled,\n",
              "  .colab-df-quickchart-complete:disabled:hover {\n",
              "    background-color: var(--disabled-bg-color);\n",
              "    fill: var(--disabled-fill-color);\n",
              "    box-shadow: none;\n",
              "  }\n",
              "\n",
              "  .colab-df-spinner {\n",
              "    border: 2px solid var(--fill-color);\n",
              "    border-color: transparent;\n",
              "    border-bottom-color: var(--fill-color);\n",
              "    animation:\n",
              "      spin 1s steps(1) infinite;\n",
              "  }\n",
              "\n",
              "  @keyframes spin {\n",
              "    0% {\n",
              "      border-color: transparent;\n",
              "      border-bottom-color: var(--fill-color);\n",
              "      border-left-color: var(--fill-color);\n",
              "    }\n",
              "    20% {\n",
              "      border-color: transparent;\n",
              "      border-left-color: var(--fill-color);\n",
              "      border-top-color: var(--fill-color);\n",
              "    }\n",
              "    30% {\n",
              "      border-color: transparent;\n",
              "      border-left-color: var(--fill-color);\n",
              "      border-top-color: var(--fill-color);\n",
              "      border-right-color: var(--fill-color);\n",
              "    }\n",
              "    40% {\n",
              "      border-color: transparent;\n",
              "      border-right-color: var(--fill-color);\n",
              "      border-top-color: var(--fill-color);\n",
              "    }\n",
              "    60% {\n",
              "      border-color: transparent;\n",
              "      border-right-color: var(--fill-color);\n",
              "    }\n",
              "    80% {\n",
              "      border-color: transparent;\n",
              "      border-right-color: var(--fill-color);\n",
              "      border-bottom-color: var(--fill-color);\n",
              "    }\n",
              "    90% {\n",
              "      border-color: transparent;\n",
              "      border-bottom-color: var(--fill-color);\n",
              "    }\n",
              "  }\n",
              "</style>\n",
              "\n",
              "  <script>\n",
              "    async function quickchart(key) {\n",
              "      const quickchartButtonEl =\n",
              "        document.querySelector('#' + key + ' button');\n",
              "      quickchartButtonEl.disabled = true;  // To prevent multiple clicks.\n",
              "      quickchartButtonEl.classList.add('colab-df-spinner');\n",
              "      try {\n",
              "        const charts = await google.colab.kernel.invokeFunction(\n",
              "            'suggestCharts', [key], {});\n",
              "      } catch (error) {\n",
              "        console.error('Error during call to suggestCharts:', error);\n",
              "      }\n",
              "      quickchartButtonEl.classList.remove('colab-df-spinner');\n",
              "      quickchartButtonEl.classList.add('colab-df-quickchart-complete');\n",
              "    }\n",
              "    (() => {\n",
              "      let quickchartButtonEl =\n",
              "        document.querySelector('#df-0681f463-b838-4e27-9d2e-91a33f5abf71 button');\n",
              "      quickchartButtonEl.style.display =\n",
              "        google.colab.kernel.accessAllowed ? 'block' : 'none';\n",
              "    })();\n",
              "  </script>\n",
              "</div>\n",
              "    </div>\n",
              "  </div>\n"
            ],
            "application/vnd.google.colaboratory.intrinsic+json": {
              "type": "dataframe",
              "variable_name": "no_base_experience_df"
            }
          },
          "metadata": {},
          "execution_count": 27
        }
      ]
    },
    {
      "cell_type": "markdown",
      "source": [
        "A lot of the Pokemon with no `base_experience` are Galarian Pokemon. Pokemon Database shows that [Galarian Pokemon have the same base experience as their regular counterparts](https://pokemondb.net/pokedex/ponyta). This means we can copy the `base_experience` of the regular Pokemon to their Galarian counterparts with missing values."
      ],
      "metadata": {
        "id": "rb7zTQ-LUOih"
      }
    },
    {
      "cell_type": "code",
      "source": [
        "# Mask Galarian Pokemon with missing base_experience\n",
        "galarian_no_base_experience_mask = study_df['base_experience'].isnull() & study_df['name'].str.contains('Galarian')\n",
        "\n",
        "for index, galarian_pokemon in study_df[galarian_no_base_experience_mask].iterrows():\n",
        "    # Extract the base name (without \"Galarian\")\n",
        "    base_name = galarian_pokemon['name'].replace('Galarian ', '')\n",
        "\n",
        "    # Check if the base name matches with a Pokemon\n",
        "    if not pd.isnull(study_df.loc[study_df['name'] == base_name, 'base_experience']).all():\n",
        "        # Copy the base_experience from the regular Pokemon to the Galarian counterpart\n",
        "        study_df.loc[index, 'base_experience'] = study_df.loc[study_df['name'] == base_name, 'base_experience'].values[0]\n",
        "\n",
        "# Mask Pokemon with missing base_experience\n",
        "no_base_experience_mask = study_df['base_experience'].isnull()\n",
        "# Make a new df out of rows with no base_experience\n",
        "no_base_experience_df = study_df[no_base_experience_mask]\n",
        "no_base_experience_df"
      ],
      "metadata": {
        "colab": {
          "base_uri": "https://localhost:8080/"
        },
        "id": "QMEQdXarUkFU",
        "outputId": "4f81bb2b-353e-4068-af52-d08aa5ac9ae2"
      },
      "execution_count": null,
      "outputs": [
        {
          "output_type": "execute_result",
          "data": {
            "text/plain": [
              "      pokedex_number                  name  generation         status  \\\n",
              "944              808                Meltan           7       Mythical   \n",
              "945              809              Melmetal           7       Mythical   \n",
              "946              810               Grookey           8         Normal   \n",
              "947              811              Thwackey           8         Normal   \n",
              "948              812             Rillaboom           8         Normal   \n",
              "...              ...                   ...         ...            ...   \n",
              "1040             896             Glastrier           8  Sub Legendary   \n",
              "1041             897             Spectrier           8  Sub Legendary   \n",
              "1042             898               Calyrex           8      Legendary   \n",
              "1043             898     Calyrex Ice Rider           8      Legendary   \n",
              "1044             898  Calyrex Shadow Rider           8      Legendary   \n",
              "\n",
              "       type_1 type_2  height_m  weight_kg       ability_1 ability_2  ...  \\\n",
              "944     Steel    NaN       0.2        8.0     Magnet Pull       NaN  ...   \n",
              "945     Steel    NaN       2.5      800.0       Iron Fist       NaN  ...   \n",
              "946     Grass    NaN       0.3        5.0        Overgrow       NaN  ...   \n",
              "947     Grass    NaN       0.7       14.0        Overgrow       NaN  ...   \n",
              "948     Grass    NaN       2.1       90.0        Overgrow       NaN  ...   \n",
              "...       ...    ...       ...        ...             ...       ...  ...   \n",
              "1040      Ice    NaN       2.2      800.0  Chilling Neigh       NaN  ...   \n",
              "1041    Ghost    NaN       2.0       44.5      Grim Neigh       NaN  ...   \n",
              "1042  Psychic  Grass       1.1        7.7         Unnerve       NaN  ...   \n",
              "1043  Psychic    Ice       2.4      809.1          As One       NaN  ...   \n",
              "1044  Psychic  Ghost       2.4       53.6          As One       NaN  ...   \n",
              "\n",
              "     total_points   hp  attack  defense  sp_attack  sp_defense  speed  \\\n",
              "944           300   46      65       65         55          35     34   \n",
              "945           600  135     143      143         80          65     34   \n",
              "946           310   50      65       50         40          40     65   \n",
              "947           420   70      85       70         55          60     80   \n",
              "948           530  100     125       90         60          70     85   \n",
              "...           ...  ...     ...      ...        ...         ...    ...   \n",
              "1040          580  100     145      130         65         110     30   \n",
              "1041          580  100      65       60        145          80    130   \n",
              "1042          500  100      80       80         80          80     80   \n",
              "1043          680  100     165      150         85         130     50   \n",
              "1044          680  100      85       80        165         100    150   \n",
              "\n",
              "      catch_rate  base_experience  growth_rate  \n",
              "944          3.0              NaN         Slow  \n",
              "945          3.0              NaN         Slow  \n",
              "946         45.0              NaN  Medium Slow  \n",
              "947         45.0              NaN  Medium Slow  \n",
              "948         45.0              NaN  Medium Slow  \n",
              "...          ...              ...          ...  \n",
              "1040         3.0              NaN         Slow  \n",
              "1041         3.0              NaN         Slow  \n",
              "1042         3.0              NaN         Slow  \n",
              "1043         3.0              NaN         Slow  \n",
              "1044         3.0              NaN         Slow  \n",
              "\n",
              "[101 rows x 21 columns]"
            ],
            "text/html": [
              "\n",
              "  <div id=\"df-8e557bf0-e7c3-48a7-a070-2b5358181201\" class=\"colab-df-container\">\n",
              "    <div>\n",
              "<style scoped>\n",
              "    .dataframe tbody tr th:only-of-type {\n",
              "        vertical-align: middle;\n",
              "    }\n",
              "\n",
              "    .dataframe tbody tr th {\n",
              "        vertical-align: top;\n",
              "    }\n",
              "\n",
              "    .dataframe thead th {\n",
              "        text-align: right;\n",
              "    }\n",
              "</style>\n",
              "<table border=\"1\" class=\"dataframe\">\n",
              "  <thead>\n",
              "    <tr style=\"text-align: right;\">\n",
              "      <th></th>\n",
              "      <th>pokedex_number</th>\n",
              "      <th>name</th>\n",
              "      <th>generation</th>\n",
              "      <th>status</th>\n",
              "      <th>type_1</th>\n",
              "      <th>type_2</th>\n",
              "      <th>height_m</th>\n",
              "      <th>weight_kg</th>\n",
              "      <th>ability_1</th>\n",
              "      <th>ability_2</th>\n",
              "      <th>...</th>\n",
              "      <th>total_points</th>\n",
              "      <th>hp</th>\n",
              "      <th>attack</th>\n",
              "      <th>defense</th>\n",
              "      <th>sp_attack</th>\n",
              "      <th>sp_defense</th>\n",
              "      <th>speed</th>\n",
              "      <th>catch_rate</th>\n",
              "      <th>base_experience</th>\n",
              "      <th>growth_rate</th>\n",
              "    </tr>\n",
              "  </thead>\n",
              "  <tbody>\n",
              "    <tr>\n",
              "      <th>944</th>\n",
              "      <td>808</td>\n",
              "      <td>Meltan</td>\n",
              "      <td>7</td>\n",
              "      <td>Mythical</td>\n",
              "      <td>Steel</td>\n",
              "      <td>NaN</td>\n",
              "      <td>0.2</td>\n",
              "      <td>8.0</td>\n",
              "      <td>Magnet Pull</td>\n",
              "      <td>NaN</td>\n",
              "      <td>...</td>\n",
              "      <td>300</td>\n",
              "      <td>46</td>\n",
              "      <td>65</td>\n",
              "      <td>65</td>\n",
              "      <td>55</td>\n",
              "      <td>35</td>\n",
              "      <td>34</td>\n",
              "      <td>3.0</td>\n",
              "      <td>NaN</td>\n",
              "      <td>Slow</td>\n",
              "    </tr>\n",
              "    <tr>\n",
              "      <th>945</th>\n",
              "      <td>809</td>\n",
              "      <td>Melmetal</td>\n",
              "      <td>7</td>\n",
              "      <td>Mythical</td>\n",
              "      <td>Steel</td>\n",
              "      <td>NaN</td>\n",
              "      <td>2.5</td>\n",
              "      <td>800.0</td>\n",
              "      <td>Iron Fist</td>\n",
              "      <td>NaN</td>\n",
              "      <td>...</td>\n",
              "      <td>600</td>\n",
              "      <td>135</td>\n",
              "      <td>143</td>\n",
              "      <td>143</td>\n",
              "      <td>80</td>\n",
              "      <td>65</td>\n",
              "      <td>34</td>\n",
              "      <td>3.0</td>\n",
              "      <td>NaN</td>\n",
              "      <td>Slow</td>\n",
              "    </tr>\n",
              "    <tr>\n",
              "      <th>946</th>\n",
              "      <td>810</td>\n",
              "      <td>Grookey</td>\n",
              "      <td>8</td>\n",
              "      <td>Normal</td>\n",
              "      <td>Grass</td>\n",
              "      <td>NaN</td>\n",
              "      <td>0.3</td>\n",
              "      <td>5.0</td>\n",
              "      <td>Overgrow</td>\n",
              "      <td>NaN</td>\n",
              "      <td>...</td>\n",
              "      <td>310</td>\n",
              "      <td>50</td>\n",
              "      <td>65</td>\n",
              "      <td>50</td>\n",
              "      <td>40</td>\n",
              "      <td>40</td>\n",
              "      <td>65</td>\n",
              "      <td>45.0</td>\n",
              "      <td>NaN</td>\n",
              "      <td>Medium Slow</td>\n",
              "    </tr>\n",
              "    <tr>\n",
              "      <th>947</th>\n",
              "      <td>811</td>\n",
              "      <td>Thwackey</td>\n",
              "      <td>8</td>\n",
              "      <td>Normal</td>\n",
              "      <td>Grass</td>\n",
              "      <td>NaN</td>\n",
              "      <td>0.7</td>\n",
              "      <td>14.0</td>\n",
              "      <td>Overgrow</td>\n",
              "      <td>NaN</td>\n",
              "      <td>...</td>\n",
              "      <td>420</td>\n",
              "      <td>70</td>\n",
              "      <td>85</td>\n",
              "      <td>70</td>\n",
              "      <td>55</td>\n",
              "      <td>60</td>\n",
              "      <td>80</td>\n",
              "      <td>45.0</td>\n",
              "      <td>NaN</td>\n",
              "      <td>Medium Slow</td>\n",
              "    </tr>\n",
              "    <tr>\n",
              "      <th>948</th>\n",
              "      <td>812</td>\n",
              "      <td>Rillaboom</td>\n",
              "      <td>8</td>\n",
              "      <td>Normal</td>\n",
              "      <td>Grass</td>\n",
              "      <td>NaN</td>\n",
              "      <td>2.1</td>\n",
              "      <td>90.0</td>\n",
              "      <td>Overgrow</td>\n",
              "      <td>NaN</td>\n",
              "      <td>...</td>\n",
              "      <td>530</td>\n",
              "      <td>100</td>\n",
              "      <td>125</td>\n",
              "      <td>90</td>\n",
              "      <td>60</td>\n",
              "      <td>70</td>\n",
              "      <td>85</td>\n",
              "      <td>45.0</td>\n",
              "      <td>NaN</td>\n",
              "      <td>Medium Slow</td>\n",
              "    </tr>\n",
              "    <tr>\n",
              "      <th>...</th>\n",
              "      <td>...</td>\n",
              "      <td>...</td>\n",
              "      <td>...</td>\n",
              "      <td>...</td>\n",
              "      <td>...</td>\n",
              "      <td>...</td>\n",
              "      <td>...</td>\n",
              "      <td>...</td>\n",
              "      <td>...</td>\n",
              "      <td>...</td>\n",
              "      <td>...</td>\n",
              "      <td>...</td>\n",
              "      <td>...</td>\n",
              "      <td>...</td>\n",
              "      <td>...</td>\n",
              "      <td>...</td>\n",
              "      <td>...</td>\n",
              "      <td>...</td>\n",
              "      <td>...</td>\n",
              "      <td>...</td>\n",
              "      <td>...</td>\n",
              "    </tr>\n",
              "    <tr>\n",
              "      <th>1040</th>\n",
              "      <td>896</td>\n",
              "      <td>Glastrier</td>\n",
              "      <td>8</td>\n",
              "      <td>Sub Legendary</td>\n",
              "      <td>Ice</td>\n",
              "      <td>NaN</td>\n",
              "      <td>2.2</td>\n",
              "      <td>800.0</td>\n",
              "      <td>Chilling Neigh</td>\n",
              "      <td>NaN</td>\n",
              "      <td>...</td>\n",
              "      <td>580</td>\n",
              "      <td>100</td>\n",
              "      <td>145</td>\n",
              "      <td>130</td>\n",
              "      <td>65</td>\n",
              "      <td>110</td>\n",
              "      <td>30</td>\n",
              "      <td>3.0</td>\n",
              "      <td>NaN</td>\n",
              "      <td>Slow</td>\n",
              "    </tr>\n",
              "    <tr>\n",
              "      <th>1041</th>\n",
              "      <td>897</td>\n",
              "      <td>Spectrier</td>\n",
              "      <td>8</td>\n",
              "      <td>Sub Legendary</td>\n",
              "      <td>Ghost</td>\n",
              "      <td>NaN</td>\n",
              "      <td>2.0</td>\n",
              "      <td>44.5</td>\n",
              "      <td>Grim Neigh</td>\n",
              "      <td>NaN</td>\n",
              "      <td>...</td>\n",
              "      <td>580</td>\n",
              "      <td>100</td>\n",
              "      <td>65</td>\n",
              "      <td>60</td>\n",
              "      <td>145</td>\n",
              "      <td>80</td>\n",
              "      <td>130</td>\n",
              "      <td>3.0</td>\n",
              "      <td>NaN</td>\n",
              "      <td>Slow</td>\n",
              "    </tr>\n",
              "    <tr>\n",
              "      <th>1042</th>\n",
              "      <td>898</td>\n",
              "      <td>Calyrex</td>\n",
              "      <td>8</td>\n",
              "      <td>Legendary</td>\n",
              "      <td>Psychic</td>\n",
              "      <td>Grass</td>\n",
              "      <td>1.1</td>\n",
              "      <td>7.7</td>\n",
              "      <td>Unnerve</td>\n",
              "      <td>NaN</td>\n",
              "      <td>...</td>\n",
              "      <td>500</td>\n",
              "      <td>100</td>\n",
              "      <td>80</td>\n",
              "      <td>80</td>\n",
              "      <td>80</td>\n",
              "      <td>80</td>\n",
              "      <td>80</td>\n",
              "      <td>3.0</td>\n",
              "      <td>NaN</td>\n",
              "      <td>Slow</td>\n",
              "    </tr>\n",
              "    <tr>\n",
              "      <th>1043</th>\n",
              "      <td>898</td>\n",
              "      <td>Calyrex Ice Rider</td>\n",
              "      <td>8</td>\n",
              "      <td>Legendary</td>\n",
              "      <td>Psychic</td>\n",
              "      <td>Ice</td>\n",
              "      <td>2.4</td>\n",
              "      <td>809.1</td>\n",
              "      <td>As One</td>\n",
              "      <td>NaN</td>\n",
              "      <td>...</td>\n",
              "      <td>680</td>\n",
              "      <td>100</td>\n",
              "      <td>165</td>\n",
              "      <td>150</td>\n",
              "      <td>85</td>\n",
              "      <td>130</td>\n",
              "      <td>50</td>\n",
              "      <td>3.0</td>\n",
              "      <td>NaN</td>\n",
              "      <td>Slow</td>\n",
              "    </tr>\n",
              "    <tr>\n",
              "      <th>1044</th>\n",
              "      <td>898</td>\n",
              "      <td>Calyrex Shadow Rider</td>\n",
              "      <td>8</td>\n",
              "      <td>Legendary</td>\n",
              "      <td>Psychic</td>\n",
              "      <td>Ghost</td>\n",
              "      <td>2.4</td>\n",
              "      <td>53.6</td>\n",
              "      <td>As One</td>\n",
              "      <td>NaN</td>\n",
              "      <td>...</td>\n",
              "      <td>680</td>\n",
              "      <td>100</td>\n",
              "      <td>85</td>\n",
              "      <td>80</td>\n",
              "      <td>165</td>\n",
              "      <td>100</td>\n",
              "      <td>150</td>\n",
              "      <td>3.0</td>\n",
              "      <td>NaN</td>\n",
              "      <td>Slow</td>\n",
              "    </tr>\n",
              "  </tbody>\n",
              "</table>\n",
              "<p>101 rows × 21 columns</p>\n",
              "</div>\n",
              "    <div class=\"colab-df-buttons\">\n",
              "\n",
              "  <div class=\"colab-df-container\">\n",
              "    <button class=\"colab-df-convert\" onclick=\"convertToInteractive('df-8e557bf0-e7c3-48a7-a070-2b5358181201')\"\n",
              "            title=\"Convert this dataframe to an interactive table.\"\n",
              "            style=\"display:none;\">\n",
              "\n",
              "  <svg xmlns=\"http://www.w3.org/2000/svg\" height=\"24px\" viewBox=\"0 -960 960 960\">\n",
              "    <path d=\"M120-120v-720h720v720H120Zm60-500h600v-160H180v160Zm220 220h160v-160H400v160Zm0 220h160v-160H400v160ZM180-400h160v-160H180v160Zm440 0h160v-160H620v160ZM180-180h160v-160H180v160Zm440 0h160v-160H620v160Z\"/>\n",
              "  </svg>\n",
              "    </button>\n",
              "\n",
              "  <style>\n",
              "    .colab-df-container {\n",
              "      display:flex;\n",
              "      gap: 12px;\n",
              "    }\n",
              "\n",
              "    .colab-df-convert {\n",
              "      background-color: #E8F0FE;\n",
              "      border: none;\n",
              "      border-radius: 50%;\n",
              "      cursor: pointer;\n",
              "      display: none;\n",
              "      fill: #1967D2;\n",
              "      height: 32px;\n",
              "      padding: 0 0 0 0;\n",
              "      width: 32px;\n",
              "    }\n",
              "\n",
              "    .colab-df-convert:hover {\n",
              "      background-color: #E2EBFA;\n",
              "      box-shadow: 0px 1px 2px rgba(60, 64, 67, 0.3), 0px 1px 3px 1px rgba(60, 64, 67, 0.15);\n",
              "      fill: #174EA6;\n",
              "    }\n",
              "\n",
              "    .colab-df-buttons div {\n",
              "      margin-bottom: 4px;\n",
              "    }\n",
              "\n",
              "    [theme=dark] .colab-df-convert {\n",
              "      background-color: #3B4455;\n",
              "      fill: #D2E3FC;\n",
              "    }\n",
              "\n",
              "    [theme=dark] .colab-df-convert:hover {\n",
              "      background-color: #434B5C;\n",
              "      box-shadow: 0px 1px 3px 1px rgba(0, 0, 0, 0.15);\n",
              "      filter: drop-shadow(0px 1px 2px rgba(0, 0, 0, 0.3));\n",
              "      fill: #FFFFFF;\n",
              "    }\n",
              "  </style>\n",
              "\n",
              "    <script>\n",
              "      const buttonEl =\n",
              "        document.querySelector('#df-8e557bf0-e7c3-48a7-a070-2b5358181201 button.colab-df-convert');\n",
              "      buttonEl.style.display =\n",
              "        google.colab.kernel.accessAllowed ? 'block' : 'none';\n",
              "\n",
              "      async function convertToInteractive(key) {\n",
              "        const element = document.querySelector('#df-8e557bf0-e7c3-48a7-a070-2b5358181201');\n",
              "        const dataTable =\n",
              "          await google.colab.kernel.invokeFunction('convertToInteractive',\n",
              "                                                    [key], {});\n",
              "        if (!dataTable) return;\n",
              "\n",
              "        const docLinkHtml = 'Like what you see? Visit the ' +\n",
              "          '<a target=\"_blank\" href=https://colab.research.google.com/notebooks/data_table.ipynb>data table notebook</a>'\n",
              "          + ' to learn more about interactive tables.';\n",
              "        element.innerHTML = '';\n",
              "        dataTable['output_type'] = 'display_data';\n",
              "        await google.colab.output.renderOutput(dataTable, element);\n",
              "        const docLink = document.createElement('div');\n",
              "        docLink.innerHTML = docLinkHtml;\n",
              "        element.appendChild(docLink);\n",
              "      }\n",
              "    </script>\n",
              "  </div>\n",
              "\n",
              "\n",
              "<div id=\"df-bab4e425-29a3-428e-a5c3-60def90dfcbc\">\n",
              "  <button class=\"colab-df-quickchart\" onclick=\"quickchart('df-bab4e425-29a3-428e-a5c3-60def90dfcbc')\"\n",
              "            title=\"Suggest charts\"\n",
              "            style=\"display:none;\">\n",
              "\n",
              "<svg xmlns=\"http://www.w3.org/2000/svg\" height=\"24px\"viewBox=\"0 0 24 24\"\n",
              "     width=\"24px\">\n",
              "    <g>\n",
              "        <path d=\"M19 3H5c-1.1 0-2 .9-2 2v14c0 1.1.9 2 2 2h14c1.1 0 2-.9 2-2V5c0-1.1-.9-2-2-2zM9 17H7v-7h2v7zm4 0h-2V7h2v10zm4 0h-2v-4h2v4z\"/>\n",
              "    </g>\n",
              "</svg>\n",
              "  </button>\n",
              "\n",
              "<style>\n",
              "  .colab-df-quickchart {\n",
              "      --bg-color: #E8F0FE;\n",
              "      --fill-color: #1967D2;\n",
              "      --hover-bg-color: #E2EBFA;\n",
              "      --hover-fill-color: #174EA6;\n",
              "      --disabled-fill-color: #AAA;\n",
              "      --disabled-bg-color: #DDD;\n",
              "  }\n",
              "\n",
              "  [theme=dark] .colab-df-quickchart {\n",
              "      --bg-color: #3B4455;\n",
              "      --fill-color: #D2E3FC;\n",
              "      --hover-bg-color: #434B5C;\n",
              "      --hover-fill-color: #FFFFFF;\n",
              "      --disabled-bg-color: #3B4455;\n",
              "      --disabled-fill-color: #666;\n",
              "  }\n",
              "\n",
              "  .colab-df-quickchart {\n",
              "    background-color: var(--bg-color);\n",
              "    border: none;\n",
              "    border-radius: 50%;\n",
              "    cursor: pointer;\n",
              "    display: none;\n",
              "    fill: var(--fill-color);\n",
              "    height: 32px;\n",
              "    padding: 0;\n",
              "    width: 32px;\n",
              "  }\n",
              "\n",
              "  .colab-df-quickchart:hover {\n",
              "    background-color: var(--hover-bg-color);\n",
              "    box-shadow: 0 1px 2px rgba(60, 64, 67, 0.3), 0 1px 3px 1px rgba(60, 64, 67, 0.15);\n",
              "    fill: var(--button-hover-fill-color);\n",
              "  }\n",
              "\n",
              "  .colab-df-quickchart-complete:disabled,\n",
              "  .colab-df-quickchart-complete:disabled:hover {\n",
              "    background-color: var(--disabled-bg-color);\n",
              "    fill: var(--disabled-fill-color);\n",
              "    box-shadow: none;\n",
              "  }\n",
              "\n",
              "  .colab-df-spinner {\n",
              "    border: 2px solid var(--fill-color);\n",
              "    border-color: transparent;\n",
              "    border-bottom-color: var(--fill-color);\n",
              "    animation:\n",
              "      spin 1s steps(1) infinite;\n",
              "  }\n",
              "\n",
              "  @keyframes spin {\n",
              "    0% {\n",
              "      border-color: transparent;\n",
              "      border-bottom-color: var(--fill-color);\n",
              "      border-left-color: var(--fill-color);\n",
              "    }\n",
              "    20% {\n",
              "      border-color: transparent;\n",
              "      border-left-color: var(--fill-color);\n",
              "      border-top-color: var(--fill-color);\n",
              "    }\n",
              "    30% {\n",
              "      border-color: transparent;\n",
              "      border-left-color: var(--fill-color);\n",
              "      border-top-color: var(--fill-color);\n",
              "      border-right-color: var(--fill-color);\n",
              "    }\n",
              "    40% {\n",
              "      border-color: transparent;\n",
              "      border-right-color: var(--fill-color);\n",
              "      border-top-color: var(--fill-color);\n",
              "    }\n",
              "    60% {\n",
              "      border-color: transparent;\n",
              "      border-right-color: var(--fill-color);\n",
              "    }\n",
              "    80% {\n",
              "      border-color: transparent;\n",
              "      border-right-color: var(--fill-color);\n",
              "      border-bottom-color: var(--fill-color);\n",
              "    }\n",
              "    90% {\n",
              "      border-color: transparent;\n",
              "      border-bottom-color: var(--fill-color);\n",
              "    }\n",
              "  }\n",
              "</style>\n",
              "\n",
              "  <script>\n",
              "    async function quickchart(key) {\n",
              "      const quickchartButtonEl =\n",
              "        document.querySelector('#' + key + ' button');\n",
              "      quickchartButtonEl.disabled = true;  // To prevent multiple clicks.\n",
              "      quickchartButtonEl.classList.add('colab-df-spinner');\n",
              "      try {\n",
              "        const charts = await google.colab.kernel.invokeFunction(\n",
              "            'suggestCharts', [key], {});\n",
              "      } catch (error) {\n",
              "        console.error('Error during call to suggestCharts:', error);\n",
              "      }\n",
              "      quickchartButtonEl.classList.remove('colab-df-spinner');\n",
              "      quickchartButtonEl.classList.add('colab-df-quickchart-complete');\n",
              "    }\n",
              "    (() => {\n",
              "      let quickchartButtonEl =\n",
              "        document.querySelector('#df-bab4e425-29a3-428e-a5c3-60def90dfcbc button');\n",
              "      quickchartButtonEl.style.display =\n",
              "        google.colab.kernel.accessAllowed ? 'block' : 'none';\n",
              "    })();\n",
              "  </script>\n",
              "</div>\n",
              "    </div>\n",
              "  </div>\n"
            ],
            "application/vnd.google.colaboratory.intrinsic+json": {
              "type": "dataframe",
              "variable_name": "no_base_experience_df"
            }
          },
          "metadata": {},
          "execution_count": 28
        }
      ]
    },
    {
      "cell_type": "markdown",
      "source": [
        "There are still 101 Pokemon with missing `base_experience` values. It would be too time consuming to check all of these and fill them out individually. It is also unlike the case with `catch_rate`, where the Pokemon with missing values are variants of ones with complete values. It can also be observed that all 99 8th Generation Pokemon have missing values.\n",
        "\n",
        "It is debatable to simply remove all these Pokemon and instead make this study about all Pokemon from Gen I to Gen VII, but it is much preferred to keep them in. Instead, all of the missing values will be imputed with the median `base_experience` value of the dataframe."
      ],
      "metadata": {
        "id": "9zykI9RhVd_H"
      }
    },
    {
      "cell_type": "code",
      "source": [
        "# Get the median of non-null base_experience values\n",
        "median_base_experience = study_df['base_experience'].median()\n",
        "print(\"Median Base Experience:\", median_base_experience)\n",
        "\n",
        "# Imput missing base_experience values with the median\n",
        "study_df['base_experience'].fillna(median_base_experience, inplace=True)\n",
        "\n",
        "# Mask Pokemon with missing base_experience\n",
        "no_base_experience_mask = study_df['base_experience'].isnull()\n",
        "# Make a new df out of rows with no base_experience\n",
        "no_base_experience_df = study_df[no_base_experience_mask]\n",
        "print(\"\\nNo Base Experience subset:\")\n",
        "print(no_base_experience_df)"
      ],
      "metadata": {
        "colab": {
          "base_uri": "https://localhost:8080/"
        },
        "id": "Dd_0le2RYJRM",
        "outputId": "f926689f-ef68-4460-bf4d-a449fc552c53"
      },
      "execution_count": null,
      "outputs": [
        {
          "output_type": "stream",
          "name": "stdout",
          "text": [
            "Median Base Experience: 159.0\n",
            "\n",
            "No Base Experience subset:\n",
            "Empty DataFrame\n",
            "Columns: [pokedex_number, name, generation, status, type_1, type_2, height_m, weight_kg, ability_1, ability_2, ability_hidden, total_points, hp, attack, defense, sp_attack, sp_defense, speed, catch_rate, base_experience, growth_rate]\n",
            "Index: []\n",
            "\n",
            "[0 rows x 21 columns]\n"
          ]
        }
      ]
    },
    {
      "cell_type": "markdown",
      "source": [
        "### Cleaning `growth_rate`"
      ],
      "metadata": {
        "id": "Bdhmh1YwTeS-"
      }
    },
    {
      "cell_type": "markdown",
      "source": [
        "The summary showed that there are only 1044 non-null counts for `growth_rate`, when it should be complete at 1045."
      ],
      "metadata": {
        "id": "QIYnLwRMYe3Q"
      }
    },
    {
      "cell_type": "code",
      "source": [
        "# Mask Pokemon with missing growth_rate\n",
        "no_growth_rate_mask = study_df['growth_rate'].isnull()\n",
        "# Make a new df out of rows with no growth_rate\n",
        "no_growth_rate_df = study_df[no_growth_rate_mask]\n",
        "no_growth_rate_df"
      ],
      "metadata": {
        "colab": {
          "base_uri": "https://localhost:8080/"
        },
        "id": "p1yutKPJYrh3",
        "outputId": "4bca30f7-4240-4fcf-9cfc-75e6784af4c6"
      },
      "execution_count": null,
      "outputs": [
        {
          "output_type": "execute_result",
          "data": {
            "text/plain": [
              "     pokedex_number                          name  generation  status type_1  \\\n",
              "658             555  Galarian Darmanitan Zen Mode           5  Normal    Ice   \n",
              "\n",
              "    type_2  height_m  weight_kg        ability_1 ability_2  ... total_points  \\\n",
              "658   Fire       1.7      120.0  Gorilla Tactics       NaN  ...          540   \n",
              "\n",
              "      hp  attack  defense  sp_attack  sp_defense  speed  catch_rate  \\\n",
              "658  105     160       55         30          55    135        60.0   \n",
              "\n",
              "     base_experience  growth_rate  \n",
              "658            189.0          NaN  \n",
              "\n",
              "[1 rows x 21 columns]"
            ],
            "text/html": [
              "\n",
              "  <div id=\"df-9ffea235-1d7b-47d2-bd2f-bdbfda6e2130\" class=\"colab-df-container\">\n",
              "    <div>\n",
              "<style scoped>\n",
              "    .dataframe tbody tr th:only-of-type {\n",
              "        vertical-align: middle;\n",
              "    }\n",
              "\n",
              "    .dataframe tbody tr th {\n",
              "        vertical-align: top;\n",
              "    }\n",
              "\n",
              "    .dataframe thead th {\n",
              "        text-align: right;\n",
              "    }\n",
              "</style>\n",
              "<table border=\"1\" class=\"dataframe\">\n",
              "  <thead>\n",
              "    <tr style=\"text-align: right;\">\n",
              "      <th></th>\n",
              "      <th>pokedex_number</th>\n",
              "      <th>name</th>\n",
              "      <th>generation</th>\n",
              "      <th>status</th>\n",
              "      <th>type_1</th>\n",
              "      <th>type_2</th>\n",
              "      <th>height_m</th>\n",
              "      <th>weight_kg</th>\n",
              "      <th>ability_1</th>\n",
              "      <th>ability_2</th>\n",
              "      <th>...</th>\n",
              "      <th>total_points</th>\n",
              "      <th>hp</th>\n",
              "      <th>attack</th>\n",
              "      <th>defense</th>\n",
              "      <th>sp_attack</th>\n",
              "      <th>sp_defense</th>\n",
              "      <th>speed</th>\n",
              "      <th>catch_rate</th>\n",
              "      <th>base_experience</th>\n",
              "      <th>growth_rate</th>\n",
              "    </tr>\n",
              "  </thead>\n",
              "  <tbody>\n",
              "    <tr>\n",
              "      <th>658</th>\n",
              "      <td>555</td>\n",
              "      <td>Galarian Darmanitan Zen Mode</td>\n",
              "      <td>5</td>\n",
              "      <td>Normal</td>\n",
              "      <td>Ice</td>\n",
              "      <td>Fire</td>\n",
              "      <td>1.7</td>\n",
              "      <td>120.0</td>\n",
              "      <td>Gorilla Tactics</td>\n",
              "      <td>NaN</td>\n",
              "      <td>...</td>\n",
              "      <td>540</td>\n",
              "      <td>105</td>\n",
              "      <td>160</td>\n",
              "      <td>55</td>\n",
              "      <td>30</td>\n",
              "      <td>55</td>\n",
              "      <td>135</td>\n",
              "      <td>60.0</td>\n",
              "      <td>189.0</td>\n",
              "      <td>NaN</td>\n",
              "    </tr>\n",
              "  </tbody>\n",
              "</table>\n",
              "<p>1 rows × 21 columns</p>\n",
              "</div>\n",
              "    <div class=\"colab-df-buttons\">\n",
              "\n",
              "  <div class=\"colab-df-container\">\n",
              "    <button class=\"colab-df-convert\" onclick=\"convertToInteractive('df-9ffea235-1d7b-47d2-bd2f-bdbfda6e2130')\"\n",
              "            title=\"Convert this dataframe to an interactive table.\"\n",
              "            style=\"display:none;\">\n",
              "\n",
              "  <svg xmlns=\"http://www.w3.org/2000/svg\" height=\"24px\" viewBox=\"0 -960 960 960\">\n",
              "    <path d=\"M120-120v-720h720v720H120Zm60-500h600v-160H180v160Zm220 220h160v-160H400v160Zm0 220h160v-160H400v160ZM180-400h160v-160H180v160Zm440 0h160v-160H620v160ZM180-180h160v-160H180v160Zm440 0h160v-160H620v160Z\"/>\n",
              "  </svg>\n",
              "    </button>\n",
              "\n",
              "  <style>\n",
              "    .colab-df-container {\n",
              "      display:flex;\n",
              "      gap: 12px;\n",
              "    }\n",
              "\n",
              "    .colab-df-convert {\n",
              "      background-color: #E8F0FE;\n",
              "      border: none;\n",
              "      border-radius: 50%;\n",
              "      cursor: pointer;\n",
              "      display: none;\n",
              "      fill: #1967D2;\n",
              "      height: 32px;\n",
              "      padding: 0 0 0 0;\n",
              "      width: 32px;\n",
              "    }\n",
              "\n",
              "    .colab-df-convert:hover {\n",
              "      background-color: #E2EBFA;\n",
              "      box-shadow: 0px 1px 2px rgba(60, 64, 67, 0.3), 0px 1px 3px 1px rgba(60, 64, 67, 0.15);\n",
              "      fill: #174EA6;\n",
              "    }\n",
              "\n",
              "    .colab-df-buttons div {\n",
              "      margin-bottom: 4px;\n",
              "    }\n",
              "\n",
              "    [theme=dark] .colab-df-convert {\n",
              "      background-color: #3B4455;\n",
              "      fill: #D2E3FC;\n",
              "    }\n",
              "\n",
              "    [theme=dark] .colab-df-convert:hover {\n",
              "      background-color: #434B5C;\n",
              "      box-shadow: 0px 1px 3px 1px rgba(0, 0, 0, 0.15);\n",
              "      filter: drop-shadow(0px 1px 2px rgba(0, 0, 0, 0.3));\n",
              "      fill: #FFFFFF;\n",
              "    }\n",
              "  </style>\n",
              "\n",
              "    <script>\n",
              "      const buttonEl =\n",
              "        document.querySelector('#df-9ffea235-1d7b-47d2-bd2f-bdbfda6e2130 button.colab-df-convert');\n",
              "      buttonEl.style.display =\n",
              "        google.colab.kernel.accessAllowed ? 'block' : 'none';\n",
              "\n",
              "      async function convertToInteractive(key) {\n",
              "        const element = document.querySelector('#df-9ffea235-1d7b-47d2-bd2f-bdbfda6e2130');\n",
              "        const dataTable =\n",
              "          await google.colab.kernel.invokeFunction('convertToInteractive',\n",
              "                                                    [key], {});\n",
              "        if (!dataTable) return;\n",
              "\n",
              "        const docLinkHtml = 'Like what you see? Visit the ' +\n",
              "          '<a target=\"_blank\" href=https://colab.research.google.com/notebooks/data_table.ipynb>data table notebook</a>'\n",
              "          + ' to learn more about interactive tables.';\n",
              "        element.innerHTML = '';\n",
              "        dataTable['output_type'] = 'display_data';\n",
              "        await google.colab.output.renderOutput(dataTable, element);\n",
              "        const docLink = document.createElement('div');\n",
              "        docLink.innerHTML = docLinkHtml;\n",
              "        element.appendChild(docLink);\n",
              "      }\n",
              "    </script>\n",
              "  </div>\n",
              "\n",
              "    </div>\n",
              "  </div>\n"
            ],
            "application/vnd.google.colaboratory.intrinsic+json": {
              "type": "dataframe",
              "variable_name": "no_growth_rate_df"
            }
          },
          "metadata": {},
          "execution_count": 30
        }
      ]
    },
    {
      "cell_type": "markdown",
      "source": [
        "The only Pokemon with a missing `growth_rate` value is Galarian Darmanitan Zen Mode. According to [Pokemon Database](https://pokemondb.net/pokedex/darmanitan), its growth rate is Medium Slow. We can simply set its growth rate to the correct value."
      ],
      "metadata": {
        "id": "fkbepE-9ZC0S"
      }
    },
    {
      "cell_type": "code",
      "source": [
        "study_df.loc[study_df['name'] == 'Galarian Darmanitan Zen Mode', 'growth_rate'] = 'Medium Slow'\n",
        "\n",
        "# Mask Pokemon with missing growth_rate\n",
        "no_growth_rate_mask = study_df['growth_rate'].isnull()\n",
        "# Make a new df out of rows with no growth_rate\n",
        "no_growth_rate_df = study_df[no_growth_rate_mask]\n",
        "print(\"No Growth Rate subset:\")\n",
        "print(no_growth_rate_df)"
      ],
      "metadata": {
        "colab": {
          "base_uri": "https://localhost:8080/"
        },
        "id": "791VeoZ2ZEM2",
        "outputId": "7b5ed447-ff61-4108-f27b-7d5e5ad65ef8"
      },
      "execution_count": null,
      "outputs": [
        {
          "output_type": "stream",
          "name": "stdout",
          "text": [
            "No Growth Rate subset:\n",
            "Empty DataFrame\n",
            "Columns: [pokedex_number, name, generation, status, type_1, type_2, height_m, weight_kg, ability_1, ability_2, ability_hidden, total_points, hp, attack, defense, sp_attack, sp_defense, speed, catch_rate, base_experience, growth_rate]\n",
            "Index: []\n",
            "\n",
            "[0 rows x 21 columns]\n"
          ]
        }
      ]
    },
    {
      "cell_type": "markdown",
      "source": [
        "# **Exploratory Data Analysis**"
      ],
      "metadata": {
        "id": "Heqem2pz2fU_"
      }
    },
    {
      "cell_type": "markdown",
      "source": [
        "## **Question 1:** What is the distribution of Pokemon Primary Types in the dataset?"
      ],
      "metadata": {
        "id": "YPxP5TtchMxc"
      }
    },
    {
      "cell_type": "markdown",
      "source": [
        "### Numerical Summary"
      ],
      "metadata": {
        "id": "7nAe6sEkxbf7"
      }
    },
    {
      "cell_type": "markdown",
      "source": [
        "The distribution of Pokémon Primary Types in the dataset is quantitatively assessed, revealing insights into the diversity and representation of types among the total of 1,045 Pokémon. The analysis employs various statistical measures to elucidate the central tendency and spread of Pokémon counts across different types.\n",
        "\n",
        "Total Number of Pokémon: 1,045\n",
        "\n",
        "* Central Tendency:\n",
        "  * Mean (Average) Number of Pokémon per Type: 58.06. This statistic represents the average count of Pokémon for each primary type, providing an understanding of the typical size of type groups within the Pokémon universe.\n",
        "  * Median Number of Pokémon per Type: 44. This measure indicates the midpoint in the distribution of Pokémon counts per type, offering insight into the central tendency of the data that is less affected by outliers.\n",
        "  * Mode Number of Pokémon per Type: 41. The mode reveals the most common count of Pokémon across types, highlighting the predominant group size in the dataset.\n",
        "\n",
        "* Spread:\n",
        "  * Standard Deviation: 32.07. This value quantifies the variation or dispersion of Pokémon counts from the mean across types, indicating how spread out the Pokémon types are in terms of their numbers.\n",
        "  * Maximum Count of Pokémon in a Type: 134 (for Water type), and Minimum Count of Pokémon in a Type: 8 (for Flying type). These figures demonstrate the range of Pokémon counts from the most to the least populous types, underscoring the diversity in type distribution.\n",
        "  * Range: 126. The range, calculated as the difference between the maximum and minimum counts, provides a simplistic yet effective measure of the overall spread across Pokémon types, illustrating the disparity in representation from the most common to the rarest types.\n",
        "\n",
        "\n",
        "\n",
        "\n",
        "\n"
      ],
      "metadata": {
        "id": "hxnjyAZtADH7"
      }
    },
    {
      "cell_type": "code",
      "source": [
        "# Count the occurrences of each Pokemon type\n",
        "type_counts = study_df['type_1'].value_counts()\n",
        "\n",
        "# Display the numerical summary\n",
        "type_counts"
      ],
      "metadata": {
        "colab": {
          "base_uri": "https://localhost:8080/"
        },
        "id": "BA45-J0yw8uI",
        "outputId": "619cd402-b561-4609-d9d2-3c694732cca4"
      },
      "execution_count": null,
      "outputs": [
        {
          "output_type": "execute_result",
          "data": {
            "text/plain": [
              "type_1\n",
              "Water       134\n",
              "Normal      115\n",
              "Grass        91\n",
              "Bug          81\n",
              "Psychic      81\n",
              "Fire         65\n",
              "Electric     62\n",
              "Rock         60\n",
              "Dark         46\n",
              "Ghost        42\n",
              "Fighting     42\n",
              "Poison       41\n",
              "Ground       41\n",
              "Dragon       41\n",
              "Ice          37\n",
              "Steel        36\n",
              "Fairy        22\n",
              "Flying        8\n",
              "Name: count, dtype: int64"
            ]
          },
          "metadata": {},
          "execution_count": 50
        }
      ]
    },
    {
      "cell_type": "markdown",
      "source": [
        "The numerical summary provides a snapshot of the distribution and diversity of Pokemon across their primary types in the dataset. With a total of 1045 Pokemon spread over 18 types, the dataset showcases a wide range of populations per type, from the water-dominant group with 134 Pokemon to the relatively scarce flying category with just 8. The mean and median values, sitting at 58.06 and 44 respectively, offer insights into the central tendency of the data, suggesting that while some types are densely populated, others are less common. The mode of 41 further highlights the frequency of this particular count across different types.\n",
        "\n",
        "The standard deviation of 32.07 points to the significant variability in the number of Pokemon per type, underscoring the game designers' efforts to create a balanced yet diverse universe. The substantial range of 126 between the most and least populous types reflects the strategic choices made in the distribution of Pokemon types, affecting gameplay dynamics and player strategies. This diversity not only enriches the Pokemon universe but also ensures a varied and engaging experience for players, encouraging exploration and experimentation with different Pokemon combinations."
      ],
      "metadata": {
        "id": "lG-Re87dAEnC"
      }
    },
    {
      "cell_type": "markdown",
      "source": [
        "### Visualization"
      ],
      "metadata": {
        "id": "Eh4sZ7J1xd6v"
      }
    },
    {
      "cell_type": "markdown",
      "source": [
        "The bar chart visualizing the distribution of Pokemon primary types presents a clear and concise comparison across 18 types, with the number of Pokemon depicted along the vertical axis and the types along the horizontal axis. Each type is represented by a blue bar, with their heights indicating the count of Pokemon in each category. The chart is titled \"Distribution of Pokemon Primary Types,\" guiding viewers to understand the variety and prevalence of each type at a glance. Notably, the Water type bar stands out as the tallest, showing it as the most populous, whereas the Flying type has the shortest bar, marking it as the rarest. This visualization effectively communicates the diversity and disparities within the Pokemon universe, making it easy to identify which types are more or less common."
      ],
      "metadata": {
        "id": "QDT-JmBiAFT8"
      }
    },
    {
      "cell_type": "code",
      "source": [
        "# Plot a bar chart for Pokemon types\n",
        "plt.figure(figsize=(10, 5))\n",
        "type_counts.plot(kind='bar', color='blue')\n",
        "plt.title('Distribution of Pokemon Primary Types')\n",
        "plt.xlabel('Pokemon Primary Type')\n",
        "plt.ylabel('Count')\n",
        "plt.show()"
      ],
      "metadata": {
        "colab": {
          "base_uri": "https://localhost:8080/"
        },
        "id": "GMziDbR6xEO0",
        "outputId": "92c4a695-1247-42a3-a419-667b9bb20028"
      },
      "execution_count": null,
      "outputs": [
        {
          "output_type": "display_data",
          "data": {
            "text/plain": [
              "<Figure size 1000x500 with 1 Axes>"
            ],
            "image/png": "[encoded data removed]"
          },
          "metadata": {}
        }
      ]
    },
    {
      "cell_type": "markdown",
      "source": [
        "## **Question 2:** Is there a relationship between a Pokemon's Legendary status and its stats?"
      ],
      "metadata": {
        "id": "CLI4LBqsxhbg"
      }
    },
    {
      "cell_type": "markdown",
      "source": [
        "### Numerical Summary"
      ],
      "metadata": {
        "id": "9TxBSU1bALVa"
      }
    },
    {
      "cell_type": "markdown",
      "source": [
        "The numerical summary delves into the distribution of base stats (HP, Attack, Defense, Sp. Atk, Sp. Def, Speed, Catch Rate, Base Experience) across Pokémon with different legendary statuses. By employing statistical measures, it contrasts the central tendency and spread of these stats among Pokémon classified under 'Non Legendary' and other legendary categories.\n",
        "\n",
        "* Central Tendency:\n",
        "  * Mean: Represents the average value of each base stat for Pokémon within each legendary status category. It sheds light on the \"typical\" stat value for Pokémon, offering insights into the expected performance metrics of a Pokémon based on its legendary classification.\n",
        "  * Median: Indicates the middle value of a particular stat among Pokémon in each legendary status category when ordered. This metric is crucial for understanding the central point of the data distribution, especially in scenarios where the data might be skewed, ensuring that outlier values do not disproportionately influence the perception of \"average\" performance.\n",
        "\n",
        "* Spread:\n",
        "  * Standard Deviation (Std): Measures the variability or dispersion of the base stat values around the mean within each legendary status. A higher standard deviation denotes a broader range of values, suggesting that Pokémon within that category exhibit a wide variety of strengths and weaknesses. Conversely, a lower standard deviation indicates that the Pokémon stats are more tightly clustered around the mean, implying more consistency in their attributes.\n",
        "  * Range: Although not directly calculated in the initial step, the range can be derived from the maximum and minimum values of each stat within the categories. It highlights the difference between the strongest and weakest stat values among Pokémon, providing a quick glimpse into the potential variability and extremes present within each legendary status group."
      ],
      "metadata": {
        "id": "OoH56ImIAISt"
      }
    },
    {
      "cell_type": "code",
      "source": [
        "# Create a copy of the DataFrame\n",
        "subset_df = study_df[['hp', 'attack', 'defense', 'sp_attack', 'sp_defense', 'speed', 'catch_rate', 'base_experience', 'status', 'total_points']].copy()\n",
        "\n",
        "# Map 'Mythical', 'Normal', and 'Sub Legendary' to a common category 'Non Legendary'\n",
        "subset_df['legendary_status'] = subset_df['status'].apply(lambda x: 'Non Legendary' if x in ['Mythical', 'Normal', 'Sub Legendary'] else x)\n",
        "\n",
        "# Drop the original 'status' column as it's no longer needed\n",
        "subset_df.drop('status', axis=1, inplace=True)\n",
        "\n",
        "# Calculate summary statistics for each stat grouped by 'legendary_status'\n",
        "summary_stats_by_legendary_status = subset_df.groupby('legendary_status').agg(['mean', 'median', 'std'])\n",
        "\n",
        "# Display the numerical summary\n",
        "summary_stats_by_legendary_status"
      ],
      "metadata": {
        "id": "ercGgr4Ex498",
        "colab": {
          "base_uri": "https://localhost:8080/"
        },
        "outputId": "5dd56ed0-b263-4aa5-f665-191c55200d41"
      },
      "execution_count": null,
      "outputs": [
        {
          "output_type": "execute_result",
          "data": {
            "text/plain": [
              "                          hp                        attack                    \\\n",
              "                        mean median        std        mean median        std   \n",
              "legendary_status                                                               \n",
              "Legendary         110.619048  100.0  36.495875  124.619048  125.0  35.352547   \n",
              "Non Legendary      68.369890   65.0  24.796533   78.628116   75.0  30.979619   \n",
              "\n",
              "                     defense                     sp_attack  ...      speed  \\\n",
              "                        mean median        std        mean  ...        std   \n",
              "legendary_status                                            ...              \n",
              "Legendary         107.857143  100.0  32.504087  121.642857  ...  26.487216   \n",
              "Non Legendary      73.281157   70.0  30.443146   70.996012  ...  29.637807   \n",
              "\n",
              "                 catch_rate                   base_experience         \\\n",
              "                       mean median        std            mean median   \n",
              "legendary_status                                                       \n",
              "Legendary         23.243902    3.0  55.398006      266.714286  306.0   \n",
              "Non Legendary     95.767697   60.0  75.297963      149.496510  159.0   \n",
              "\n",
              "                            total_points                     \n",
              "                        std         mean median         std  \n",
              "legendary_status                                             \n",
              "Legendary         77.946600   675.309524  680.0  125.532716  \n",
              "Non Legendary     71.249882   429.472582  452.0  111.489212  \n",
              "\n",
              "[2 rows x 27 columns]"
            ],
            "text/html": [
              "\n",
              "  <div id=\"df-337f77f7-7845-4824-8083-4a7184bec79f\" class=\"colab-df-container\">\n",
              "    <div>\n",
              "<style scoped>\n",
              "    .dataframe tbody tr th:only-of-type {\n",
              "        vertical-align: middle;\n",
              "    }\n",
              "\n",
              "    .dataframe tbody tr th {\n",
              "        vertical-align: top;\n",
              "    }\n",
              "\n",
              "    .dataframe thead tr th {\n",
              "        text-align: left;\n",
              "    }\n",
              "\n",
              "    .dataframe thead tr:last-of-type th {\n",
              "        text-align: right;\n",
              "    }\n",
              "</style>\n",
              "<table border=\"1\" class=\"dataframe\">\n",
              "  <thead>\n",
              "    <tr>\n",
              "      <th></th>\n",
              "      <th colspan=\"3\" halign=\"left\">hp</th>\n",
              "      <th colspan=\"3\" halign=\"left\">attack</th>\n",
              "      <th colspan=\"3\" halign=\"left\">defense</th>\n",
              "      <th>sp_attack</th>\n",
              "      <th>...</th>\n",
              "      <th>speed</th>\n",
              "      <th colspan=\"3\" halign=\"left\">catch_rate</th>\n",
              "      <th colspan=\"3\" halign=\"left\">base_experience</th>\n",
              "      <th colspan=\"3\" halign=\"left\">total_points</th>\n",
              "    </tr>\n",
              "    <tr>\n",
              "      <th></th>\n",
              "      <th>mean</th>\n",
              "      <th>median</th>\n",
              "      <th>std</th>\n",
              "      <th>mean</th>\n",
              "      <th>median</th>\n",
              "      <th>std</th>\n",
              "      <th>mean</th>\n",
              "      <th>median</th>\n",
              "      <th>std</th>\n",
              "      <th>mean</th>\n",
              "      <th>...</th>\n",
              "      <th>std</th>\n",
              "      <th>mean</th>\n",
              "      <th>median</th>\n",
              "      <th>std</th>\n",
              "      <th>mean</th>\n",
              "      <th>median</th>\n",
              "      <th>std</th>\n",
              "      <th>mean</th>\n",
              "      <th>median</th>\n",
              "      <th>std</th>\n",
              "    </tr>\n",
              "    <tr>\n",
              "      <th>legendary_status</th>\n",
              "      <th></th>\n",
              "      <th></th>\n",
              "      <th></th>\n",
              "      <th></th>\n",
              "      <th></th>\n",
              "      <th></th>\n",
              "      <th></th>\n",
              "      <th></th>\n",
              "      <th></th>\n",
              "      <th></th>\n",
              "      <th></th>\n",
              "      <th></th>\n",
              "      <th></th>\n",
              "      <th></th>\n",
              "      <th></th>\n",
              "      <th></th>\n",
              "      <th></th>\n",
              "      <th></th>\n",
              "      <th></th>\n",
              "      <th></th>\n",
              "      <th></th>\n",
              "    </tr>\n",
              "  </thead>\n",
              "  <tbody>\n",
              "    <tr>\n",
              "      <th>Legendary</th>\n",
              "      <td>110.619048</td>\n",
              "      <td>100.0</td>\n",
              "      <td>36.495875</td>\n",
              "      <td>124.619048</td>\n",
              "      <td>125.0</td>\n",
              "      <td>35.352547</td>\n",
              "      <td>107.857143</td>\n",
              "      <td>100.0</td>\n",
              "      <td>32.504087</td>\n",
              "      <td>121.642857</td>\n",
              "      <td>...</td>\n",
              "      <td>26.487216</td>\n",
              "      <td>23.243902</td>\n",
              "      <td>3.0</td>\n",
              "      <td>55.398006</td>\n",
              "      <td>266.714286</td>\n",
              "      <td>306.0</td>\n",
              "      <td>77.946600</td>\n",
              "      <td>675.309524</td>\n",
              "      <td>680.0</td>\n",
              "      <td>125.532716</td>\n",
              "    </tr>\n",
              "    <tr>\n",
              "      <th>Non Legendary</th>\n",
              "      <td>68.369890</td>\n",
              "      <td>65.0</td>\n",
              "      <td>24.796533</td>\n",
              "      <td>78.628116</td>\n",
              "      <td>75.0</td>\n",
              "      <td>30.979619</td>\n",
              "      <td>73.281157</td>\n",
              "      <td>70.0</td>\n",
              "      <td>30.443146</td>\n",
              "      <td>70.996012</td>\n",
              "      <td>...</td>\n",
              "      <td>29.637807</td>\n",
              "      <td>95.767697</td>\n",
              "      <td>60.0</td>\n",
              "      <td>75.297963</td>\n",
              "      <td>149.496510</td>\n",
              "      <td>159.0</td>\n",
              "      <td>71.249882</td>\n",
              "      <td>429.472582</td>\n",
              "      <td>452.0</td>\n",
              "      <td>111.489212</td>\n",
              "    </tr>\n",
              "  </tbody>\n",
              "</table>\n",
              "<p>2 rows × 27 columns</p>\n",
              "</div>\n",
              "    <div class=\"colab-df-buttons\">\n",
              "\n",
              "  <div class=\"colab-df-container\">\n",
              "    <button class=\"colab-df-convert\" onclick=\"convertToInteractive('df-337f77f7-7845-4824-8083-4a7184bec79f')\"\n",
              "            title=\"Convert this dataframe to an interactive table.\"\n",
              "            style=\"display:none;\">\n",
              "\n",
              "  <svg xmlns=\"http://www.w3.org/2000/svg\" height=\"24px\" viewBox=\"0 -960 960 960\">\n",
              "    <path d=\"M120-120v-720h720v720H120Zm60-500h600v-160H180v160Zm220 220h160v-160H400v160Zm0 220h160v-160H400v160ZM180-400h160v-160H180v160Zm440 0h160v-160H620v160ZM180-180h160v-160H180v160Zm440 0h160v-160H620v160Z\"/>\n",
              "  </svg>\n",
              "    </button>\n",
              "\n",
              "  <style>\n",
              "    .colab-df-container {\n",
              "      display:flex;\n",
              "      gap: 12px;\n",
              "    }\n",
              "\n",
              "    .colab-df-convert {\n",
              "      background-color: #E8F0FE;\n",
              "      border: none;\n",
              "      border-radius: 50%;\n",
              "      cursor: pointer;\n",
              "      display: none;\n",
              "      fill: #1967D2;\n",
              "      height: 32px;\n",
              "      padding: 0 0 0 0;\n",
              "      width: 32px;\n",
              "    }\n",
              "\n",
              "    .colab-df-convert:hover {\n",
              "      background-color: #E2EBFA;\n",
              "      box-shadow: 0px 1px 2px rgba(60, 64, 67, 0.3), 0px 1px 3px 1px rgba(60, 64, 67, 0.15);\n",
              "      fill: #174EA6;\n",
              "    }\n",
              "\n",
              "    .colab-df-buttons div {\n",
              "      margin-bottom: 4px;\n",
              "    }\n",
              "\n",
              "    [theme=dark] .colab-df-convert {\n",
              "      background-color: #3B4455;\n",
              "      fill: #D2E3FC;\n",
              "    }\n",
              "\n",
              "    [theme=dark] .colab-df-convert:hover {\n",
              "      background-color: #434B5C;\n",
              "      box-shadow: 0px 1px 3px 1px rgba(0, 0, 0, 0.15);\n",
              "      filter: drop-shadow(0px 1px 2px rgba(0, 0, 0, 0.3));\n",
              "      fill: #FFFFFF;\n",
              "    }\n",
              "  </style>\n",
              "\n",
              "    <script>\n",
              "      const buttonEl =\n",
              "        document.querySelector('#df-337f77f7-7845-4824-8083-4a7184bec79f button.colab-df-convert');\n",
              "      buttonEl.style.display =\n",
              "        google.colab.kernel.accessAllowed ? 'block' : 'none';\n",
              "\n",
              "      async function convertToInteractive(key) {\n",
              "        const element = document.querySelector('#df-337f77f7-7845-4824-8083-4a7184bec79f');\n",
              "        const dataTable =\n",
              "          await google.colab.kernel.invokeFunction('convertToInteractive',\n",
              "                                                    [key], {});\n",
              "        if (!dataTable) return;\n",
              "\n",
              "        const docLinkHtml = 'Like what you see? Visit the ' +\n",
              "          '<a target=\"_blank\" href=https://colab.research.google.com/notebooks/data_table.ipynb>data table notebook</a>'\n",
              "          + ' to learn more about interactive tables.';\n",
              "        element.innerHTML = '';\n",
              "        dataTable['output_type'] = 'display_data';\n",
              "        await google.colab.output.renderOutput(dataTable, element);\n",
              "        const docLink = document.createElement('div');\n",
              "        docLink.innerHTML = docLinkHtml;\n",
              "        element.appendChild(docLink);\n",
              "      }\n",
              "    </script>\n",
              "  </div>\n",
              "\n",
              "\n",
              "<div id=\"df-c037d079-9d73-4ef2-8964-db2830e23b3d\">\n",
              "  <button class=\"colab-df-quickchart\" onclick=\"quickchart('df-c037d079-9d73-4ef2-8964-db2830e23b3d')\"\n",
              "            title=\"Suggest charts\"\n",
              "            style=\"display:none;\">\n",
              "\n",
              "<svg xmlns=\"http://www.w3.org/2000/svg\" height=\"24px\"viewBox=\"0 0 24 24\"\n",
              "     width=\"24px\">\n",
              "    <g>\n",
              "        <path d=\"M19 3H5c-1.1 0-2 .9-2 2v14c0 1.1.9 2 2 2h14c1.1 0 2-.9 2-2V5c0-1.1-.9-2-2-2zM9 17H7v-7h2v7zm4 0h-2V7h2v10zm4 0h-2v-4h2v4z\"/>\n",
              "    </g>\n",
              "</svg>\n",
              "  </button>\n",
              "\n",
              "<style>\n",
              "  .colab-df-quickchart {\n",
              "      --bg-color: #E8F0FE;\n",
              "      --fill-color: #1967D2;\n",
              "      --hover-bg-color: #E2EBFA;\n",
              "      --hover-fill-color: #174EA6;\n",
              "      --disabled-fill-color: #AAA;\n",
              "      --disabled-bg-color: #DDD;\n",
              "  }\n",
              "\n",
              "  [theme=dark] .colab-df-quickchart {\n",
              "      --bg-color: #3B4455;\n",
              "      --fill-color: #D2E3FC;\n",
              "      --hover-bg-color: #434B5C;\n",
              "      --hover-fill-color: #FFFFFF;\n",
              "      --disabled-bg-color: #3B4455;\n",
              "      --disabled-fill-color: #666;\n",
              "  }\n",
              "\n",
              "  .colab-df-quickchart {\n",
              "    background-color: var(--bg-color);\n",
              "    border: none;\n",
              "    border-radius: 50%;\n",
              "    cursor: pointer;\n",
              "    display: none;\n",
              "    fill: var(--fill-color);\n",
              "    height: 32px;\n",
              "    padding: 0;\n",
              "    width: 32px;\n",
              "  }\n",
              "\n",
              "  .colab-df-quickchart:hover {\n",
              "    background-color: var(--hover-bg-color);\n",
              "    box-shadow: 0 1px 2px rgba(60, 64, 67, 0.3), 0 1px 3px 1px rgba(60, 64, 67, 0.15);\n",
              "    fill: var(--button-hover-fill-color);\n",
              "  }\n",
              "\n",
              "  .colab-df-quickchart-complete:disabled,\n",
              "  .colab-df-quickchart-complete:disabled:hover {\n",
              "    background-color: var(--disabled-bg-color);\n",
              "    fill: var(--disabled-fill-color);\n",
              "    box-shadow: none;\n",
              "  }\n",
              "\n",
              "  .colab-df-spinner {\n",
              "    border: 2px solid var(--fill-color);\n",
              "    border-color: transparent;\n",
              "    border-bottom-color: var(--fill-color);\n",
              "    animation:\n",
              "      spin 1s steps(1) infinite;\n",
              "  }\n",
              "\n",
              "  @keyframes spin {\n",
              "    0% {\n",
              "      border-color: transparent;\n",
              "      border-bottom-color: var(--fill-color);\n",
              "      border-left-color: var(--fill-color);\n",
              "    }\n",
              "    20% {\n",
              "      border-color: transparent;\n",
              "      border-left-color: var(--fill-color);\n",
              "      border-top-color: var(--fill-color);\n",
              "    }\n",
              "    30% {\n",
              "      border-color: transparent;\n",
              "      border-left-color: var(--fill-color);\n",
              "      border-top-color: var(--fill-color);\n",
              "      border-right-color: var(--fill-color);\n",
              "    }\n",
              "    40% {\n",
              "      border-color: transparent;\n",
              "      border-right-color: var(--fill-color);\n",
              "      border-top-color: var(--fill-color);\n",
              "    }\n",
              "    60% {\n",
              "      border-color: transparent;\n",
              "      border-right-color: var(--fill-color);\n",
              "    }\n",
              "    80% {\n",
              "      border-color: transparent;\n",
              "      border-right-color: var(--fill-color);\n",
              "      border-bottom-color: var(--fill-color);\n",
              "    }\n",
              "    90% {\n",
              "      border-color: transparent;\n",
              "      border-bottom-color: var(--fill-color);\n",
              "    }\n",
              "  }\n",
              "</style>\n",
              "\n",
              "  <script>\n",
              "    async function quickchart(key) {\n",
              "      const quickchartButtonEl =\n",
              "        document.querySelector('#' + key + ' button');\n",
              "      quickchartButtonEl.disabled = true;  // To prevent multiple clicks.\n",
              "      quickchartButtonEl.classList.add('colab-df-spinner');\n",
              "      try {\n",
              "        const charts = await google.colab.kernel.invokeFunction(\n",
              "            'suggestCharts', [key], {});\n",
              "      } catch (error) {\n",
              "        console.error('Error during call to suggestCharts:', error);\n",
              "      }\n",
              "      quickchartButtonEl.classList.remove('colab-df-spinner');\n",
              "      quickchartButtonEl.classList.add('colab-df-quickchart-complete');\n",
              "    }\n",
              "    (() => {\n",
              "      let quickchartButtonEl =\n",
              "        document.querySelector('#df-c037d079-9d73-4ef2-8964-db2830e23b3d button');\n",
              "      quickchartButtonEl.style.display =\n",
              "        google.colab.kernel.accessAllowed ? 'block' : 'none';\n",
              "    })();\n",
              "  </script>\n",
              "</div>\n",
              "    </div>\n",
              "  </div>\n"
            ],
            "application/vnd.google.colaboratory.intrinsic+json": {
              "type": "dataframe",
              "variable_name": "summary_stats_by_legendary_status"
            }
          },
          "metadata": {},
          "execution_count": 52
        }
      ]
    },
    {
      "cell_type": "markdown",
      "source": [
        "The numerical summary underscores the distinct gap between Legendary and Non-Legendary Pokémon in terms of battle capabilities and rarity. Legendary Pokémon are designed to be more powerful and challenging to catch, which is reflected in their higher stats across the board and lower catch rates. Their elevated base experience points further highlight their value and the challenge they present to trainers. This data is instrumental in understanding the intrinsic value and designed role of Legendary Pokémon within the game's ecosystem, emphasizing their status as formidable opponents and valuable assets to any trainer's team."
      ],
      "metadata": {
        "id": "4lHj2xNUAJKK"
      }
    },
    {
      "cell_type": "markdown",
      "source": [
        "### Visualization"
      ],
      "metadata": {
        "id": "GZUo6-92AO2j"
      }
    },
    {
      "cell_type": "code",
      "source": [
        "# Create a copy of the DataFrame\n",
        "subset_df = study_df[['hp', 'attack', 'defense', 'sp_attack', 'sp_defense', 'speed', 'catch_rate', 'base_experience', 'status']].copy()\n",
        "\n",
        "# Map 'Normal', 'Sub Legendary', and 'Mythical' to 'Non Legendary'\n",
        "subset_df['status'] = subset_df['status'].apply(lambda x: 'Non Legendary' if x in ['Normal', 'Sub Legendary', 'Mythical'] else x)\n",
        "\n",
        "# Create box plots for each stat grouped by 'status'\n",
        "plt.figure(figsize=(16, 10))\n",
        "for i, stat in enumerate(['hp', 'attack', 'defense', 'sp_attack', 'sp_defense', 'speed', 'catch_rate', 'base_experience']):\n",
        "    plt.subplot(3, 3, i+1)\n",
        "    sns.boxplot(x='status', y=stat, data=subset_df, palette='muted', hue='status', showfliers=False, legend=False)\n",
        "    plt.title(f'Distribution of {stat} by Status')\n",
        "    plt.xlabel('Status')\n",
        "    plt.ylabel(stat)\n",
        "\n",
        "plt.tight_layout()\n",
        "plt.show()"
      ],
      "metadata": {
        "id": "N1-Nz5O9_Asg",
        "colab": {
          "base_uri": "https://localhost:8080/"
        },
        "outputId": "4ca7fa48-54d1-4db3-8b61-3b4e15469d33"
      },
      "execution_count": null,
      "outputs": [
        {
          "output_type": "display_data",
          "data": {
            "text/plain": [
              "<Figure size 1600x1000 with 8 Axes>"
            ],
            "image/png": "[encoded data removed]"
          },
          "metadata": {}
        }
      ]
    },
    {
      "cell_type": "markdown",
      "source": [
        "Box plots are used to visualize the distribution of various Pokémon statistics, such as HP, Attack, Defense, Special Attack, Special Defense, Speed, Catch Rate, and Base Experience, categorized by their Legendary status. Each box plot represents the distribution of a specific statistic, comparing the values between Legendary and Non-Legendary Pokémon. Box plots are particularly effective for showcasing the central tendency, spread, and outliers of a dataset, making them ideal for comparing distributions across different groups, as in this case with Legendary and Non-Legendary Pokémon. Through the use of box plots, the visualization offers a comprehensive and easily interpretable comparison of key attributes between these two categories of Pokémon."
      ],
      "metadata": {
        "id": "i2tKY-YhARXQ"
      }
    },
    {
      "cell_type": "markdown",
      "source": [
        "## **Question 3:** How does the distribution of base stats (HP, Attack, Defense, Sp. Atk, Sp. Def, Speed) differ across generations?"
      ],
      "metadata": {
        "id": "e2O7TJrTAS2O"
      }
    },
    {
      "cell_type": "markdown",
      "source": [
        "### Numerical Summary"
      ],
      "metadata": {
        "id": "hqhrwpiKAUpL"
      }
    },
    {
      "cell_type": "markdown",
      "source": [
        "The numerical summary explores how the distribution of base stats (HP, Attack, Defense, Sp. Atk, Sp. Def, Speed) varies across generations in the Pokemon dataset. It utilizes various statistical measures to compare the central tendency and spread of these stats for Pokemon introduced in each generation.\n",
        "\n",
        "\n",
        "\n",
        "*   Central Tendency:\n",
        " *   Mean: This signifies the average value of each base stat for Pokemon within a specific generation. It provides an understanding of the \"typical\" stat value for Pokemon introduced in that generation.\n",
        " *   Median: This represents the middle value when Pokemon in a generation are ordered by a particular stat. It is particularly useful when the data is skewed, as the mean can be influenced by outliers.\n",
        "\n",
        "*   Spread:\n",
        " *   Standard Deviation: This measures how spread out the data points are around the mean for each stat within a generation. A higher standard deviation indicates a wider range of stat values, while a lower value suggests the data points are closer to the mean.\n",
        " *   Range: This calculates the difference between the highest and lowest values of each stat in each generation. It reveals the overall spread of the data but can be sensitive to extreme values."
      ],
      "metadata": {
        "id": "z0F5UuiVAV65"
      }
    },
    {
      "cell_type": "code",
      "source": [
        "selected_columns = [\"generation\", \"hp\", \"attack\", \"defense\", \"sp_attack\", \"sp_defense\", \"speed\"]\n",
        "dist_df = study_df[selected_columns].copy()\n",
        "\n",
        "# Function to calculate central tendency and dispersion measures\n",
        "def calculate_stats(data, stat_name):\n",
        "  return {\n",
        "      \"mean\": data.mean(),\n",
        "      \"median\": data.median(),\n",
        "      \"std\": data.std(),\n",
        "      \"range\": data.max() - data.min()\n",
        "  }\n",
        "\n",
        "# Create an empty dictionary to store statistics for each generation and stat\n",
        "stats_by_generation = {}\n",
        "\n",
        "# Loop through each generation and calculate statistics for all stats\n",
        "for generation in dist_df[\"generation\"].unique():\n",
        "  generation_data = dist_df.loc[dist_df[\"generation\"] == generation]\n",
        "  stats_by_generation[generation] = {}\n",
        "  for stat in selected_columns[1:]:\n",
        "    stats_by_generation[generation][stat] = calculate_stats(generation_data[stat], stat)\n",
        "\n",
        "# Print the calculated statistics\n",
        "print(\"Statistics by generation:\")\n",
        "for generation, stat_data in stats_by_generation.items():\n",
        "  print(f\"\\nGeneration {generation}:\")\n",
        "  for stat, stats in stat_data.items():\n",
        "    print(f\"\\t{stat}:\")\n",
        "    print(f\"\\t\\tMean: {stats['mean']}\")\n",
        "    print(f\"\\t\\tMedian: {stats['median']}\")\n",
        "    print(f\"\\t\\tStandard Deviation: {stats['std']}\")\n",
        "    print(f\"\\t\\tRange: {stats['range']}\")"
      ],
      "metadata": {
        "id": "l6HkkWYBAWVz",
        "outputId": "12f1b012-b108-4272-d84e-c03fd10fe639",
        "colab": {
          "base_uri": "https://localhost:8080/"
        }
      },
      "execution_count": null,
      "outputs": [
        {
          "output_type": "stream",
          "name": "stdout",
          "text": [
            "Statistics by generation:\n",
            "\n",
            "Generation 1:\n",
            "\thp:\n",
            "\t\tMean: 64.76041666666667\n",
            "\t\tMedian: 60.5\n",
            "\t\tStandard Deviation: 27.347767998232793\n",
            "\t\tRange: 240\n",
            "\tattack:\n",
            "\t\tMean: 77.30208333333333\n",
            "\t\tMedian: 75.0\n",
            "\t\tStandard Deviation: 29.610426843190744\n",
            "\t\tRange: 185\n",
            "\tdefense:\n",
            "\t\tMean: 71.00520833333333\n",
            "\t\tMedian: 66.0\n",
            "\t\tStandard Deviation: 28.591086626977713\n",
            "\t\tRange: 175\n",
            "\tsp_attack:\n",
            "\t\tMean: 69.92708333333333\n",
            "\t\tMedian: 65.0\n",
            "\t\tStandard Deviation: 33.67825740466702\n",
            "\t\tRange: 184\n",
            "\tsp_defense:\n",
            "\t\tMean: 68.59895833333333\n",
            "\t\tMedian: 70.0\n",
            "\t\tStandard Deviation: 24.904016769695417\n",
            "\t\tRange: 110\n",
            "\tspeed:\n",
            "\t\tMean: 72.51041666666667\n",
            "\t\tMedian: 70.0\n",
            "\t\tStandard Deviation: 29.856198034612923\n",
            "\t\tRange: 135\n",
            "\n",
            "Generation 8:\n",
            "\thp:\n",
            "\t\tMean: 75.2\n",
            "\t\tMedian: 70.0\n",
            "\t\tStandard Deviation: 31.474165229964033\n",
            "\t\tRange: 230\n",
            "\tattack:\n",
            "\t\tMean: 83.57142857142857\n",
            "\t\tMedian: 85.0\n",
            "\t\tStandard Deviation: 31.677721224513952\n",
            "\t\tRange: 150\n",
            "\tdefense:\n",
            "\t\tMean: 76.96190476190476\n",
            "\t\tMedian: 70.0\n",
            "\t\tStandard Deviation: 32.722588002292326\n",
            "\t\tRange: 230\n",
            "\tsp_attack:\n",
            "\t\tMean: 74.9047619047619\n",
            "\t\tMedian: 70.0\n",
            "\t\tStandard Deviation: 30.22623790476509\n",
            "\t\tRange: 145\n",
            "\tsp_defense:\n",
            "\t\tMean: 74.05714285714286\n",
            "\t\tMedian: 70.0\n",
            "\t\tStandard Deviation: 31.91238865159657\n",
            "\t\tRange: 230\n",
            "\tspeed:\n",
            "\t\tMean: 71.23809523809524\n",
            "\t\tMedian: 70.0\n",
            "\t\tStandard Deviation: 36.366331589260874\n",
            "\t\tRange: 190\n",
            "\n",
            "Generation 2:\n",
            "\thp:\n",
            "\t\tMean: 71.4766355140187\n",
            "\t\tMedian: 70.0\n",
            "\t\tStandard Deviation: 30.401509953312658\n",
            "\t\tRange: 235\n",
            "\tattack:\n",
            "\t\tMean: 71.86915887850468\n",
            "\t\tMedian: 72.0\n",
            "\t\tStandard Deviation: 32.59560223611303\n",
            "\t\tRange: 175\n",
            "\tdefense:\n",
            "\t\tMean: 73.82242990654206\n",
            "\t\tMedian: 70.0\n",
            "\t\tStandard Deviation: 39.18721708311394\n",
            "\t\tRange: 220\n",
            "\tsp_attack:\n",
            "\t\tMean: 66.1214953271028\n",
            "\t\tMedian: 65.0\n",
            "\t\tStandard Deviation: 27.799046502032184\n",
            "\t\tRange: 155\n",
            "\tsp_defense:\n",
            "\t\tMean: 74.33644859813084\n",
            "\t\tMedian: 65.0\n",
            "\t\tStandard Deviation: 31.505897598623886\n",
            "\t\tRange: 210\n",
            "\tspeed:\n",
            "\t\tMean: 61.51401869158879\n",
            "\t\tMedian: 60.0\n",
            "\t\tStandard Deviation: 27.307944965267204\n",
            "\t\tRange: 125\n",
            "\n",
            "Generation 3:\n",
            "\thp:\n",
            "\t\tMean: 66.80606060606061\n",
            "\t\tMedian: 65.0\n",
            "\t\tStandard Deviation: 23.96081581984224\n",
            "\t\tRange: 169\n",
            "\tattack:\n",
            "\t\tMean: 81.03030303030303\n",
            "\t\tMedian: 75.0\n",
            "\t\tStandard Deviation: 36.29695012424938\n",
            "\t\tRange: 165\n",
            "\tdefense:\n",
            "\t\tMean: 74.04848484848485\n",
            "\t\tMedian: 70.0\n",
            "\t\tStandard Deviation: 34.73485036684901\n",
            "\t\tRange: 210\n",
            "\tsp_attack:\n",
            "\t\tMean: 75.6\n",
            "\t\tMedian: 70.0\n",
            "\t\tStandard Deviation: 35.12882215989406\n",
            "\t\tRange: 170\n",
            "\tsp_defense:\n",
            "\t\tMean: 71.13939393939394\n",
            "\t\tMedian: 65.0\n",
            "\t\tStandard Deviation: 30.72674551387363\n",
            "\t\tRange: 180\n",
            "\tspeed:\n",
            "\t\tMean: 67.38181818181818\n",
            "\t\tMedian: 65.0\n",
            "\t\tStandard Deviation: 31.02624237941573\n",
            "\t\tRange: 170\n",
            "\n",
            "Generation 4:\n",
            "\thp:\n",
            "\t\tMean: 73.08264462809917\n",
            "\t\tMedian: 70.0\n",
            "\t\tStandard Deviation: 25.113604140936406\n",
            "\t\tRange: 130\n",
            "\tattack:\n",
            "\t\tMean: 82.86776859504133\n",
            "\t\tMedian: 80.0\n",
            "\t\tStandard Deviation: 32.7805689773582\n",
            "\t\tRange: 165\n",
            "\tdefense:\n",
            "\t\tMean: 78.13223140495867\n",
            "\t\tMedian: 72.0\n",
            "\t\tStandard Deviation: 30.1457410338399\n",
            "\t\tRange: 163\n",
            "\tsp_attack:\n",
            "\t\tMean: 76.40495867768595\n",
            "\t\tMedian: 71.0\n",
            "\t\tStandard Deviation: 31.907046899913478\n",
            "\t\tRange: 140\n",
            "\tsp_defense:\n",
            "\t\tMean: 77.1900826446281\n",
            "\t\tMedian: 75.0\n",
            "\t\tStandard Deviation: 27.498883022644993\n",
            "\t\tRange: 120\n",
            "\tspeed:\n",
            "\t\tMean: 71.33884297520662\n",
            "\t\tMedian: 77.0\n",
            "\t\tStandard Deviation: 28.475004746563332\n",
            "\t\tRange: 130\n",
            "\n",
            "Generation 5:\n",
            "\thp:\n",
            "\t\tMean: 72.29239766081871\n",
            "\t\tMedian: 70.0\n",
            "\t\tStandard Deviation: 22.605228457796464\n",
            "\t\tRange: 135\n",
            "\tattack:\n",
            "\t\tMean: 82.9766081871345\n",
            "\t\tMedian: 80.0\n",
            "\t\tStandard Deviation: 30.99145104443639\n",
            "\t\tRange: 145\n",
            "\tdefense:\n",
            "\t\tMean: 72.26900584795321\n",
            "\t\tMedian: 70.0\n",
            "\t\tStandard Deviation: 23.029089753791855\n",
            "\t\tRange: 113\n",
            "\tsp_attack:\n",
            "\t\tMean: 70.9298245614035\n",
            "\t\tMedian: 65.0\n",
            "\t\tStandard Deviation: 32.104531281309335\n",
            "\t\tRange: 155\n",
            "\tsp_defense:\n",
            "\t\tMean: 68.42690058479532\n",
            "\t\tMedian: 65.0\n",
            "\t\tStandard Deviation: 22.17123683266359\n",
            "\t\tRange: 110\n",
            "\tspeed:\n",
            "\t\tMean: 68.26315789473684\n",
            "\t\tMedian: 65.0\n",
            "\t\tStandard Deviation: 29.155481564590183\n",
            "\t\tRange: 135\n",
            "\n",
            "Generation 6:\n",
            "\thp:\n",
            "\t\tMean: 69.88235294117646\n",
            "\t\tMedian: 65.0\n",
            "\t\tStandard Deviation: 26.101638228419365\n",
            "\t\tRange: 178\n",
            "\tattack:\n",
            "\t\tMean: 77.18823529411765\n",
            "\t\tMedian: 70.0\n",
            "\t\tStandard Deviation: 29.833463999839037\n",
            "\t\tRange: 138\n",
            "\tdefense:\n",
            "\t\tMean: 77.02352941176471\n",
            "\t\tMedian: 70.0\n",
            "\t\tStandard Deviation: 31.20438631811554\n",
            "\t\tRange: 151\n",
            "\tsp_attack:\n",
            "\t\tMean: 75.25882352941177\n",
            "\t\tMedian: 65.0\n",
            "\t\tStandard Deviation: 32.44671563875606\n",
            "\t\tRange: 143\n",
            "\tsp_defense:\n",
            "\t\tMean: 75.2\n",
            "\t\tMedian: 71.0\n",
            "\t\tStandard Deviation: 29.647452311647765\n",
            "\t\tRange: 129\n",
            "\tspeed:\n",
            "\t\tMean: 68.0\n",
            "\t\tMedian: 62.0\n",
            "\t\tStandard Deviation: 26.783968197056844\n",
            "\t\tRange: 109\n",
            "\n",
            "Generation 7:\n",
            "\thp:\n",
            "\t\tMean: 71.46464646464646\n",
            "\t\tMedian: 70.0\n",
            "\t\tStandard Deviation: 27.217683751603637\n",
            "\t\tRange: 198\n",
            "\tattack:\n",
            "\t\tMean: 87.31313131313131\n",
            "\t\tMedian: 82.0\n",
            "\t\tStandard Deviation: 33.871801065809365\n",
            "\t\tRange: 161\n",
            "\tdefense:\n",
            "\t\tMean: 79.20202020202021\n",
            "\t\tMedian: 75.0\n",
            "\t\tStandard Deviation: 32.38763300068936\n",
            "\t\tRange: 191\n",
            "\tsp_attack:\n",
            "\t\tMean: 77.84848484848484\n",
            "\t\tMedian: 71.0\n",
            "\t\tStandard Deviation: 35.63315460164261\n",
            "\t\tRange: 153\n",
            "\tsp_defense:\n",
            "\t\tMean: 75.55555555555556\n",
            "\t\tMedian: 73.0\n",
            "\t\tStandard Deviation: 28.727510182225\n",
            "\t\tRange: 117\n",
            "\tspeed:\n",
            "\t\tMean: 67.84848484848484\n",
            "\t\tMedian: 63.0\n",
            "\t\tStandard Deviation: 31.261361570998904\n",
            "\t\tRange: 146\n"
          ]
        }
      ]
    },
    {
      "cell_type": "markdown",
      "source": [
        "Comparing these statistics across generations, we can gain insights into how the average and distribution of base stats have changed over time. For instance, we might observe if the average HP (mean) for Pokemon increases or decreases with each generation, or if the range of Speed values becomes wider or narrower across generations."
      ],
      "metadata": {
        "id": "X19mKZNDAWkH"
      }
    },
    {
      "cell_type": "markdown",
      "source": [
        "### Visualization"
      ],
      "metadata": {
        "id": "EMAfMXPnAXhj"
      }
    },
    {
      "cell_type": "markdown",
      "source": [
        "The visualization would employ box plots to effectively portray the distribution of each base stat (HP, Attack, Defense, Sp. Atk, Sp. Def, Speed) across generations. Each box plot would represent the distribution of a specific stat for Pokemon introduced in each generation.\n",
        "\n",
        "\n",
        "\n",
        "*   X-axis: This axis would represent the different generations of Pokemon.\n",
        "*   Y-axis: This axis would represent the values of each base stat.\n",
        "*   Box: The box in each plot would depict the interquartile range (IQR), which encompasses the middle 50% of the data points. The bottom and top edges of the box represent the first and third quartiles (Q1 and Q3), respectively.\n",
        "*   Median: The line inside the box indicates the median value, which divides the data into two halves with an equal number of data points above and below it.\n",
        "*   Whiskers: The whiskers extend from the top and bottom of the box, typically up to 1.5 times the IQR. They represent the range of data points that fall outside the interquartile range but are not considered outliers.\n",
        "*   Outliers: Data points beyond the whiskers are considered outliers and are depicted as individual points outside the box plot."
      ],
      "metadata": {
        "id": "AybRk1QzAZin"
      }
    },
    {
      "cell_type": "code",
      "source": [
        "# Create a figure\n",
        "plt.figure(figsize=(12, 8))\n",
        "\n",
        "# Loop through each base stat\n",
        "for i, stat in enumerate(selected_columns[1:], 1):\n",
        "  # Create a subplot for each stat\n",
        "  ax = plt.subplot(2, 3, i)\n",
        "  sns.boxplot(\n",
        "      x=\"generation\",\n",
        "      y=stat,\n",
        "      showmeans=True,\n",
        "      data=dist_df\n",
        "  )\n",
        "  # Set plot title and labels\n",
        "  ax.set_title(f\"{stat} Distribution by Generation\")\n",
        "  ax.set_xlabel(\"Generation\")\n",
        "  ax.set_ylabel(stat)\n",
        "\n",
        "# Adjust layout and display the plot\n",
        "plt.tight_layout()\n",
        "plt.show()\n"
      ],
      "metadata": {
        "id": "wKi5s_EHAaKe",
        "colab": {
          "base_uri": "https://localhost:8080/"
        },
        "outputId": "7422e05a-6eda-44ef-d2d5-7c752958ff93"
      },
      "execution_count": null,
      "outputs": [
        {
          "output_type": "display_data",
          "data": {
            "text/plain": [
              "<Figure size 1200x800 with 6 Axes>"
            ],
            "image/png": "[encoded data removed]"
          },
          "metadata": {}
        }
      ]
    },
    {
      "cell_type": "markdown",
      "source": [
        "By examining the box plots, we can visually compare the central tendency (median) and spread (IQR and whiskers) of each base stat across different generations. This allows for an easier identification of trends and potential changes in the distribution of these stats throughout the Pokemon franchise's history.explain"
      ],
      "metadata": {
        "id": "zLJlaA4sAaWz"
      }
    },
    {
      "cell_type": "markdown",
      "source": [
        "## **Question 4:** Is there a relationship between a Pokemon's generation and its stats?"
      ],
      "metadata": {
        "id": "dLPzLDnyAd5r"
      }
    },
    {
      "cell_type": "markdown",
      "source": [
        "### Numerical Summary"
      ],
      "metadata": {
        "id": "ZmRzbyLqAd5x"
      }
    },
    {
      "cell_type": "markdown",
      "source": [
        "\n",
        "Statistical measures like central tendency (mean, median, mode) and spread (standard deviation, range) offer key insights into Pokémon stats, revealing patterns in strength and diversity across generations. The mean shows the average stat value, highlighting overall trends in Pokémon power. The median points to the central value, helping identify typical strengths, while the mode indicates the most common stat, shedding light on prevalent characteristics. Standard deviation and range explore the variability among Pokémon, with high values indicating a wide range of abilities and suggesting rich strategic diversity in the game. Together, these statistics provide a nuanced view of Pokémon attributes, enhancing our understanding of their evolution and impact on gameplay.\n",
        "\n",
        "* Central Tendency\n",
        "  * Mean: The average value of each stat provides a general idea of the typical stat value for Pokémon in the dataset or within specific categories (e.g., generations, legendary status). A higher mean in stats like HP, Attack, or  Speed for certain generations might indicate that Pokémon from those generations are generally stronger or faster on average.\n",
        "  * Median: The median gives an insight into the middle value of the dataset for each stat, helping to understand the distribution by indicating the point at which half of the observations fall above and half fall below. This is particularly useful in skewed distributions where the mean might be misleading.\n",
        "  * Mode: The most frequently occurring value in the dataset for each stat. While not always applicable to continuous data like Pokémon stats, the mode can be useful in categorical data or discrete data analyses.\n",
        "* Spread\n",
        "  * Standard Deviation: This measures the amount of variation or dispersion of a set of values. A high standard deviation for a stat across generations could suggest that there is a wide variety of strengths and weaknesses among Pokémon in that generation, indicating diverse game design and strategy.\n",
        "  * Range: The difference between the highest and lowest values. A wide range in stats like Attack or Defense could indicate the presence of both very powerful and very weak Pokémon within a generation or category, highlighting the diversity in Pokémon characteristics.\n"
      ],
      "metadata": {
        "id": "8Qvz9ti0Ad5x"
      }
    },
    {
      "cell_type": "code",
      "source": [
        "selected_columns = [\"generation\", \"hp\", \"attack\", \"defense\", \"sp_attack\", \"sp_defense\", \"speed\"]\n",
        "rel_df = study_df[selected_columns]\n",
        "\n",
        "def calculate_stats(data, stat_name):\n",
        "    return {\n",
        "        \"mean\": data.mean(),\n",
        "        \"median\": data.median(),\n",
        "        \"std\": data.std(),\n",
        "        \"range\": data.max() - data.min()\n",
        "    }\n",
        "\n",
        "\n",
        "stats_by_stat = {}\n",
        "\n",
        "\n",
        "for stat in selected_columns[1:]:\n",
        "    stats_by_stat[stat] = calculate_stats(rel_df[stat], stat)\n",
        "\n",
        "\n",
        "print(\"Overall Statistics:\")\n",
        "for stat, stats in stats_by_stat.items():\n",
        "    print(f\"{stat}:\")\n",
        "    print(f\"  Mean: {stats['mean']:.2f}\")\n",
        "    print(f\"  Median: {stats['median']}\")\n",
        "    print(f\"  Standard Deviation: {stats['std']:.2f}\")\n",
        "    print(f\"  Range: {stats['range']}\")\n"
      ],
      "metadata": {
        "id": "BdyB5zqTAd5x",
        "colab": {
          "base_uri": "https://localhost:8080/"
        },
        "outputId": "4cab97f3-3ee6-42b8-b8a9-f257210cb407"
      },
      "execution_count": null,
      "outputs": [
        {
          "output_type": "stream",
          "name": "stdout",
          "text": [
            "Overall Statistics:\n",
            "hp:\n",
            "  Mean: 70.07\n",
            "  Median: 68.0\n",
            "  Standard Deviation: 26.67\n",
            "  Range: 254\n",
            "attack:\n",
            "  Mean: 80.48\n",
            "  Median: 77.0\n",
            "  Standard Deviation: 32.43\n",
            "  Range: 185\n",
            "defense:\n",
            "  Mean: 74.67\n",
            "  Median: 70.0\n",
            "  Standard Deviation: 31.26\n",
            "  Range: 245\n",
            "sp_attack:\n",
            "  Mean: 73.03\n",
            "  Median: 65.0\n",
            "  Standard Deviation: 32.75\n",
            "  Range: 184\n",
            "sp_defense:\n",
            "  Mean: 72.30\n",
            "  Median: 70.0\n",
            "  Standard Deviation: 28.10\n",
            "  Range: 230\n",
            "speed:\n",
            "  Mean: 68.81\n",
            "  Median: 65.0\n",
            "  Standard Deviation: 30.21\n",
            "  Range: 195\n"
          ]
        }
      ]
    },
    {
      "cell_type": "markdown",
      "source": [
        "**Across Generations:** If the mean and median values of stats such as HP, Attack, and Speed gradually increase across generations, this could suggest that newer Pokémon are designed to be stronger or faster, possibly reflecting changes in game design philosophy or an intention to keep the game challenging for players.\n",
        "\n",
        "**Legendary Status:** A significantly higher mean and lower standard deviation in stats for Legendary Pokémon compared to Non-Legendary ones would highlight their intended role as exceptionally powerful creatures within the game. The lower standard deviation suggests that Legendary Pokémon consistently maintain high stats, underscoring their rarity and strength.\n",
        "\n",
        "**Predicting Generation:** If certain generations have distinctive statistical signatures—such as a particular generation having consistently higher Speed stats—this could potentially be used as a predictive feature in modeling. However, significant overlap in the range and standard deviation of stats across generations might indicate that predicting a Pokémon's generation based on stats alone could be challenging without more distinct or additional features."
      ],
      "metadata": {
        "id": "P5onMjv8Ad5x"
      }
    },
    {
      "cell_type": "markdown",
      "source": [
        "### Visualization"
      ],
      "metadata": {
        "id": "S7EBI1SiAd5x"
      }
    },
    {
      "cell_type": "markdown",
      "source": [
        "The box plot offers a concise visual representation of how Pokémon stats vary across different generations. Each box illustrates the distribution of stats, with the line inside representing the median value. The whiskers show the range of the data, while outliers are indicated as individual points beyond the whiskers. This visualization facilitates a comparative analysis of stats between generations, aiding in identifying trends and potential patterns that may assist in predicting a Pokémon's generation based on its stats."
      ],
      "metadata": {
        "id": "-QSOjF0zAd5x"
      }
    },
    {
      "cell_type": "code",
      "source": [
        "melted_df = study_df.melt(id_vars=[\"generation\"], value_vars=[\"hp\", \"attack\", \"defense\", \"sp_attack\", \"sp_defense\", \"speed\"],\n",
        "                    var_name=\"Stat\", value_name=\"Value\")\n",
        "\n",
        "plt.figure(figsize=(12, 6))\n",
        "sns.boxplot(data=melted_df, x=\"Stat\", y=\"Value\", hue=\"generation\")\n",
        "plt.title(\"Distribution of Overall Pokémon Stats Across Generations\")\n",
        "plt.ylabel(\"Stat Value\")\n",
        "plt.xlabel(\"Stat Type\")\n",
        "plt.legend(title=\"Generation\", bbox_to_anchor=(1.05, 1), loc='upper left')\n",
        "plt.tight_layout()\n",
        "\n",
        "plt.show()\n"
      ],
      "metadata": {
        "id": "rY6yNRRDAd5y",
        "colab": {
          "base_uri": "https://localhost:8080/"
        },
        "outputId": "8aa16091-792e-45f8-b98e-19051c1db463"
      },
      "execution_count": null,
      "outputs": [
        {
          "output_type": "display_data",
          "data": {
            "text/plain": [
              "<Figure size 1200x600 with 1 Axes>"
            ],
            "image/png": "[encoded data removed]"
          },
          "metadata": {}
        }
      ]
    },
    {
      "cell_type": "markdown",
      "source": [
        "The box plot visualization succinctly illustrates the evolution and variability of Pokémon stats—HP, Attack, Defense, Sp. Attack, Sp. Defense, and Speed—across generations. It reveals trends in stat distribution, such as increases or decreases in median values, indicating shifts in gameplay strategy or game design over time. By comparing stats within generations, it highlights which attributes are emphasized and the strategic diversity offered by the Pokémon roster. Outliers point to exceptional Pokémon that deviate from the norm, showcasing design choices for unique gameplay experiences. The spread and range of the box plots reflect the diversity of Pokémon strengths and weaknesses within each generation, underscoring the series' evolving complexity and depth. This visualization offers valuable insights into the strategic and design philosophies guiding the Pokémon series, making it a useful tool for players and enthusiasts alike to understand the dynamics at play across different eras of the franchise."
      ],
      "metadata": {
        "id": "LGPhnALPAd5y"
      }
    },
    {
      "cell_type": "markdown",
      "source": [
        "# **Research Question: Can we predict a Pokémon's generation based on its stats?**\n"
      ],
      "metadata": {
        "id": "cFbDndJ3ZueU"
      }
    },
    {
      "cell_type": "markdown",
      "source": [
        "This research question extends the EDA's questions exploration into predictive modeling. We will be taking the exploration into stats and generations further by attempting predictions based on observed patterns within these variables.\n",
        "\n",
        "Our exploration revealed that throughout the years, there have been trends of changes in stats between generations, such as increases or decreases in median values, indicating shifts in game development and design philosophies over time. We compared stats within generations and it highlighted which attributes are emphasized and the difference of intended strategies per generation.\n",
        "\n",
        "This research question is significant as it offers the opportunity to uncover the underlying mechanisms driving the evolution and design of Pokémon across different generations. Additionally, it has practical implications for game developers, researchers, and players interested in understanding the design philosophy and gameplay balancing of a successful franchise and how it evolved over the year, possibly to expound on it or create other variations of the idea."
      ],
      "metadata": {
        "id": "AUcTtSS_yFNz"
      }
    },
    {
      "cell_type": "markdown",
      "source": [
        "# **Data Pre-Processing**"
      ],
      "metadata": {
        "id": "ODDDPWL-lsZT"
      }
    },
    {
      "cell_type": "markdown",
      "source": [
        "`preprocess_df` will first be created out of the needed variables of `study_df`. The needed variables are the target variable, `generation`, and the input variables, which will be all of the stats variables."
      ],
      "metadata": {
        "id": "gixUM53JlwPN"
      }
    },
    {
      "cell_type": "markdown",
      "source": [
        "The following data pre-processing steps will be applied:\n",
        "\n",
        "*   Replace Eternatus Eternamax's `growth_rate`, the only NaN value, with `0`\n",
        "*   Convert `growth_rate` into numerical values\n",
        "*   Separate input variables (stats) from the target variable (`generation`)\n",
        "*   Scale numerical variables using mean centering\n",
        "*   Split the dataset into training and testing sets\n",
        "\n"
      ],
      "metadata": {
        "id": "EDJ-cdF6rb39"
      }
    },
    {
      "cell_type": "code",
      "source": [
        "from sklearn.model_selection import train_test_split\n",
        "\n",
        "preprocess_df = study_df[['pokedex_number', 'name', 'generation', 'total_points', 'hp', 'attack', 'defense', 'sp_attack', 'sp_defense', 'speed', 'catch_rate', 'base_experience', 'growth_rate']].copy()\n",
        "preprocess_df\n",
        "\n",
        "# Replace Eternatus Eternamax's 'growth_rate' value with 0\n",
        "preprocess_df.fillna(0, inplace=True)\n",
        "\n",
        "growth_rate_mapping = {\n",
        "    'Erratic': 6,\n",
        "    'Fast': 5,\n",
        "    'Medium Fast': 4,\n",
        "    'Medium Slow': 3,\n",
        "    'Slow': 2,\n",
        "    'Fluctuating': 1\n",
        "}\n",
        "\n",
        "# Convert 'growth_rate' into numerical values\n",
        "preprocess_df['growth_rate'] = preprocess_df['growth_rate'].map(growth_rate_mapping)\n",
        "\n",
        "# Separate input variables from the target variable\n",
        "X = preprocess_df.drop(columns=['generation'])\n",
        "y = preprocess_df['generation']\n",
        "\n",
        "# Scale numerical variables using mean centering\n",
        "numerical_features = [col for col in X.columns if X[col].dtype != 'object']\n",
        "X_scaled = X.copy()\n",
        "for column in numerical_features:\n",
        "    mean_val = X[column].mean()\n",
        "    X_scaled[column] = X[column] - mean_val  # Subtract the mean value\n",
        "\n",
        "# Split the dataset into training and testing sets\n",
        "X_train, X_test, y_train, y_test = train_test_split(X_scaled, y, test_size=0.2, random_state=42)\n",
        "\n",
        "# Verify correct splitting\n",
        "print(\"X_train shape:\", X_train.shape)\n",
        "print(\"X_test shape:\", X_test.shape)\n",
        "print(\"y_train shape:\", y_train.shape)\n",
        "print(\"y_test shape:\", y_test.shape)"
      ],
      "metadata": {
        "colab": {
          "base_uri": "https://localhost:8080/"
        },
        "id": "AJeIk5CwsWLt",
        "outputId": "9bc8b61e-4db7-42dd-8f04-0146b8b79877"
      },
      "execution_count": null,
      "outputs": [
        {
          "output_type": "stream",
          "name": "stdout",
          "text": [
            "X_train shape: (836, 12)\n",
            "X_test shape: (209, 12)\n",
            "y_train shape: (836,)\n",
            "y_test shape: (209,)\n"
          ]
        }
      ]
    },
    {
      "cell_type": "markdown",
      "source": [
        "# **Data Modelling**"
      ],
      "metadata": {
        "id": "o5jzdJTEi1j2"
      }
    },
    {
      "cell_type": "markdown",
      "source": [
        "**Model Selected:** Random Forests\n",
        "\n",
        "Model_df Creation: A new DataFrame, model_df, is created from the preprocessed\n",
        "\n",
        "*   Create a list of feature names, excluding `name`. This is because `name` is a categorical variable that doesn't contribute to the model's ability to predict the generation of a Pokémon.\n",
        "\n",
        "*   Extract the feature matrix with the `name` column excluded. This matrix, `X_train_subset` and `X_test_subset`, contains the values of the features that the model will learn from.\n",
        "\n",
        "*   Instantiate: `RandomForestClassifier`. This is the model used for training and prediction.\n",
        "\n",
        "  *   Training: Fit the `RandomForestClassifier` on the training data. This is where the model learns the patterns in the data.\n",
        "\n",
        "  *   Prediction: Use the trained `RandomForestClassifier` to make predictions on the test set. These predictions will be compared to the actual values to evaluate the model's performance.\n",
        "\n",
        "\n",
        "*   Evaluate the model using `accuracy_score`, `classification_report`, and `confusion_matrix`\n",
        "\n",
        "\n",
        "*   Compile the results in a DataFrame, which includes the Pokémon's name, its actual generation, and the generation predicted by the model.\n",
        "\n",
        "\n",
        "\n",
        "   Once done, we filter the DataFrame to show only the Pokémon that were incorrectly classified, sort them by the actual generation, and display the sorted DataFrame. This gives us insights into where our model is making mistakes."
      ],
      "metadata": {
        "id": "RZFa1klHOMzg"
      }
    },
    {
      "cell_type": "code",
      "source": [
        "from sklearn.ensemble import RandomForestClassifier\n",
        "from sklearn.metrics import accuracy_score, classification_report, confusion_matrix\n",
        "\n",
        "# Create a list of feature names excluding 'name'\n",
        "feature_names = X_train.columns[X_train.columns != 'name']\n",
        "\n",
        "# Extract the feature matrix with the 'name' column excluded\n",
        "X_train_subset = X_train[feature_names]\n",
        "X_test_subset = X_test[feature_names]\n",
        "\n",
        "# Instantiation of learning model\n",
        "rf = RandomForestClassifier(random_state=42)\n",
        "\n",
        "# fit the decision tree on the training data\n",
        "rf.fit(X_train_subset, y_train)\n",
        "\n",
        "# Make predictions on the test set using the trained model\n",
        "y_pred_tree = rf.predict(X_test_subset)\n",
        "\n",
        "# Evaluate the Random Forest model\n",
        "accuracy_tree = accuracy_score(y_test, y_pred_tree)\n",
        "conf_matrix_tree = confusion_matrix(y_test, y_pred_tree)\n",
        "classification_rep_tree = classification_report(y_test, y_pred_tree)\n",
        "\n",
        "print(f\"Random Forest Accuracy: {accuracy_tree}\")\n",
        "print(f\"\\nRandom Forest Confusion Matrix:\\n{conf_matrix_tree}\")\n",
        "print(f\"\\nRandom Forest Classification Report:\\n{classification_rep_tree}\")\n",
        "\n",
        "results_df = pd.DataFrame({\n",
        "    'Name': X_test['name'],\n",
        "    'Actual Generation': y_test,\n",
        "    'Predicted Generation': y_pred_tree\n",
        "})\n",
        "\n",
        "# Filter the dataframe to show only the incorrectly classified Pokémon\n",
        "incorrectly_classified_df = results_df[results_df['Actual Generation'] != results_df['Predicted Generation']]\n",
        "\n",
        "# Sort the dataframe by the actual generation\n",
        "incorrectly_classified_df_sorted = incorrectly_classified_df.sort_values(by='Actual Generation')\n",
        "\n",
        "# Display the sorted dataframe\n",
        "print(f\"Incorrectly Classified Pokemon:\\n{incorrectly_classified_df_sorted}\")"
      ],
      "metadata": {
        "colab": {
          "base_uri": "https://localhost:8080/"
        },
        "id": "D02S5zN3FkH_",
        "outputId": "1dc65fa6-04d5-42b3-aaee-b4809b9ac099"
      },
      "execution_count": null,
      "outputs": [
        {
          "output_type": "stream",
          "name": "stdout",
          "text": [
            "Random Forest Accuracy: 0.9712918660287081\n",
            "\n",
            "Random Forest Confusion Matrix:\n",
            "[[38  0  0  0  0  0  0  1]\n",
            " [ 0 21  0  0  0  0  0  0]\n",
            " [ 0  1 37  0  0  0  0  0]\n",
            " [ 0  0  1 20  0  0  0  0]\n",
            " [ 0  0  0  0 34  0  0  0]\n",
            " [ 0  0  0  0  1 16  0  0]\n",
            " [ 0  0  0  0  0  0 20  1]\n",
            " [ 1  0  0  0  0  0  0 17]]\n",
            "\n",
            "Random Forest Classification Report:\n",
            "              precision    recall  f1-score   support\n",
            "\n",
            "           1       0.97      0.97      0.97        39\n",
            "           2       0.95      1.00      0.98        21\n",
            "           3       0.97      0.97      0.97        38\n",
            "           4       1.00      0.95      0.98        21\n",
            "           5       0.97      1.00      0.99        34\n",
            "           6       1.00      0.94      0.97        17\n",
            "           7       1.00      0.95      0.98        21\n",
            "           8       0.89      0.94      0.92        18\n",
            "\n",
            "    accuracy                           0.97       209\n",
            "   macro avg       0.97      0.97      0.97       209\n",
            "weighted avg       0.97      0.97      0.97       209\n",
            "\n",
            "Incorrectly Classified Pokemon:\n",
            "                 Name  Actual Generation  Predicted Generation\n",
            "184          Articuno                  1                     8\n",
            "305           Treecko                  3                     2\n",
            "479            Starly                  4                     3\n",
            "764        Chesnaught                  6                     5\n",
            "944            Meltan                  7                     8\n",
            "107  Galarian Slowbro                  8                     1\n"
          ]
        }
      ]
    },
    {
      "cell_type": "markdown",
      "source": [
        "# **Statistical Inference (BASED ON THE MODEL)**\n",
        "\n",
        "\n",
        "\n",
        "\n",
        "\n",
        "\n",
        "\n",
        "\n",
        "\n",
        "\n"
      ],
      "metadata": {
        "id": "7loG4aDTi6-X"
      }
    },
    {
      "cell_type": "markdown",
      "source": [
        "**Null Hypothesis:** There is no significant relationship between predicted and actual generations.\n",
        "\n",
        "**Alternative Hypothesis:** There is a significant relationship between predicted and actual generations.\n",
        "\n",
        "**Statistical Test:** Test of Independence, 2 categorical variables\n",
        "\n",
        "**Determine Significance Level:** 0.05\n"
      ],
      "metadata": {
        "id": "Tp2kOjJ3wDN-"
      }
    },
    {
      "cell_type": "code",
      "source": [
        "from scipy.stats import chi2_contingency\n",
        "\n",
        "# Create a contingency table\n",
        "contingency_table = pd.crosstab(results_df['Predicted Generation'], results_df['Actual Generation'])\n",
        "\n",
        "# Perform chi-square test of independence\n",
        "chi2, p_value, *_ = chi2_contingency(contingency_table)\n",
        "\n",
        "# Define significance level\n",
        "alpha = 0.05\n",
        "\n",
        "# Print chi-square statistic and p-value\n",
        "print(f\"Chi-square statistic: {chi2}\")\n",
        "print(f\"P-value: {p_value}\")\n",
        "\n",
        "# Compare p-value to significance level\n",
        "if p_value < alpha:\n",
        "    print(\"Reject null hypothesis: There is a significant relationship between predicted and actual generations.\")\n",
        "else:\n",
        "    print(\"Fail to reject null hypothesis: There is no significant relationship between predicted and actual generations.\")\n"
      ],
      "metadata": {
        "id": "m1fPtjElvs6L",
        "colab": {
          "base_uri": "https://localhost:8080/"
        },
        "outputId": "4a78e8d2-eda5-49b3-b37d-ec5316cbbb2d"
      },
      "execution_count": null,
      "outputs": [
        {
          "output_type": "stream",
          "name": "stdout",
          "text": [
            "Chi-square statistic: 1363.4717475806542\n",
            "P-value: 2.6960269269536796e-253\n",
            "Reject null hypothesis: There is a significant relationship between predicted and actual generations.\n"
          ]
        }
      ]
    },
    {
      "cell_type": "markdown",
      "source": [
        "# **Statistical Inference**"
      ],
      "metadata": {
        "id": "Jl94kBkIyPzT"
      }
    },
    {
      "cell_type": "markdown",
      "source": [
        "**Null Hypothesis:** There is no relationship between a Pokémon's stats and its generation. the stats of a Pokémon do not provide any information about which generation it belongs to.\n",
        "\n",
        "**Alternative Hypothesis:** There is a relationship between a Pokémon's stats and its generation. The stats of a Pokémon can be used to predict which generation it belongs to.\n",
        "\n",
        "**Statistical Test:** ANOVA, testing one categorical variable(generation) and one numeric variable(total_points)\n",
        "\n",
        "**Determine Significance Level:** 0.05"
      ],
      "metadata": {
        "id": "H_u9dkuFyVVi"
      }
    },
    {
      "cell_type": "code",
      "source": [
        "from scipy.stats import f_oneway\n",
        "\n",
        "# Perform one-way ANOVA\n",
        "f_statistic, p_value = f_oneway(*[preprocess_df[preprocess_df['generation'] == gen]['total_points'] for gen in preprocess_df['generation'].unique()])\n",
        "\n",
        "# Print results\n",
        "print(f\"F-statistic: {f_statistic}\")\n",
        "print(f\"P-value: {p_value}\")\n",
        "\n",
        "# Compare p-value to significance level\n",
        "alpha = 0.05\n",
        "if p_value < alpha:\n",
        "    print(\"Reject null hypothesis: There is a significant relationship between generation and total points.\")\n",
        "else:\n",
        "    print(\"Fail to reject null hypothesis: There is no significant relationship between generation and total points.\")\n"
      ],
      "metadata": {
        "colab": {
          "base_uri": "https://localhost:8080/"
        },
        "id": "rzhWu-3iyXiL",
        "outputId": "1949109e-8b2f-41de-effa-6f7918bac1bc"
      },
      "execution_count": null,
      "outputs": [
        {
          "output_type": "stream",
          "name": "stdout",
          "text": [
            "F-statistic: 2.0186004942084157\n",
            "P-value: 0.04997508329166387\n",
            "Reject null hypothesis: There is a significant relationship between generation and total points.\n"
          ]
        }
      ]
    },
    {
      "cell_type": "markdown",
      "source": [
        "# **Insights and Conclusions**\n",
        "\n",
        "**Predictive Modeling**\n",
        "\n",
        "The Random Forest model demonstrated a remarkable accuracy of 97.13% in predicting Pokémon generations based on stats, highlighting the strong predictive power of statistical data in determining generational attributes.\n",
        "\n",
        "**Statistical Inference**\n",
        "\n",
        "The study utilized two main statistical tests:\n",
        "\n",
        "*  The **chi-square test** yielded a statistic of 1363.47 with a p-value of approximately 2.696 × 10^-253, strongly rejecting the null hypothesis and indicating a significant relationship between predicted and actual generations.\n",
        "\n",
        "*   The **ANOVA test** showed an F-statistic of 2.0186 and a p-value of 0.049975, further supporting the hypothesis that Pokémon stats are significantly related to their generation.\n",
        "\n",
        "**Discussion**\n",
        "\n",
        "The study's findings underscore the effectiveness of using Pokémon stats for generational prediction, reflecting the franchise's evolutionary game design strategies. These insights have profound implications for game developers, players, and researchers, offering a deeper understanding of the dynamics at play in the Pokémon series.\n",
        "\n",
        "**Implications**\n",
        "\n",
        "*   **Game Development and Design:** These findings offer insights into how Pokémon design philosophies have evolved across generations, highlighting shifts in emphasis on different stats. Game developers and designers can use this knowledge to create balanced and engaging future generations of Pokémon.\n",
        "\n",
        "*   **Strategic Gameplay:** Players and enthusiasts can leverage these insights for strategic team building, especially in competitive play where understanding generational strengths and weaknesses could be pivotal.\n",
        "\n",
        "*   **Future Research:** While the current model demonstrates high predictive accuracy, further research could explore more nuanced relationships within the data, including how specific stats or other Pokémon characteristics like type or abilities contribute to generational differences.\n",
        "\n",
        "**Conclusion**\n",
        "\n",
        "In conclusion, the statistical and modeling analyses conducted provide strong evidence that a Pokémon's generation can be predicted based on its stats. This conclusion not only answers the research question affirmatively but also opens up avenues for deeper exploration into the dynamics of game development, strategic gameplay, and the cultural impact of the Pokémon franchise."
      ],
      "metadata": {
        "id": "sIUtG6HnkK4B"
      }
    }
  ]
}